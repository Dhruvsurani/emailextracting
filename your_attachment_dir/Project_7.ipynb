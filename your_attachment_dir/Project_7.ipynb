{
 "cells": [
  {
   "cell_type": "markdown",
   "id": "52ece5fe",
   "metadata": {},
   "source": [
    "# Python ML Classification Project Loan applicant’s risk classification KNN"
   ]
  },
  {
   "cell_type": "raw",
   "id": "60528a2f",
   "metadata": {},
   "source": [
    "Project Description:\n",
    "In this particular project, we are using a dataset that contains information like,\n",
    "Age, Total Work Experience, number of years in city, cost to request ratio etc\n",
    "and using that to classify loan applicant’s Risk segmentation. "
   ]
  },
  {
   "cell_type": "code",
   "execution_count": 3,
   "id": "209ceba3",
   "metadata": {},
   "outputs": [],
   "source": [
    "import pandas as pd\n",
    "import numpy as np\n",
    "import matplotlib.pyplot as plt\n",
    "import seaborn as sns"
   ]
  },
  {
   "cell_type": "code",
   "execution_count": 4,
   "id": "73bfbd23",
   "metadata": {},
   "outputs": [
    {
     "name": "stdout",
     "output_type": "stream",
     "text": [
      "D:\\Data Science\\Project\\P7\n"
     ]
    }
   ],
   "source": [
    "cd D:\\Data Science\\Project\\P7"
   ]
  },
  {
   "cell_type": "code",
   "execution_count": 9,
   "id": "3ca944ec",
   "metadata": {},
   "outputs": [],
   "source": [
    "df=pd.read_excel(\"Python_Project_7_KNN.xlsx\")"
   ]
  },
  {
   "cell_type": "markdown",
   "id": "1b6da2b5",
   "metadata": {},
   "source": [
    "# Part-1: Data Exploration and Pre-processing"
   ]
  },
  {
   "cell_type": "markdown",
   "id": "9a8816dc",
   "metadata": {},
   "source": [
    "## 1) load the given dataset"
   ]
  },
  {
   "cell_type": "code",
   "execution_count": 10,
   "id": "5263c71a",
   "metadata": {},
   "outputs": [
    {
     "data": {
      "text/html": [
       "<div>\n",
       "<style scoped>\n",
       "    .dataframe tbody tr th:only-of-type {\n",
       "        vertical-align: middle;\n",
       "    }\n",
       "\n",
       "    .dataframe tbody tr th {\n",
       "        vertical-align: top;\n",
       "    }\n",
       "\n",
       "    .dataframe thead th {\n",
       "        text-align: right;\n",
       "    }\n",
       "</style>\n",
       "<table border=\"1\" class=\"dataframe\">\n",
       "  <thead>\n",
       "    <tr style=\"text-align: right;\">\n",
       "      <th></th>\n",
       "      <th>Age</th>\n",
       "      <th>Total Work Experience</th>\n",
       "      <th>Number of years in city</th>\n",
       "      <th>Cost to Request Ratio</th>\n",
       "      <th>Cibil score</th>\n",
       "      <th>Overdrafts past12months</th>\n",
       "      <th>Total bounces past12months</th>\n",
       "    </tr>\n",
       "  </thead>\n",
       "  <tbody>\n",
       "    <tr>\n",
       "      <th>0</th>\n",
       "      <td>40.50</td>\n",
       "      <td>2</td>\n",
       "      <td>6</td>\n",
       "      <td>0.842666</td>\n",
       "      <td>594</td>\n",
       "      <td>0</td>\n",
       "      <td>0</td>\n",
       "    </tr>\n",
       "    <tr>\n",
       "      <th>1</th>\n",
       "      <td>41.25</td>\n",
       "      <td>5</td>\n",
       "      <td>2</td>\n",
       "      <td>0.791667</td>\n",
       "      <td>754</td>\n",
       "      <td>0</td>\n",
       "      <td>0</td>\n",
       "    </tr>\n",
       "    <tr>\n",
       "      <th>2</th>\n",
       "      <td>39.50</td>\n",
       "      <td>5</td>\n",
       "      <td>2</td>\n",
       "      <td>0.727273</td>\n",
       "      <td>779</td>\n",
       "      <td>0</td>\n",
       "      <td>0</td>\n",
       "    </tr>\n",
       "    <tr>\n",
       "      <th>3</th>\n",
       "      <td>35.00</td>\n",
       "      <td>1</td>\n",
       "      <td>4</td>\n",
       "      <td>0.820232</td>\n",
       "      <td>818</td>\n",
       "      <td>0</td>\n",
       "      <td>0</td>\n",
       "    </tr>\n",
       "    <tr>\n",
       "      <th>4</th>\n",
       "      <td>34.00</td>\n",
       "      <td>3</td>\n",
       "      <td>3</td>\n",
       "      <td>0.455581</td>\n",
       "      <td>853</td>\n",
       "      <td>0</td>\n",
       "      <td>1</td>\n",
       "    </tr>\n",
       "  </tbody>\n",
       "</table>\n",
       "</div>"
      ],
      "text/plain": [
       "     Age  Total Work Experience  Number of years in city  \\\n",
       "0  40.50                      2                        6   \n",
       "1  41.25                      5                        2   \n",
       "2  39.50                      5                        2   \n",
       "3  35.00                      1                        4   \n",
       "4  34.00                      3                        3   \n",
       "\n",
       "   Cost to Request Ratio  Cibil score  Overdrafts past12months  \\\n",
       "0               0.842666          594                        0   \n",
       "1               0.791667          754                        0   \n",
       "2               0.727273          779                        0   \n",
       "3               0.820232          818                        0   \n",
       "4               0.455581          853                        0   \n",
       "\n",
       "   Total bounces past12months  \n",
       "0                           0  \n",
       "1                           0  \n",
       "2                           0  \n",
       "3                           0  \n",
       "4                           1  "
      ]
     },
     "execution_count": 10,
     "metadata": {},
     "output_type": "execute_result"
    }
   ],
   "source": [
    "df.head()"
   ]
  },
  {
   "cell_type": "markdown",
   "id": "899ffb21",
   "metadata": {},
   "source": [
    "## 2) Check for the null values"
   ]
  },
  {
   "cell_type": "code",
   "execution_count": 15,
   "id": "79795858",
   "metadata": {},
   "outputs": [
    {
     "data": {
      "text/plain": [
       "Age                           0\n",
       "Total Work Experience         0\n",
       "Number of years in city       0\n",
       "Cost to Request Ratio         0\n",
       "Cibil score                   0\n",
       "Overdrafts past12months       0\n",
       "Total bounces past12months    0\n",
       "dtype: int64"
      ]
     },
     "execution_count": 15,
     "metadata": {},
     "output_type": "execute_result"
    }
   ],
   "source": [
    "df.isnull().sum()"
   ]
  },
  {
   "cell_type": "markdown",
   "id": "0d963975",
   "metadata": {},
   "source": [
    "## 3) Get basic information from data"
   ]
  },
  {
   "cell_type": "code",
   "execution_count": 11,
   "id": "8111202c",
   "metadata": {},
   "outputs": [
    {
     "name": "stdout",
     "output_type": "stream",
     "text": [
      "<class 'pandas.core.frame.DataFrame'>\n",
      "RangeIndex: 8995 entries, 0 to 8994\n",
      "Data columns (total 7 columns):\n",
      " #   Column                      Non-Null Count  Dtype  \n",
      "---  ------                      --------------  -----  \n",
      " 0   Age                         8995 non-null   float64\n",
      " 1   Total Work Experience       8995 non-null   int64  \n",
      " 2   Number of years in city     8995 non-null   int64  \n",
      " 3   Cost to Request Ratio       8995 non-null   float64\n",
      " 4   Cibil score                 8995 non-null   int64  \n",
      " 5   Overdrafts past12months     8995 non-null   int64  \n",
      " 6   Total bounces past12months  8995 non-null   int64  \n",
      "dtypes: float64(2), int64(5)\n",
      "memory usage: 492.0 KB\n"
     ]
    }
   ],
   "source": [
    "df.info()"
   ]
  },
  {
   "cell_type": "markdown",
   "id": "53fece4b",
   "metadata": {},
   "source": [
    "## 4) Describe the dataset"
   ]
  },
  {
   "cell_type": "code",
   "execution_count": 16,
   "id": "2ec628e7",
   "metadata": {},
   "outputs": [
    {
     "data": {
      "text/html": [
       "<div>\n",
       "<style scoped>\n",
       "    .dataframe tbody tr th:only-of-type {\n",
       "        vertical-align: middle;\n",
       "    }\n",
       "\n",
       "    .dataframe tbody tr th {\n",
       "        vertical-align: top;\n",
       "    }\n",
       "\n",
       "    .dataframe thead th {\n",
       "        text-align: right;\n",
       "    }\n",
       "</style>\n",
       "<table border=\"1\" class=\"dataframe\">\n",
       "  <thead>\n",
       "    <tr style=\"text-align: right;\">\n",
       "      <th></th>\n",
       "      <th>Age</th>\n",
       "      <th>Total Work Experience</th>\n",
       "      <th>Number of years in city</th>\n",
       "      <th>Cost to Request Ratio</th>\n",
       "      <th>Cibil score</th>\n",
       "      <th>Overdrafts past12months</th>\n",
       "      <th>Total bounces past12months</th>\n",
       "    </tr>\n",
       "  </thead>\n",
       "  <tbody>\n",
       "    <tr>\n",
       "      <th>count</th>\n",
       "      <td>8995.000000</td>\n",
       "      <td>8995.000000</td>\n",
       "      <td>8995.000000</td>\n",
       "      <td>8995.000000</td>\n",
       "      <td>8995.000000</td>\n",
       "      <td>8995.000000</td>\n",
       "      <td>8995.000000</td>\n",
       "    </tr>\n",
       "    <tr>\n",
       "      <th>mean</th>\n",
       "      <td>38.808202</td>\n",
       "      <td>2.131073</td>\n",
       "      <td>4.288160</td>\n",
       "      <td>0.831183</td>\n",
       "      <td>752.626570</td>\n",
       "      <td>0.322068</td>\n",
       "      <td>1.162757</td>\n",
       "    </tr>\n",
       "    <tr>\n",
       "      <th>std</th>\n",
       "      <td>10.203371</td>\n",
       "      <td>0.892141</td>\n",
       "      <td>1.269416</td>\n",
       "      <td>0.490216</td>\n",
       "      <td>67.645792</td>\n",
       "      <td>0.914998</td>\n",
       "      <td>2.352798</td>\n",
       "    </tr>\n",
       "    <tr>\n",
       "      <th>min</th>\n",
       "      <td>18.100000</td>\n",
       "      <td>1.000000</td>\n",
       "      <td>1.000000</td>\n",
       "      <td>0.008466</td>\n",
       "      <td>351.000000</td>\n",
       "      <td>0.000000</td>\n",
       "      <td>0.000000</td>\n",
       "    </tr>\n",
       "    <tr>\n",
       "      <th>25%</th>\n",
       "      <td>30.830000</td>\n",
       "      <td>1.000000</td>\n",
       "      <td>3.000000</td>\n",
       "      <td>0.662147</td>\n",
       "      <td>730.000000</td>\n",
       "      <td>0.000000</td>\n",
       "      <td>0.000000</td>\n",
       "    </tr>\n",
       "    <tr>\n",
       "      <th>50%</th>\n",
       "      <td>37.200000</td>\n",
       "      <td>2.000000</td>\n",
       "      <td>4.000000</td>\n",
       "      <td>0.800000</td>\n",
       "      <td>768.000000</td>\n",
       "      <td>0.000000</td>\n",
       "      <td>0.000000</td>\n",
       "    </tr>\n",
       "    <tr>\n",
       "      <th>75%</th>\n",
       "      <td>45.400000</td>\n",
       "      <td>3.000000</td>\n",
       "      <td>5.000000</td>\n",
       "      <td>0.930908</td>\n",
       "      <td>797.000000</td>\n",
       "      <td>0.000000</td>\n",
       "      <td>1.000000</td>\n",
       "    </tr>\n",
       "    <tr>\n",
       "      <th>max</th>\n",
       "      <td>83.800000</td>\n",
       "      <td>5.000000</td>\n",
       "      <td>6.000000</td>\n",
       "      <td>12.006623</td>\n",
       "      <td>882.000000</td>\n",
       "      <td>12.000000</td>\n",
       "      <td>12.000000</td>\n",
       "    </tr>\n",
       "  </tbody>\n",
       "</table>\n",
       "</div>"
      ],
      "text/plain": [
       "               Age  Total Work Experience  Number of years in city  \\\n",
       "count  8995.000000            8995.000000              8995.000000   \n",
       "mean     38.808202               2.131073                 4.288160   \n",
       "std      10.203371               0.892141                 1.269416   \n",
       "min      18.100000               1.000000                 1.000000   \n",
       "25%      30.830000               1.000000                 3.000000   \n",
       "50%      37.200000               2.000000                 4.000000   \n",
       "75%      45.400000               3.000000                 5.000000   \n",
       "max      83.800000               5.000000                 6.000000   \n",
       "\n",
       "       Cost to Request Ratio  Cibil score  Overdrafts past12months  \\\n",
       "count            8995.000000  8995.000000              8995.000000   \n",
       "mean                0.831183   752.626570                 0.322068   \n",
       "std                 0.490216    67.645792                 0.914998   \n",
       "min                 0.008466   351.000000                 0.000000   \n",
       "25%                 0.662147   730.000000                 0.000000   \n",
       "50%                 0.800000   768.000000                 0.000000   \n",
       "75%                 0.930908   797.000000                 0.000000   \n",
       "max                12.006623   882.000000                12.000000   \n",
       "\n",
       "       Total bounces past12months  \n",
       "count                 8995.000000  \n",
       "mean                     1.162757  \n",
       "std                      2.352798  \n",
       "min                      0.000000  \n",
       "25%                      0.000000  \n",
       "50%                      0.000000  \n",
       "75%                      1.000000  \n",
       "max                     12.000000  "
      ]
     },
     "execution_count": 16,
     "metadata": {},
     "output_type": "execute_result"
    }
   ],
   "source": [
    "df.describe()"
   ]
  },
  {
   "cell_type": "markdown",
   "id": "57c364c4",
   "metadata": {},
   "source": [
    "## 5) Display scatterplot between age & Total work Experience"
   ]
  },
  {
   "cell_type": "code",
   "execution_count": 42,
   "id": "047d923b",
   "metadata": {},
   "outputs": [
    {
     "data": {
      "text/plain": [
       "Text(0.5, 1.0, 'Age vs Total Work Experience')"
      ]
     },
     "execution_count": 42,
     "metadata": {},
     "output_type": "execute_result"
    },
    {
     "data": {
      "image/png": "[encoded data removed]",
      "text/plain": [
       "<Figure size 720x360 with 1 Axes>"
      ]
     },
     "metadata": {
      "needs_background": "light"
     },
     "output_type": "display_data"
    }
   ],
   "source": [
    "plt.figure(figsize=(10, 5))\n",
    "plt.scatter(df['Age'],df['Total Work Experience'])\n",
    "plt.xlabel(\"Age\")\n",
    "plt.ylabel(\"Total Work Experience\")\n",
    "plt.title(\"Age vs Total Work Experience\")"
   ]
  },
  {
   "cell_type": "markdown",
   "id": "235b5855",
   "metadata": {},
   "source": [
    "## 6) Display box plot for age"
   ]
  },
  {
   "cell_type": "code",
   "execution_count": 46,
   "id": "f61bdf06",
   "metadata": {},
   "outputs": [
    {
     "data": {
      "text/plain": [
       "{'whiskers': [<matplotlib.lines.Line2D at 0x1c91dc9c730>,\n",
       "  <matplotlib.lines.Line2D at 0x1c91dc9cd90>],\n",
       " 'caps': [<matplotlib.lines.Line2D at 0x1c91dc9c250>,\n",
       "  <matplotlib.lines.Line2D at 0x1c91dc9caf0>],\n",
       " 'boxes': [<matplotlib.lines.Line2D at 0x1c91dce1eb0>],\n",
       " 'medians': [<matplotlib.lines.Line2D at 0x1c91dc9c400>],\n",
       " 'fliers': [<matplotlib.lines.Line2D at 0x1c91dd0a7c0>],\n",
       " 'means': []}"
      ]
     },
     "execution_count": 46,
     "metadata": {},
     "output_type": "execute_result"
    },
    {
     "data": {
      "image/png": "[encoded data removed]",
      "text/plain": [
       "<Figure size 432x288 with 1 Axes>"
      ]
     },
     "metadata": {
      "needs_background": "light"
     },
     "output_type": "display_data"
    }
   ],
   "source": [
    "plt.boxplot(df['Age'])"
   ]
  },
  {
   "cell_type": "markdown",
   "id": "5201bb8e",
   "metadata": {},
   "source": [
    "## 7) Display box plot for Cibil score"
   ]
  },
  {
   "cell_type": "code",
   "execution_count": 48,
   "id": "1c21a04c",
   "metadata": {},
   "outputs": [
    {
     "data": {
      "text/plain": [
       "{'whiskers': [<matplotlib.lines.Line2D at 0x1c91dcf64c0>,\n",
       "  <matplotlib.lines.Line2D at 0x1c91dcf6dc0>],\n",
       " 'caps': [<matplotlib.lines.Line2D at 0x1c91dcf61f0>,\n",
       "  <matplotlib.lines.Line2D at 0x1c91dcf63a0>],\n",
       " 'boxes': [<matplotlib.lines.Line2D at 0x1c91dcf6250>],\n",
       " 'medians': [<matplotlib.lines.Line2D at 0x1c91dcd7970>],\n",
       " 'fliers': [<matplotlib.lines.Line2D at 0x1c91dcd76a0>],\n",
       " 'means': []}"
      ]
     },
     "execution_count": 48,
     "metadata": {},
     "output_type": "execute_result"
    },
    {
     "data": {
      "image/png": "[encoded data removed]",
      "text/plain": [
       "<Figure size 432x288 with 1 Axes>"
      ]
     },
     "metadata": {
      "needs_background": "light"
     },
     "output_type": "display_data"
    }
   ],
   "source": [
    "plt.boxplot(df['Cibil score'])"
   ]
  },
  {
   "cell_type": "markdown",
   "id": "19b335f4",
   "metadata": {},
   "source": [
    "## 8) Create target and features data where target is Total bounces past12months"
   ]
  },
  {
   "cell_type": "code",
   "execution_count": 54,
   "id": "4ab95059",
   "metadata": {},
   "outputs": [
    {
     "data": {
      "text/html": [
       "<div>\n",
       "<style scoped>\n",
       "    .dataframe tbody tr th:only-of-type {\n",
       "        vertical-align: middle;\n",
       "    }\n",
       "\n",
       "    .dataframe tbody tr th {\n",
       "        vertical-align: top;\n",
       "    }\n",
       "\n",
       "    .dataframe thead th {\n",
       "        text-align: right;\n",
       "    }\n",
       "</style>\n",
       "<table border=\"1\" class=\"dataframe\">\n",
       "  <thead>\n",
       "    <tr style=\"text-align: right;\">\n",
       "      <th></th>\n",
       "      <th>Age</th>\n",
       "      <th>Total Work Experience</th>\n",
       "      <th>Number of years in city</th>\n",
       "      <th>Cost to Request Ratio</th>\n",
       "      <th>Cibil score</th>\n",
       "      <th>Overdrafts past12months</th>\n",
       "    </tr>\n",
       "  </thead>\n",
       "  <tbody>\n",
       "    <tr>\n",
       "      <th>0</th>\n",
       "      <td>40.50</td>\n",
       "      <td>2</td>\n",
       "      <td>6</td>\n",
       "      <td>0.842666</td>\n",
       "      <td>594</td>\n",
       "      <td>0</td>\n",
       "    </tr>\n",
       "    <tr>\n",
       "      <th>1</th>\n",
       "      <td>41.25</td>\n",
       "      <td>5</td>\n",
       "      <td>2</td>\n",
       "      <td>0.791667</td>\n",
       "      <td>754</td>\n",
       "      <td>0</td>\n",
       "    </tr>\n",
       "    <tr>\n",
       "      <th>2</th>\n",
       "      <td>39.50</td>\n",
       "      <td>5</td>\n",
       "      <td>2</td>\n",
       "      <td>0.727273</td>\n",
       "      <td>779</td>\n",
       "      <td>0</td>\n",
       "    </tr>\n",
       "    <tr>\n",
       "      <th>3</th>\n",
       "      <td>35.00</td>\n",
       "      <td>1</td>\n",
       "      <td>4</td>\n",
       "      <td>0.820232</td>\n",
       "      <td>818</td>\n",
       "      <td>0</td>\n",
       "    </tr>\n",
       "    <tr>\n",
       "      <th>4</th>\n",
       "      <td>34.00</td>\n",
       "      <td>3</td>\n",
       "      <td>3</td>\n",
       "      <td>0.455581</td>\n",
       "      <td>853</td>\n",
       "      <td>0</td>\n",
       "    </tr>\n",
       "  </tbody>\n",
       "</table>\n",
       "</div>"
      ],
      "text/plain": [
       "     Age  Total Work Experience  Number of years in city  \\\n",
       "0  40.50                      2                        6   \n",
       "1  41.25                      5                        2   \n",
       "2  39.50                      5                        2   \n",
       "3  35.00                      1                        4   \n",
       "4  34.00                      3                        3   \n",
       "\n",
       "   Cost to Request Ratio  Cibil score  Overdrafts past12months  \n",
       "0               0.842666          594                        0  \n",
       "1               0.791667          754                        0  \n",
       "2               0.727273          779                        0  \n",
       "3               0.820232          818                        0  \n",
       "4               0.455581          853                        0  "
      ]
     },
     "execution_count": 54,
     "metadata": {},
     "output_type": "execute_result"
    }
   ],
   "source": [
    "fd=df.drop('Total bounces past12months',axis=1)\n",
    "fd.head()"
   ]
  },
  {
   "cell_type": "code",
   "execution_count": 55,
   "id": "240102f4",
   "metadata": {},
   "outputs": [
    {
     "data": {
      "text/plain": [
       "0    0\n",
       "1    0\n",
       "2    0\n",
       "3    0\n",
       "4    1\n",
       "Name: Total bounces past12months, dtype: int64"
      ]
     },
     "execution_count": 55,
     "metadata": {},
     "output_type": "execute_result"
    }
   ],
   "source": [
    "td=df['Total bounces past12months']\n",
    "td.head()"
   ]
  },
  {
   "cell_type": "markdown",
   "id": "457aa53d",
   "metadata": {},
   "source": [
    "# Part-2: Working with Model"
   ]
  },
  {
   "cell_type": "markdown",
   "id": "232596d3",
   "metadata": {},
   "source": [
    "## 1) Split data into training and testing sets"
   ]
  },
  {
   "cell_type": "code",
   "execution_count": 60,
   "id": "f3a0047d",
   "metadata": {},
   "outputs": [],
   "source": [
    "from sklearn.model_selection import train_test_split"
   ]
  },
  {
   "cell_type": "code",
   "execution_count": 68,
   "id": "e80121b6",
   "metadata": {},
   "outputs": [],
   "source": [
    "x_train,x_test,y_train,y_test=train_test_split(fd,td,test_size=0.2,random_state=42)"
   ]
  },
  {
   "cell_type": "code",
   "execution_count": 69,
   "id": "d2a1347b",
   "metadata": {},
   "outputs": [
    {
     "data": {
      "text/plain": [
       "(7196, 6)"
      ]
     },
     "execution_count": 69,
     "metadata": {},
     "output_type": "execute_result"
    }
   ],
   "source": [
    "x_train.shape"
   ]
  },
  {
   "cell_type": "code",
   "execution_count": 71,
   "id": "09e63bb5",
   "metadata": {},
   "outputs": [
    {
     "data": {
      "text/plain": [
       "(1799, 6)"
      ]
     },
     "execution_count": 71,
     "metadata": {},
     "output_type": "execute_result"
    }
   ],
   "source": [
    "x_test.shape"
   ]
  },
  {
   "cell_type": "code",
   "execution_count": 70,
   "id": "565a8c9c",
   "metadata": {},
   "outputs": [
    {
     "data": {
      "text/plain": [
       "(1799,)"
      ]
     },
     "execution_count": 70,
     "metadata": {},
     "output_type": "execute_result"
    }
   ],
   "source": [
    "y_test.shape"
   ]
  },
  {
   "cell_type": "markdown",
   "id": "40170db0",
   "metadata": {},
   "source": [
    "## 2) Create a KNN classifier between Features and target data"
   ]
  },
  {
   "cell_type": "code",
   "execution_count": 74,
   "id": "f3eb6f6b",
   "metadata": {},
   "outputs": [],
   "source": [
    "from sklearn.neighbors import KNeighborsClassifier"
   ]
  },
  {
   "cell_type": "code",
   "execution_count": 76,
   "id": "a84f3fab",
   "metadata": {},
   "outputs": [
    {
     "data": {
      "text/plain": [
       "KNeighborsClassifier(n_neighbors=1)"
      ]
     },
     "execution_count": 76,
     "metadata": {},
     "output_type": "execute_result"
    }
   ],
   "source": [
    "knn_model=KNeighborsClassifier(1)\n",
    "\n",
    "knn_model.fit(x_train,y_train)"
   ]
  },
  {
   "cell_type": "markdown",
   "id": "2795a73c",
   "metadata": {},
   "source": [
    "## 3) Display the test score &&  4) Display the training score"
   ]
  },
  {
   "cell_type": "code",
   "execution_count": 77,
   "id": "2a5e1252",
   "metadata": {},
   "outputs": [
    {
     "data": {
      "text/plain": [
       "1.0"
      ]
     },
     "execution_count": 77,
     "metadata": {},
     "output_type": "execute_result"
    }
   ],
   "source": [
    "knn_model.score(x_train,y_train)"
   ]
  },
  {
   "cell_type": "code",
   "execution_count": 78,
   "id": "49634b4a",
   "metadata": {},
   "outputs": [
    {
     "data": {
      "text/plain": [
       "0.546414674819344"
      ]
     },
     "execution_count": 78,
     "metadata": {},
     "output_type": "execute_result"
    }
   ],
   "source": [
    "knn_model.score(x_test,y_test)"
   ]
  },
  {
   "cell_type": "markdown",
   "id": "0c4a38af",
   "metadata": {},
   "source": [
    "## 5) Print the accuracy score"
   ]
  },
  {
   "cell_type": "code",
   "execution_count": 87,
   "id": "60a57ae1",
   "metadata": {},
   "outputs": [
    {
     "name": "stdout",
     "output_type": "stream",
     "text": [
      "Accuracy Score: 0.546414674819344\n"
     ]
    }
   ],
   "source": [
    "from sklearn.metrics import accuracy_score\n",
    "\n",
    "y_prd=knn_model.predict(x_test)\n",
    "y_prd\n",
    "\n",
    "accuracy=accuracy_score(y_test,y_prd)\n",
    "print(\"Accuracy Score:\",accuracy)"
   ]
  },
  {
   "cell_type": "markdown",
   "id": "1d578d2a",
   "metadata": {},
   "source": [
    "## 6) Try 1 to 14 k values for classifier"
   ]
  },
  {
   "cell_type": "code",
   "execution_count": 90,
   "id": "9dbb0a4c",
   "metadata": {},
   "outputs": [],
   "source": [
    "test_score=[]\n",
    "train_score=[]\n",
    "\n",
    "for i in range(1,14):\n",
    "    knn_model=KNeighborsClassifier(i)\n",
    "    knn_model.fit(x_train,y_train)\n",
    "    \n",
    "    train_score.append(knn_model.score(x_train,y_train))\n",
    "    test_score.append(knn_model.score(x_test,y_test))\n",
    "    \n"
   ]
  },
  {
   "cell_type": "markdown",
   "id": "11550964",
   "metadata": {},
   "source": [
    "## 7) Display training and testing score for all the 1 to 14 k values"
   ]
  },
  {
   "cell_type": "code",
   "execution_count": 91,
   "id": "35a49387",
   "metadata": {},
   "outputs": [
    {
     "name": "stdout",
     "output_type": "stream",
     "text": [
      "Training Score: [1.0, 0.74082823790995, 0.7066425792106726, 0.6862145636464703, 0.6787103946637021, 0.6681489716509171, 0.6628682601445247, 0.6607837687604224, 0.6574485825458588, 0.656058921623124, 0.6546692607003891, 0.6541133963312952, 0.6545302946081156]\n",
      "Testing Score: [0.546414674819344, 0.6259032795997777, 0.6270150083379655, 0.6370205669816564, 0.6470261256253474, 0.6531406336853808, 0.6498054474708171, 0.6542523624235687, 0.6559199555308505, 0.6592551417454141, 0.6592551417454141, 0.6592551417454141, 0.6592551417454141]\n"
     ]
    }
   ],
   "source": [
    "print(\"Training Score:\",train_score)\n",
    "print(\"Testing Score:\",test_score)"
   ]
  },
  {
   "cell_type": "code",
   "execution_count": 97,
   "id": "3f547d0f",
   "metadata": {},
   "outputs": [],
   "source": [
    "#plt.figure(figsize=(12,5))\n",
    "#p = sns.lineplot(range(1,14),train_score,marker='*',label='Train Score')\n",
    "#p = sns.lineplot(range(1,14),test_score,marker='o',label='Test Score')"
   ]
  },
  {
   "cell_type": "code",
   "execution_count": 94,
   "id": "ac06772a",
   "metadata": {},
   "outputs": [
    {
     "data": {
      "text/plain": [
       "KNeighborsClassifier(n_neighbors=3)"
      ]
     },
     "execution_count": 94,
     "metadata": {},
     "output_type": "execute_result"
    }
   ],
   "source": [
    "knn_model=KNeighborsClassifier(3)\n",
    "\n",
    "knn_model.fit(x_train,y_train)"
   ]
  },
  {
   "cell_type": "code",
   "execution_count": 95,
   "id": "b40c21de",
   "metadata": {},
   "outputs": [
    {
     "data": {
      "text/plain": [
       "0.7066425792106726"
      ]
     },
     "execution_count": 95,
     "metadata": {},
     "output_type": "execute_result"
    }
   ],
   "source": [
    "knn_model.score(x_train,y_train)"
   ]
  },
  {
   "cell_type": "code",
   "execution_count": 96,
   "id": "3952e9b3",
   "metadata": {},
   "outputs": [
    {
     "data": {
      "text/plain": [
       "0.6270150083379655"
      ]
     },
     "execution_count": 96,
     "metadata": {},
     "output_type": "execute_result"
    }
   ],
   "source": [
    "knn_model.score(x_test,y_test)"
   ]
  },
  {
   "cell_type": "code",
   "execution_count": null,
   "id": "16886243",
   "metadata": {},
   "outputs": [],
   "source": []
  }
 ],
 "metadata": {
  "kernelspec": {
   "display_name": "Python 3",
   "language": "python",
   "name": "python3"
  },
  "language_info": {
   "codemirror_mode": {
    "name": "ipython",
    "version": 3
   },
   "file_extension": ".py",
   "mimetype": "text/x-python",
   "name": "python",
   "nbconvert_exporter": "python",
   "pygments_lexer": "ipython3",
   "version": "3.8.8"
  }
 },
 "nbformat": 4,
 "nbformat_minor": 5
}
