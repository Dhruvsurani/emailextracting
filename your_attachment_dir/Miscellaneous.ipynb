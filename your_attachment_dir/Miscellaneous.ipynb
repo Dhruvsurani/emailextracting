{
 "cells": [
  {
   "cell_type": "markdown",
   "id": "c428014d",
   "metadata": {},
   "source": [
    "#### Q 1: Delete multiple values from a list at the same time\n"
   ]
  },
  {
   "cell_type": "code",
   "execution_count": 3,
   "id": "d804d536",
   "metadata": {},
   "outputs": [
    {
     "name": "stdout",
     "output_type": "stream",
     "text": [
      "['x', 'x']\n"
     ]
    }
   ],
   "source": [
    "my_ls=[\"x\",\"y\",\"z\",\"x\"]\n",
    "\n",
    "rm_ls=[\"y\",\"z\"]\n",
    "\n",
    "for i in rm_ls:\n",
    "    my_ls.remove(i)\n",
    "\n",
    "print(my_ls)"
   ]
  },
  {
   "cell_type": "code",
   "execution_count": 4,
   "id": "e947535c",
   "metadata": {},
   "outputs": [
    {
     "name": "stdout",
     "output_type": "stream",
     "text": [
      "['y', 'x']\n"
     ]
    }
   ],
   "source": [
    "my_ls=[\"x\",\"y\",\"z\",\"x\"]\n",
    "\n",
    "rm_ls=[\"x\",\"z\"]\n",
    "\n",
    "for i in rm_ls:\n",
    "    my_ls.remove(i)\n",
    "\n",
    "print(my_ls)"
   ]
  },
  {
   "cell_type": "code",
   "execution_count": 5,
   "id": "5e15b7f7",
   "metadata": {},
   "outputs": [
    {
     "name": "stdout",
     "output_type": "stream",
     "text": [
      "['y', 'z']\n"
     ]
    }
   ],
   "source": [
    "my_ls=[\"x\",\"y\",\"z\",\"x\"]\n",
    "\n",
    "rm_ls=[\"x\",\"x\"]\n",
    "\n",
    "for i in rm_ls:\n",
    "    my_ls.remove(i)\n",
    "\n",
    "print(my_ls)"
   ]
  },
  {
   "cell_type": "markdown",
   "id": "f797c3b7",
   "metadata": {},
   "source": [
    "#### Q 2: Add value in set\n",
    "\n"
   ]
  },
  {
   "cell_type": "code",
   "execution_count": 10,
   "id": "40990fc9",
   "metadata": {},
   "outputs": [
    {
     "name": "stdout",
     "output_type": "stream",
     "text": [
      "{'x', 'y', 'z', 'p', 'q'}\n"
     ]
    }
   ],
   "source": [
    "my_set={\"x\",\"y\",\"z\"}\n",
    "\n",
    "add_set={\"p\",\"q\",\"z\"}\n",
    "\n",
    "for i in add_set:\n",
    "    if(i not in my_set):\n",
    "        my_set.add(i)\n",
    "\n",
    "print(my_set)\n",
    "    "
   ]
  },
  {
   "cell_type": "code",
   "execution_count": 11,
   "id": "33917be7",
   "metadata": {},
   "outputs": [
    {
     "name": "stdout",
     "output_type": "stream",
     "text": [
      "{'z', 'p', 'x', 'y'}\n"
     ]
    }
   ],
   "source": [
    "my_set={\"x\",\"y\",\"z\"}\n",
    "\n",
    "add_set={\"p\"}\n",
    "\n",
    "for i in add_set:\n",
    "    if(i not in my_set):\n",
    "        my_set.add(i)\n",
    "\n",
    "print(my_set)\n",
    "    "
   ]
  },
  {
   "cell_type": "markdown",
   "id": "3ee108b6",
   "metadata": {},
   "source": [
    "#### Q 3 :Add key in dictionary if that is not present in dict else add new key with value\n"
   ]
  },
  {
   "cell_type": "code",
   "execution_count": 13,
   "id": "2a0a2bbd",
   "metadata": {},
   "outputs": [
    {
     "name": "stdout",
     "output_type": "stream",
     "text": [
      "key :  color\n",
      "value : blue\n",
      "key :  fruit\n",
      "value : apple\n",
      "key :  pet\n",
      "value : dog\n"
     ]
    }
   ],
   "source": [
    "a_dict = {'color': 'blue', 'fruit': 'apple', 'pet': 'dog'}\n",
    "\n",
    "#key =sabji:paneer\n",
    "for key,value in a_dict.items():\n",
    "    print(\"key : \",key)\n",
    "    print(\"value :\",value)"
   ]
  },
  {
   "cell_type": "code",
   "execution_count": 33,
   "id": "becc765d",
   "metadata": {},
   "outputs": [
    {
     "name": "stdout",
     "output_type": "stream",
     "text": [
      "color\n",
      "fruit\n",
      "pet\n",
      "{'color': 'blue', 'fruit': 'apple', 'pet': 'dog', 'sabji': 'cheese'}\n"
     ]
    }
   ],
   "source": [
    "a_dict = {'color': 'blue', 'fruit': 'apple', 'pet': 'dog'}\n",
    "\n",
    "for i in a_dict.copy().items():\n",
    "    print(i[0])\n",
    "    if(i[0]==\"sabji\"):\n",
    "        if(i[1]==\"paneer\"):\n",
    "            pass\n",
    "        else:\n",
    "            i[1]=\"cheese\"\n",
    "    else:\n",
    "        a_dict[\"sabji\"]=\"cheese\"\n",
    "\n",
    "\n",
    "print(a_dict)"
   ]
  },
  {
   "cell_type": "code",
   "execution_count": 5,
   "id": "d53c6690",
   "metadata": {},
   "outputs": [
    {
     "name": "stdout",
     "output_type": "stream",
     "text": [
      "10\n",
      "hi: 9\n",
      "9\n",
      "hi: 8\n",
      "8\n",
      "hi: 7\n",
      "7\n",
      "6\n",
      "hi: 5\n",
      "5\n",
      "hi: 4\n"
     ]
    }
   ],
   "source": [
    "#contineu Statement:\n",
    "i=10\n",
    "while i>4:\n",
    "    print(i)\n",
    "    i =i-1\n",
    "    if(i==6):\n",
    "        continue\n",
    "    print(\"hi:\",i)\n",
    "    "
   ]
  },
  {
   "cell_type": "code",
   "execution_count": 4,
   "id": "2b15ff82",
   "metadata": {},
   "outputs": [
    {
     "name": "stdout",
     "output_type": "stream",
     "text": [
      "1\n",
      "2\n",
      "3\n"
     ]
    }
   ],
   "source": [
    "#Break Statement:\n",
    "i=1\n",
    "while i<6:\n",
    "    print(i)\n",
    "    if(i==3):\n",
    "        break\n",
    "    i +=1"
   ]
  },
  {
   "cell_type": "code",
   "execution_count": null,
   "id": "4222f25e",
   "metadata": {},
   "outputs": [],
   "source": [
    "#continue statement\n",
    "my_list=[1,2,3,4]\n",
    "for val in my_list:\n",
    "    if val==3:\n",
    "        continue\n",
    "    print(val)"
   ]
  },
  {
   "cell_type": "code",
   "execution_count": null,
   "id": "5a8151b3",
   "metadata": {},
   "outputs": [],
   "source": [
    "#Break statement\n",
    "my_list=[1,2,3,4]\n",
    "for val in my_list:\n",
    "    if val==3:\n",
    "        break\n",
    "    print(val)"
   ]
  },
  {
   "cell_type": "code",
   "execution_count": null,
   "id": "82bc6ee9",
   "metadata": {},
   "outputs": [],
   "source": []
  }
 ],
 "metadata": {
  "kernelspec": {
   "display_name": "Python 3",
   "language": "python",
   "name": "python3"
  },
  "language_info": {
   "codemirror_mode": {
    "name": "ipython",
    "version": 3
   },
   "file_extension": ".py",
   "mimetype": "text/x-python",
   "name": "python",
   "nbconvert_exporter": "python",
   "pygments_lexer": "ipython3",
   "version": "3.8.8"
  }
 },
 "nbformat": 4,
 "nbformat_minor": 5
}
