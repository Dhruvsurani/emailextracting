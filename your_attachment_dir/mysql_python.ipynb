{
 "cells": [
  {
   "cell_type": "code",
   "execution_count": 51,
   "id": "218e9321",
   "metadata": {},
   "outputs": [],
   "source": [
    "import mysql.connector"
   ]
  },
  {
   "cell_type": "code",
   "execution_count": 52,
   "id": "6e37c994",
   "metadata": {},
   "outputs": [],
   "source": [
    "connection = mysql.connector.connect(host='localhost',\n",
    "                                         database='new_db',\n",
    "                                         user='root',\n",
    "                                         password='root')"
   ]
  },
  {
   "cell_type": "code",
   "execution_count": 53,
   "id": "81a11269",
   "metadata": {},
   "outputs": [],
   "source": [
    "cursor = connection.cursor()\n",
    "cursor.execute(\"show databases\")"
   ]
  },
  {
   "cell_type": "code",
   "execution_count": 54,
   "id": "c932236b",
   "metadata": {},
   "outputs": [
    {
     "name": "stdout",
     "output_type": "stream",
     "text": [
      "('information_schema',)\n",
      "('mysql',)\n",
      "('new_db',)\n",
      "('performance_schema',)\n",
      "('sakila',)\n",
      "('sys',)\n",
      "('world',)\n"
     ]
    }
   ],
   "source": [
    "for i in cursor:\n",
    "    print(i)"
   ]
  },
  {
   "cell_type": "code",
   "execution_count": 55,
   "id": "05591482",
   "metadata": {},
   "outputs": [],
   "source": [
    "cursor.execute(\"use new_db\")"
   ]
  },
  {
   "cell_type": "code",
   "execution_count": 56,
   "id": "8b560915",
   "metadata": {},
   "outputs": [],
   "source": [
    "cursor.execute(\"show tables\")"
   ]
  },
  {
   "cell_type": "code",
   "execution_count": 57,
   "id": "db722e72",
   "metadata": {},
   "outputs": [
    {
     "name": "stdout",
     "output_type": "stream",
     "text": [
      "('assign',)\n",
      "('assign3',)\n",
      "('bonus',)\n",
      "('bonus1',)\n",
      "('hr_department',)\n",
      "('title',)\n",
      "('worker',)\n",
      "('worker2',)\n"
     ]
    }
   ],
   "source": [
    "for i in cursor:\n",
    "    print(i)"
   ]
  },
  {
   "cell_type": "code",
   "execution_count": 58,
   "id": "57385866",
   "metadata": {},
   "outputs": [],
   "source": [
    "cursor.execute(\"select * from bonus\")\n",
    "x=cursor.fetchall()"
   ]
  },
  {
   "cell_type": "code",
   "execution_count": 59,
   "id": "7fdf5512",
   "metadata": {},
   "outputs": [
    {
     "name": "stdout",
     "output_type": "stream",
     "text": [
      "[(1, datetime.datetime(2016, 2, 20, 0, 0), 5000), (2, datetime.datetime(2016, 6, 11, 0, 0), 3000), (3, datetime.datetime(2016, 2, 20, 0, 0), 4000), (1, datetime.datetime(2016, 2, 20, 0, 0), 4500), (2, datetime.datetime(2016, 6, 11, 0, 0), 3500)]\n"
     ]
    }
   ],
   "source": [
    "print(x)"
   ]
  },
  {
   "cell_type": "code",
   "execution_count": 60,
   "id": "1dc52210",
   "metadata": {},
   "outputs": [],
   "source": [
    "import pandas as pd\n",
    "x_df=pd.DataFrame(x)"
   ]
  },
  {
   "cell_type": "code",
   "execution_count": 61,
   "id": "2ce0c891",
   "metadata": {},
   "outputs": [
    {
     "name": "stdout",
     "output_type": "stream",
     "text": [
      "   0          1     2\n",
      "0  1 2016-02-20  5000\n",
      "1  2 2016-06-11  3000\n",
      "2  3 2016-02-20  4000\n",
      "3  1 2016-02-20  4500\n",
      "4  2 2016-06-11  3500\n"
     ]
    }
   ],
   "source": [
    "print(x_df)"
   ]
  }
 ],
 "metadata": {
  "kernelspec": {
   "display_name": "Python 3",
   "language": "python",
   "name": "python3"
  },
  "language_info": {
   "codemirror_mode": {
    "name": "ipython",
    "version": 3
   },
   "file_extension": ".py",
   "mimetype": "text/x-python",
   "name": "python",
   "nbconvert_exporter": "python",
   "pygments_lexer": "ipython3",
   "version": "3.8.8"
  }
 },
 "nbformat": 4,
 "nbformat_minor": 5
}
