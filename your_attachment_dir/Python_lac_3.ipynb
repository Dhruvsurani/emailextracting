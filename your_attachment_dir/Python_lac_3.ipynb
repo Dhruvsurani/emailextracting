{
 "cells": [
  {
   "cell_type": "code",
   "execution_count": 1,
   "id": "d563f142",
   "metadata": {},
   "outputs": [],
   "source": [
    "a_dict = {'color': 'blue', 'fruit': 'apple', 'pet': 'dog'}"
   ]
  },
  {
   "cell_type": "code",
   "execution_count": 10,
   "id": "5aa32f78",
   "metadata": {},
   "outputs": [
    {
     "name": "stdout",
     "output_type": "stream",
     "text": [
      "dict_keys(['color', 'fruit', 'pet'])\n",
      "dict_values(['blue', 'apple', 'dog'])\n",
      "key :color\n",
      "value :blue\n",
      "key :fruit\n",
      "value :apple\n",
      "key :pet\n",
      "value :dog\n",
      "blue\n"
     ]
    }
   ],
   "source": [
    "# getting the keys\n",
    "print(a_dict.keys())\n",
    "# getting the values\n",
    "print(a_dict.values())\n",
    "#getting key value pair\n",
    "for k,v in a_dict.items():\n",
    "    print(\"key :\"+k)\n",
    "    print(\"value :\"+v)\n",
    "# getting the value of one particular key  \n",
    "val =a_dict.get(\"color\")\n",
    "print(val)\n",
    "\n",
    "#changing the value of the key\n",
    "a_dict[\"color\"]=\"black\"\n"
   ]
  },
  {
   "cell_type": "code",
   "execution_count": 11,
   "id": "bdc3033a",
   "metadata": {},
   "outputs": [
    {
     "name": "stdout",
     "output_type": "stream",
     "text": [
      "key :color\n",
      "value :black\n",
      "key :fruit\n",
      "value :apple\n",
      "key :pet\n",
      "value :dog\n"
     ]
    }
   ],
   "source": [
    "for k,v in a_dict.items():\n",
    "    print(\"key :\"+k)\n",
    "    print(\"value :\"+v)"
   ]
  },
  {
   "cell_type": "code",
   "execution_count": 14,
   "id": "760d288f",
   "metadata": {},
   "outputs": [],
   "source": [
    "if \"fin\" in a_dict:\n",
    "    print(\"yes it is\")"
   ]
  },
  {
   "cell_type": "code",
   "execution_count": 4,
   "id": "e803e1c9",
   "metadata": {},
   "outputs": [
    {
     "name": "stdout",
     "output_type": "stream",
     "text": [
      "{'color': 'blue', 'fruit': 'apple', 'pet': 'dog', 'sabji': 'xyz'}\n"
     ]
    }
   ],
   "source": [
    "#Adding the iteam to dictionary\n",
    "a_dict[\"sabji\"]=\"xyz\"\n",
    "a_dict({\"sabji\":\"xyz\"})\n",
    "print(a_dict)"
   ]
  },
  {
   "cell_type": "code",
   "execution_count": 7,
   "id": "9c1a45a5",
   "metadata": {},
   "outputs": [
    {
     "data": {
      "text/plain": [
       "('pet', 'dog')"
      ]
     },
     "execution_count": 7,
     "metadata": {},
     "output_type": "execute_result"
    }
   ],
   "source": [
    "# removing the items\n",
    "#a_dict.pop(\"sabji\")\n",
    "\n",
    "a_dict.popitem()"
   ]
  },
  {
   "cell_type": "code",
   "execution_count": null,
   "id": "ad19b910",
   "metadata": {},
   "outputs": [],
   "source": [
    "a_dict = {'color': 'blue', 'fruit': 'apple', 'pet': 'dog'}\n",
    "#a_dict.clear()\n",
    "b_dict=a_dict\n",
    "c_dict=a_dict.copy()\n",
    "a_dict[\"sabji\"]=\"paneer\"\n",
    "d_dict=dict(a_dict)\n",
    "e_dict=dict()\n",
    "#if abc is not there then it will return pqr value\n",
    "x=a_dict.setdefault(\"abc\",\"pqr\")\n",
    "\n",
    "10/3\n",
    "10%3\n",
    "10//3\n",
    "10**3"
   ]
  },
  {
   "cell_type": "code",
   "execution_count": 12,
   "id": "8158afec",
   "metadata": {},
   "outputs": [],
   "source": [
    "x=10\n",
    "y=49\n",
    "z=50\n",
    "if(x>y):\n",
    "    if(z>y):\n",
    "        print(\"yes\")\n",
    "    else:\n",
    "        print(\"no\")\n",
    "else:\n",
    "    print(\"good\")\n",
    "\n",
    "if(x>y or x>y ):\n",
    "    print(\"yes\")\n",
    "else:\n",
    "    print(\"no\")\n",
    "        \n",
    "    \n",
    "\n",
    "if(x>y):\n",
    "    print(\"hiii\")  \n",
    "elif(x<y):\n",
    "    print(\"yes\")\n"
   ]
  },
  {
   "cell_type": "code",
   "execution_count": 25,
   "id": "3f89c792",
   "metadata": {},
   "outputs": [
    {
     "name": "stdout",
     "output_type": "stream",
     "text": [
      "12\n",
      "3\n",
      "4\n",
      "5\n"
     ]
    }
   ],
   "source": [
    "my_ls=[12,3,4,5]\n",
    "my_str=\"hello\"\n",
    "\n",
    "for i in range(len(my_ls)):\n",
    "    print(my_ls[i])\n",
    "\n",
    "    \n"
   ]
  },
  {
   "cell_type": "code",
   "execution_count": 24,
   "id": "8be35d78",
   "metadata": {},
   "outputs": [
    {
     "name": "stdout",
     "output_type": "stream",
     "text": [
      "12\n",
      "3\n",
      "4\n",
      "5\n"
     ]
    }
   ],
   "source": [
    "my_ls=[12,3,4,5]\n",
    "for i in my_ls:\n",
    "    print(i)"
   ]
  },
  {
   "cell_type": "code",
   "execution_count": 27,
   "id": "62c35f3f",
   "metadata": {},
   "outputs": [
    {
     "name": "stdout",
     "output_type": "stream",
     "text": [
      "1\n",
      "x\n",
      "1\n",
      "y\n",
      "1\n",
      "z\n",
      "2\n",
      "x\n",
      "2\n",
      "y\n",
      "2\n",
      "z\n"
     ]
    }
   ],
   "source": [
    "my_ls=[1,2]\n",
    "my_vw=[\"x\",\"y\",\"z\"]\n",
    "for i in my_ls:\n",
    "    for j in my_vw:\n",
    "        print(i)\n",
    "        print(j)\n",
    "        "
   ]
  },
  {
   "cell_type": "code",
   "execution_count": 28,
   "id": "f6dc5e0a",
   "metadata": {},
   "outputs": [
    {
     "name": "stdout",
     "output_type": "stream",
     "text": [
      "1 x\n",
      "2 y\n",
      "3 z\n",
      "4 p\n"
     ]
    }
   ],
   "source": [
    "ls_1=[1,2,3,4]\n",
    "ls_2=[\"x\",\"y\",\"z\",\"p\"]\n",
    "\n",
    "for i in range(len(ls_1)):\n",
    "    for j in range(len(ls_2)):\n",
    "        if(i==j):\n",
    "            print(ls_1[i],ls_2[j])\n"
   ]
  },
  {
   "cell_type": "code",
   "execution_count": 29,
   "id": "43ae5b5d",
   "metadata": {},
   "outputs": [
    {
     "name": "stdout",
     "output_type": "stream",
     "text": [
      "1 x\n",
      "2 y\n",
      "3 z\n",
      "4 p\n"
     ]
    }
   ],
   "source": [
    "for i in range(len(ls_1)):\n",
    "    print(ls_1[i],ls_2[i])"
   ]
  },
  {
   "cell_type": "code",
   "execution_count": 32,
   "id": "2262d992",
   "metadata": {},
   "outputs": [
    {
     "name": "stdout",
     "output_type": "stream",
     "text": [
      "1\n",
      "2\n",
      "3\n",
      "4\n"
     ]
    }
   ],
   "source": [
    "for i in ls_1:\n",
    "    print(i)"
   ]
  },
  {
   "cell_type": "code",
   "execution_count": 36,
   "id": "1bf138be",
   "metadata": {},
   "outputs": [
    {
     "name": "stdout",
     "output_type": "stream",
     "text": [
      "1\n",
      "6\n",
      "11\n"
     ]
    }
   ],
   "source": [
    "for i in range(1,15,5):\n",
    "    print(i)"
   ]
  },
  {
   "cell_type": "markdown",
   "id": "6575d2d1",
   "metadata": {},
   "source": [
    "output:\n",
    "    1 x\n",
    "    2 y\n",
    "    3 z\n",
    "    4 p"
   ]
  },
  {
   "cell_type": "code",
   "execution_count": 38,
   "id": "f5d9497c",
   "metadata": {},
   "outputs": [
    {
     "name": "stdout",
     "output_type": "stream",
     "text": [
      "1\n"
     ]
    }
   ],
   "source": [
    "#Break statement\n",
    "my_list=[1,2,3,4]\n",
    "for val in my_list:\n",
    "    if val==2:\n",
    "        break\n",
    "    print(val)\n",
    "    "
   ]
  },
  {
   "cell_type": "code",
   "execution_count": 19,
   "id": "ddec8fe6",
   "metadata": {},
   "outputs": [
    {
     "name": "stdout",
     "output_type": "stream",
     "text": [
      "1\n",
      "2\n",
      "4\n"
     ]
    }
   ],
   "source": [
    "#continue statement\n",
    "my_list=[1,2,3,4]\n",
    "for val in my_list:\n",
    "    if val==3:\n",
    "        continue\n",
    "    print(val)"
   ]
  },
  {
   "cell_type": "code",
   "execution_count": 2,
   "id": "85f8fed4",
   "metadata": {},
   "outputs": [],
   "source": [
    "#Nested Dictionary\n",
    "my_family={\n",
    "    \"child1\":{\n",
    "        \"name\":\"xyz\",\n",
    "        \"year\":2013\n",
    "    },\n",
    "     \"child2\":{\n",
    "         \"name\":\"pqr\",\n",
    "         \"year\":2014\n",
    "     }  \n",
    "}"
   ]
  },
  {
   "cell_type": "code",
   "execution_count": 3,
   "id": "86544a8a",
   "metadata": {},
   "outputs": [
    {
     "name": "stdout",
     "output_type": "stream",
     "text": [
      "{'name': 'xyz', 'year': 2013}\n",
      "xyz\n"
     ]
    }
   ],
   "source": [
    "print(my_family['child1'])\n",
    "print(my_family['child1'] ['name'])"
   ]
  },
  {
   "cell_type": "code",
   "execution_count": 8,
   "id": "5f4d658f",
   "metadata": {},
   "outputs": [
    {
     "data": {
      "text/plain": [
       "True"
      ]
     },
     "execution_count": 8,
     "metadata": {},
     "output_type": "execute_result"
    }
   ],
   "source": [
    "my_family.keys()\n",
    "\n",
    "\"child1\" in my_family.keys()"
   ]
  },
  {
   "cell_type": "code",
   "execution_count": 9,
   "id": "4d0c55b0",
   "metadata": {},
   "outputs": [
    {
     "name": "stdout",
     "output_type": "stream",
     "text": [
      "greter\n"
     ]
    }
   ],
   "source": [
    "val=123\n",
    "val_1=456\n",
    "if val_1>val:\n",
    "    print(\"greter\")\n",
    "elif val==val_1:\n",
    "    print(\"equal\")"
   ]
  },
  {
   "cell_type": "code",
   "execution_count": 10,
   "id": "b492ff3e",
   "metadata": {},
   "outputs": [
    {
     "name": "stdout",
     "output_type": "stream",
     "text": [
      "1\n",
      "2\n",
      "3\n"
     ]
    }
   ],
   "source": [
    "#Break Statement:\n",
    "i=1\n",
    "while i<6:\n",
    "    print(i)\n",
    "    if(i==3):\n",
    "        break\n",
    "    i +=1"
   ]
  },
  {
   "cell_type": "code",
   "execution_count": 12,
   "id": "63533383",
   "metadata": {},
   "outputs": [
    {
     "ename": "KeyboardInterrupt",
     "evalue": "",
     "output_type": "error",
     "traceback": [
      "\u001b[1;31m---------------------------------------------------------------------------\u001b[0m",
      "\u001b[1;31mKeyboardInterrupt\u001b[0m                         Traceback (most recent call last)",
      "\u001b[1;32m<ipython-input-12-ae4df6766726>\u001b[0m in \u001b[0;36m<module>\u001b[1;34m\u001b[0m\n\u001b[0;32m      2\u001b[0m \u001b[0mi\u001b[0m\u001b[1;33m=\u001b[0m\u001b[1;36m1\u001b[0m\u001b[1;33m\u001b[0m\u001b[1;33m\u001b[0m\u001b[0m\n\u001b[0;32m      3\u001b[0m \u001b[1;32mwhile\u001b[0m \u001b[0mi\u001b[0m\u001b[1;33m<\u001b[0m\u001b[1;36m6\u001b[0m\u001b[1;33m:\u001b[0m\u001b[1;33m\u001b[0m\u001b[1;33m\u001b[0m\u001b[0m\n\u001b[1;32m----> 4\u001b[1;33m     \u001b[1;32mif\u001b[0m\u001b[1;33m(\u001b[0m\u001b[0mi\u001b[0m\u001b[1;33m==\u001b[0m\u001b[1;36m3\u001b[0m\u001b[1;33m)\u001b[0m\u001b[1;33m:\u001b[0m\u001b[1;33m\u001b[0m\u001b[1;33m\u001b[0m\u001b[0m\n\u001b[0m\u001b[0;32m      5\u001b[0m         \u001b[1;32mcontinue\u001b[0m\u001b[1;33m\u001b[0m\u001b[1;33m\u001b[0m\u001b[0m\n\u001b[0;32m      6\u001b[0m     \u001b[0mi\u001b[0m \u001b[1;33m+=\u001b[0m\u001b[1;36m1\u001b[0m\u001b[1;33m\u001b[0m\u001b[1;33m\u001b[0m\u001b[0m\n",
      "\u001b[1;31mKeyboardInterrupt\u001b[0m: "
     ]
    }
   ],
   "source": [
    "#contineu Statement:\n",
    "i=1\n",
    "while i<6:\n",
    "    if(i==3):\n",
    "        continue\n",
    "    i +=1"
   ]
  },
  {
   "cell_type": "code",
   "execution_count": 14,
   "id": "1f09ff97",
   "metadata": {},
   "outputs": [
    {
     "name": "stdout",
     "output_type": "stream",
     "text": [
      "h\n",
      "e\n",
      "l\n",
      "l\n",
      "o\n"
     ]
    }
   ],
   "source": [
    "my_str=\"hello\"\n",
    "\n",
    "for i in my_str:\n",
    "    print(i)"
   ]
  },
  {
   "cell_type": "code",
   "execution_count": 18,
   "id": "cfd23643",
   "metadata": {},
   "outputs": [
    {
     "name": "stdout",
     "output_type": "stream",
     "text": [
      "0\n",
      "=====>\n",
      "h\n",
      "1\n",
      "=====>\n",
      "e\n",
      "2\n",
      "=====>\n",
      "l\n",
      "3\n",
      "=====>\n",
      "l\n",
      "4\n",
      "=====>\n",
      "o\n"
     ]
    }
   ],
   "source": [
    "my_str=\"hello\"\n",
    "for i in range(len(my_str)):\n",
    "    print(i), print(\"=====>\"),\n",
    "    print(my_str[i])"
   ]
  },
  {
   "cell_type": "code",
   "execution_count": 21,
   "id": "49d7786f",
   "metadata": {},
   "outputs": [
    {
     "name": "stdout",
     "output_type": "stream",
     "text": [
      "j val: hi\n",
      "i val: 1\n",
      "j val: hi\n",
      "i val: 2\n",
      "j val: hi\n",
      "i val: 3\n",
      "j val: hi\n",
      "i val: 4\n"
     ]
    }
   ],
   "source": [
    "x=[1,2,3,4]\n",
    "y=[\"hi\",\"hello\",\"good\"]\n",
    "\n",
    "for i in range(len(x)):\n",
    "    for j in range(len(y)):\n",
    "        if(y[j]==\"hello\"):\n",
    "            break\n",
    "        print(\"j val:\",y[j])\n",
    "    print(\"i val:\",x[i])\n",
    "        "
   ]
  },
  {
   "cell_type": "code",
   "execution_count": 22,
   "id": "29ea0c6f",
   "metadata": {},
   "outputs": [
    {
     "name": "stdout",
     "output_type": "stream",
     "text": [
      "j val: hi\n",
      "j val: good\n",
      "i val: 1\n",
      "j val: hi\n",
      "j val: good\n",
      "i val: 2\n",
      "j val: hi\n",
      "j val: good\n",
      "i val: 3\n",
      "j val: hi\n",
      "j val: good\n",
      "i val: 4\n"
     ]
    }
   ],
   "source": [
    "x=[1,2,3,4]\n",
    "y=[\"hi\",\"hello\",\"good\"]\n",
    "\n",
    "for i in range(len(x)):\n",
    "    for j in range(len(y)):\n",
    "        if(y[j]==\"hello\"):\n",
    "            continue\n",
    "        print(\"j val:\",y[j])\n",
    "    print(\"i val:\",x[i])\n",
    "        "
   ]
  },
  {
   "cell_type": "code",
   "execution_count": 3,
   "id": "80610c88",
   "metadata": {},
   "outputs": [
    {
     "name": "stdout",
     "output_type": "stream",
     "text": [
      "emili welcome\n",
      "ramond welcome\n"
     ]
    }
   ],
   "source": [
    "ls=[\"emili\",\"ramond\"]\n",
    "def my_function(fnames):\n",
    "    for i in fnames:\n",
    "        print(i+ \" welcome\")\n",
    "    \n",
    "my_function(ls)\n"
   ]
  }
 ],
 "metadata": {
  "kernelspec": {
   "display_name": "Python 3",
   "language": "python",
   "name": "python3"
  },
  "language_info": {
   "codemirror_mode": {
    "name": "ipython",
    "version": 3
   },
   "file_extension": ".py",
   "mimetype": "text/x-python",
   "name": "python",
   "nbconvert_exporter": "python",
   "pygments_lexer": "ipython3",
   "version": "3.8.8"
  }
 },
 "nbformat": 4,
 "nbformat_minor": 5
}
