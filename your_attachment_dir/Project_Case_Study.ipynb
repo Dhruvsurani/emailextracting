{
 "cells": [
  {
   "cell_type": "markdown",
   "id": "a4625229",
   "metadata": {},
   "source": [
    "# Python Case Study Telecom Churn Analysis"
   ]
  },
  {
   "cell_type": "raw",
   "id": "205cf69f",
   "metadata": {},
   "source": [
    "Project Description:\n",
    "In this particular project, we are using a dataset that contains information\n",
    "like State, account length, international plan, Total day cells, Total day\n",
    "charge and using that to predict whether the customer will remain a\n",
    "customer in the future."
   ]
  },
  {
   "cell_type": "raw",
   "id": "25de8e85",
   "metadata": {},
   "source": [
    "Data Details:\n",
    "• State: Self Explanatory (string)\n",
    "• Account length: Self Explanatory (integer)\n",
    "• Area code: Self Explanatory (integer)\n",
    "• International plan: Self Explanatory (string)\n",
    "• Voice mail plan: Self Explanatory (string)\n",
    "• Number vmail messages: Self Explanatory (integer)\n",
    "• Total day minutes: Self Explanatory (double)\n",
    "• Total day calls: Self Explanatory (integer)\n",
    "• Total day charge: Self Explanatory (double)\n",
    "• Total eve minutes: Self Explanatory (double)\n",
    "• Total eve calls: Self Explanatory (integer)\n",
    "• Total eve charge: Self Explanatory (double)\n",
    "• Total night minutes: Self Explanatory (double)\n",
    "• Total night calls: Self Explanatory (integer)\n",
    "• Total night charge: Self Explanatory (double)\n",
    "• Total intl minutes: Self Explanatory (double)\n",
    "• Total intl calls: Self Explanatory (integer)\n",
    "• Total intl charge: Self Explanatory (double)\n",
    "• Customer service calls: Self Explanatory (integer)\n",
    "• Churn: Self Explanatory (string)"
   ]
  },
  {
   "cell_type": "code",
   "execution_count": 146,
   "id": "f41a24ff",
   "metadata": {},
   "outputs": [],
   "source": [
    "import pandas as pd\n",
    "import numpy as np\n",
    "import matplotlib.pyplot as plt\n",
    "import seaborn as sns"
   ]
  },
  {
   "cell_type": "markdown",
   "id": "77309a1b",
   "metadata": {},
   "source": [
    "# Part-1: Data Exploration and Pre-processing"
   ]
  },
  {
   "cell_type": "markdown",
   "id": "a64c5df9",
   "metadata": {},
   "source": [
    "## 1) load the given dataset"
   ]
  },
  {
   "cell_type": "code",
   "execution_count": 147,
   "id": "2a31164d",
   "metadata": {},
   "outputs": [
    {
     "name": "stdout",
     "output_type": "stream",
     "text": [
      "D:\\Data Science\\Project\\Case Study\n"
     ]
    }
   ],
   "source": [
    "cd D:\\Data Science\\Project\\Case Study"
   ]
  },
  {
   "cell_type": "code",
   "execution_count": 148,
   "id": "83caf73b",
   "metadata": {},
   "outputs": [],
   "source": [
    "df=pd.read_csv(\"Python_Case_Studytop.csv\")"
   ]
  },
  {
   "cell_type": "code",
   "execution_count": 149,
   "id": "e9f4ece3",
   "metadata": {},
   "outputs": [
    {
     "data": {
      "text/html": [
       "<div>\n",
       "<style scoped>\n",
       "    .dataframe tbody tr th:only-of-type {\n",
       "        vertical-align: middle;\n",
       "    }\n",
       "\n",
       "    .dataframe tbody tr th {\n",
       "        vertical-align: top;\n",
       "    }\n",
       "\n",
       "    .dataframe thead th {\n",
       "        text-align: right;\n",
       "    }\n",
       "</style>\n",
       "<table border=\"1\" class=\"dataframe\">\n",
       "  <thead>\n",
       "    <tr style=\"text-align: right;\">\n",
       "      <th></th>\n",
       "      <th>State</th>\n",
       "      <th>Account length</th>\n",
       "      <th>Area code</th>\n",
       "      <th>International plan</th>\n",
       "      <th>Voice mail plan</th>\n",
       "      <th>Number vmail messages</th>\n",
       "      <th>Total day minutes</th>\n",
       "      <th>Total day calls</th>\n",
       "      <th>Total day charge</th>\n",
       "      <th>Total eve minutes</th>\n",
       "      <th>Total eve calls</th>\n",
       "      <th>Total eve charge</th>\n",
       "      <th>Total night minutes</th>\n",
       "      <th>Total night calls</th>\n",
       "      <th>Total night charge</th>\n",
       "      <th>Total intl minutes</th>\n",
       "      <th>Total intl calls</th>\n",
       "      <th>Total intl charge</th>\n",
       "      <th>Customer service calls</th>\n",
       "      <th>Churn</th>\n",
       "    </tr>\n",
       "  </thead>\n",
       "  <tbody>\n",
       "    <tr>\n",
       "      <th>0</th>\n",
       "      <td>KS</td>\n",
       "      <td>128</td>\n",
       "      <td>415</td>\n",
       "      <td>No</td>\n",
       "      <td>Yes</td>\n",
       "      <td>25</td>\n",
       "      <td>265.1</td>\n",
       "      <td>110</td>\n",
       "      <td>45.07</td>\n",
       "      <td>197.4</td>\n",
       "      <td>99</td>\n",
       "      <td>16.78</td>\n",
       "      <td>244.7</td>\n",
       "      <td>91</td>\n",
       "      <td>11.01</td>\n",
       "      <td>10.0</td>\n",
       "      <td>3</td>\n",
       "      <td>2.70</td>\n",
       "      <td>1</td>\n",
       "      <td>False</td>\n",
       "    </tr>\n",
       "    <tr>\n",
       "      <th>1</th>\n",
       "      <td>OH</td>\n",
       "      <td>107</td>\n",
       "      <td>415</td>\n",
       "      <td>No</td>\n",
       "      <td>Yes</td>\n",
       "      <td>26</td>\n",
       "      <td>161.6</td>\n",
       "      <td>123</td>\n",
       "      <td>27.47</td>\n",
       "      <td>195.5</td>\n",
       "      <td>103</td>\n",
       "      <td>16.62</td>\n",
       "      <td>254.4</td>\n",
       "      <td>103</td>\n",
       "      <td>11.45</td>\n",
       "      <td>13.7</td>\n",
       "      <td>3</td>\n",
       "      <td>3.70</td>\n",
       "      <td>1</td>\n",
       "      <td>False</td>\n",
       "    </tr>\n",
       "    <tr>\n",
       "      <th>2</th>\n",
       "      <td>NJ</td>\n",
       "      <td>137</td>\n",
       "      <td>415</td>\n",
       "      <td>No</td>\n",
       "      <td>No</td>\n",
       "      <td>0</td>\n",
       "      <td>243.4</td>\n",
       "      <td>114</td>\n",
       "      <td>41.38</td>\n",
       "      <td>121.2</td>\n",
       "      <td>110</td>\n",
       "      <td>10.30</td>\n",
       "      <td>162.6</td>\n",
       "      <td>104</td>\n",
       "      <td>7.32</td>\n",
       "      <td>12.2</td>\n",
       "      <td>5</td>\n",
       "      <td>3.29</td>\n",
       "      <td>0</td>\n",
       "      <td>False</td>\n",
       "    </tr>\n",
       "    <tr>\n",
       "      <th>3</th>\n",
       "      <td>OH</td>\n",
       "      <td>84</td>\n",
       "      <td>408</td>\n",
       "      <td>Yes</td>\n",
       "      <td>No</td>\n",
       "      <td>0</td>\n",
       "      <td>299.4</td>\n",
       "      <td>71</td>\n",
       "      <td>50.90</td>\n",
       "      <td>61.9</td>\n",
       "      <td>88</td>\n",
       "      <td>5.26</td>\n",
       "      <td>196.9</td>\n",
       "      <td>89</td>\n",
       "      <td>8.86</td>\n",
       "      <td>6.6</td>\n",
       "      <td>7</td>\n",
       "      <td>1.78</td>\n",
       "      <td>2</td>\n",
       "      <td>False</td>\n",
       "    </tr>\n",
       "    <tr>\n",
       "      <th>4</th>\n",
       "      <td>OK</td>\n",
       "      <td>75</td>\n",
       "      <td>415</td>\n",
       "      <td>Yes</td>\n",
       "      <td>No</td>\n",
       "      <td>0</td>\n",
       "      <td>166.7</td>\n",
       "      <td>113</td>\n",
       "      <td>28.34</td>\n",
       "      <td>148.3</td>\n",
       "      <td>122</td>\n",
       "      <td>12.61</td>\n",
       "      <td>186.9</td>\n",
       "      <td>121</td>\n",
       "      <td>8.41</td>\n",
       "      <td>10.1</td>\n",
       "      <td>3</td>\n",
       "      <td>2.73</td>\n",
       "      <td>3</td>\n",
       "      <td>False</td>\n",
       "    </tr>\n",
       "  </tbody>\n",
       "</table>\n",
       "</div>"
      ],
      "text/plain": [
       "  State  Account length  Area code International plan Voice mail plan  \\\n",
       "0    KS             128        415                 No             Yes   \n",
       "1    OH             107        415                 No             Yes   \n",
       "2    NJ             137        415                 No              No   \n",
       "3    OH              84        408                Yes              No   \n",
       "4    OK              75        415                Yes              No   \n",
       "\n",
       "   Number vmail messages  Total day minutes  Total day calls  \\\n",
       "0                     25              265.1              110   \n",
       "1                     26              161.6              123   \n",
       "2                      0              243.4              114   \n",
       "3                      0              299.4               71   \n",
       "4                      0              166.7              113   \n",
       "\n",
       "   Total day charge  Total eve minutes  Total eve calls  Total eve charge  \\\n",
       "0             45.07              197.4               99             16.78   \n",
       "1             27.47              195.5              103             16.62   \n",
       "2             41.38              121.2              110             10.30   \n",
       "3             50.90               61.9               88              5.26   \n",
       "4             28.34              148.3              122             12.61   \n",
       "\n",
       "   Total night minutes  Total night calls  Total night charge  \\\n",
       "0                244.7                 91               11.01   \n",
       "1                254.4                103               11.45   \n",
       "2                162.6                104                7.32   \n",
       "3                196.9                 89                8.86   \n",
       "4                186.9                121                8.41   \n",
       "\n",
       "   Total intl minutes  Total intl calls  Total intl charge  \\\n",
       "0                10.0                 3               2.70   \n",
       "1                13.7                 3               3.70   \n",
       "2                12.2                 5               3.29   \n",
       "3                 6.6                 7               1.78   \n",
       "4                10.1                 3               2.73   \n",
       "\n",
       "   Customer service calls  Churn  \n",
       "0                       1  False  \n",
       "1                       1  False  \n",
       "2                       0  False  \n",
       "3                       2  False  \n",
       "4                       3  False  "
      ]
     },
     "execution_count": 149,
     "metadata": {},
     "output_type": "execute_result"
    }
   ],
   "source": [
    "df.head()"
   ]
  },
  {
   "cell_type": "markdown",
   "id": "a0a55102",
   "metadata": {},
   "source": [
    "## 2) print all the column names"
   ]
  },
  {
   "cell_type": "code",
   "execution_count": 150,
   "id": "cd587fd9",
   "metadata": {},
   "outputs": [
    {
     "data": {
      "text/plain": [
       "Index(['State', 'Account length', 'Area code', 'International plan',\n",
       "       'Voice mail plan', 'Number vmail messages', 'Total day minutes',\n",
       "       'Total day calls', 'Total day charge', 'Total eve minutes',\n",
       "       'Total eve calls', 'Total eve charge', 'Total night minutes',\n",
       "       'Total night calls', 'Total night charge', 'Total intl minutes',\n",
       "       'Total intl calls', 'Total intl charge', 'Customer service calls',\n",
       "       'Churn'],\n",
       "      dtype='object')"
      ]
     },
     "execution_count": 150,
     "metadata": {},
     "output_type": "execute_result"
    }
   ],
   "source": [
    "df.columns"
   ]
  },
  {
   "cell_type": "markdown",
   "id": "677b47da",
   "metadata": {},
   "source": [
    "## 3) describe the data"
   ]
  },
  {
   "cell_type": "code",
   "execution_count": 151,
   "id": "0690cd1f",
   "metadata": {},
   "outputs": [
    {
     "data": {
      "text/html": [
       "<div>\n",
       "<style scoped>\n",
       "    .dataframe tbody tr th:only-of-type {\n",
       "        vertical-align: middle;\n",
       "    }\n",
       "\n",
       "    .dataframe tbody tr th {\n",
       "        vertical-align: top;\n",
       "    }\n",
       "\n",
       "    .dataframe thead th {\n",
       "        text-align: right;\n",
       "    }\n",
       "</style>\n",
       "<table border=\"1\" class=\"dataframe\">\n",
       "  <thead>\n",
       "    <tr style=\"text-align: right;\">\n",
       "      <th></th>\n",
       "      <th>Account length</th>\n",
       "      <th>Area code</th>\n",
       "      <th>Number vmail messages</th>\n",
       "      <th>Total day minutes</th>\n",
       "      <th>Total day calls</th>\n",
       "      <th>Total day charge</th>\n",
       "      <th>Total eve minutes</th>\n",
       "      <th>Total eve calls</th>\n",
       "      <th>Total eve charge</th>\n",
       "      <th>Total night minutes</th>\n",
       "      <th>Total night calls</th>\n",
       "      <th>Total night charge</th>\n",
       "      <th>Total intl minutes</th>\n",
       "      <th>Total intl calls</th>\n",
       "      <th>Total intl charge</th>\n",
       "      <th>Customer service calls</th>\n",
       "    </tr>\n",
       "  </thead>\n",
       "  <tbody>\n",
       "    <tr>\n",
       "      <th>count</th>\n",
       "      <td>2666.000000</td>\n",
       "      <td>2666.000000</td>\n",
       "      <td>2666.000000</td>\n",
       "      <td>2666.00000</td>\n",
       "      <td>2666.000000</td>\n",
       "      <td>2666.000000</td>\n",
       "      <td>2666.000000</td>\n",
       "      <td>2666.000000</td>\n",
       "      <td>2666.000000</td>\n",
       "      <td>2666.000000</td>\n",
       "      <td>2666.000000</td>\n",
       "      <td>2666.000000</td>\n",
       "      <td>2666.000000</td>\n",
       "      <td>2666.000000</td>\n",
       "      <td>2666.000000</td>\n",
       "      <td>2666.000000</td>\n",
       "    </tr>\n",
       "    <tr>\n",
       "      <th>mean</th>\n",
       "      <td>100.620405</td>\n",
       "      <td>437.438860</td>\n",
       "      <td>8.021755</td>\n",
       "      <td>179.48162</td>\n",
       "      <td>100.310203</td>\n",
       "      <td>30.512404</td>\n",
       "      <td>200.386159</td>\n",
       "      <td>100.023631</td>\n",
       "      <td>17.033072</td>\n",
       "      <td>201.168942</td>\n",
       "      <td>100.106152</td>\n",
       "      <td>9.052689</td>\n",
       "      <td>10.237022</td>\n",
       "      <td>4.467367</td>\n",
       "      <td>2.764490</td>\n",
       "      <td>1.562641</td>\n",
       "    </tr>\n",
       "    <tr>\n",
       "      <th>std</th>\n",
       "      <td>39.563974</td>\n",
       "      <td>42.521018</td>\n",
       "      <td>13.612277</td>\n",
       "      <td>54.21035</td>\n",
       "      <td>19.988162</td>\n",
       "      <td>9.215733</td>\n",
       "      <td>50.951515</td>\n",
       "      <td>20.161445</td>\n",
       "      <td>4.330864</td>\n",
       "      <td>50.780323</td>\n",
       "      <td>19.418459</td>\n",
       "      <td>2.285120</td>\n",
       "      <td>2.788349</td>\n",
       "      <td>2.456195</td>\n",
       "      <td>0.752812</td>\n",
       "      <td>1.311236</td>\n",
       "    </tr>\n",
       "    <tr>\n",
       "      <th>min</th>\n",
       "      <td>1.000000</td>\n",
       "      <td>408.000000</td>\n",
       "      <td>0.000000</td>\n",
       "      <td>0.00000</td>\n",
       "      <td>0.000000</td>\n",
       "      <td>0.000000</td>\n",
       "      <td>0.000000</td>\n",
       "      <td>0.000000</td>\n",
       "      <td>0.000000</td>\n",
       "      <td>43.700000</td>\n",
       "      <td>33.000000</td>\n",
       "      <td>1.970000</td>\n",
       "      <td>0.000000</td>\n",
       "      <td>0.000000</td>\n",
       "      <td>0.000000</td>\n",
       "      <td>0.000000</td>\n",
       "    </tr>\n",
       "    <tr>\n",
       "      <th>25%</th>\n",
       "      <td>73.000000</td>\n",
       "      <td>408.000000</td>\n",
       "      <td>0.000000</td>\n",
       "      <td>143.40000</td>\n",
       "      <td>87.000000</td>\n",
       "      <td>24.380000</td>\n",
       "      <td>165.300000</td>\n",
       "      <td>87.000000</td>\n",
       "      <td>14.050000</td>\n",
       "      <td>166.925000</td>\n",
       "      <td>87.000000</td>\n",
       "      <td>7.512500</td>\n",
       "      <td>8.500000</td>\n",
       "      <td>3.000000</td>\n",
       "      <td>2.300000</td>\n",
       "      <td>1.000000</td>\n",
       "    </tr>\n",
       "    <tr>\n",
       "      <th>50%</th>\n",
       "      <td>100.000000</td>\n",
       "      <td>415.000000</td>\n",
       "      <td>0.000000</td>\n",
       "      <td>179.95000</td>\n",
       "      <td>101.000000</td>\n",
       "      <td>30.590000</td>\n",
       "      <td>200.900000</td>\n",
       "      <td>100.000000</td>\n",
       "      <td>17.080000</td>\n",
       "      <td>201.150000</td>\n",
       "      <td>100.000000</td>\n",
       "      <td>9.050000</td>\n",
       "      <td>10.200000</td>\n",
       "      <td>4.000000</td>\n",
       "      <td>2.750000</td>\n",
       "      <td>1.000000</td>\n",
       "    </tr>\n",
       "    <tr>\n",
       "      <th>75%</th>\n",
       "      <td>127.000000</td>\n",
       "      <td>510.000000</td>\n",
       "      <td>19.000000</td>\n",
       "      <td>215.90000</td>\n",
       "      <td>114.000000</td>\n",
       "      <td>36.700000</td>\n",
       "      <td>235.100000</td>\n",
       "      <td>114.000000</td>\n",
       "      <td>19.980000</td>\n",
       "      <td>236.475000</td>\n",
       "      <td>113.000000</td>\n",
       "      <td>10.640000</td>\n",
       "      <td>12.100000</td>\n",
       "      <td>6.000000</td>\n",
       "      <td>3.270000</td>\n",
       "      <td>2.000000</td>\n",
       "    </tr>\n",
       "    <tr>\n",
       "      <th>max</th>\n",
       "      <td>243.000000</td>\n",
       "      <td>510.000000</td>\n",
       "      <td>50.000000</td>\n",
       "      <td>350.80000</td>\n",
       "      <td>160.000000</td>\n",
       "      <td>59.640000</td>\n",
       "      <td>363.700000</td>\n",
       "      <td>170.000000</td>\n",
       "      <td>30.910000</td>\n",
       "      <td>395.000000</td>\n",
       "      <td>166.000000</td>\n",
       "      <td>17.770000</td>\n",
       "      <td>20.000000</td>\n",
       "      <td>20.000000</td>\n",
       "      <td>5.400000</td>\n",
       "      <td>9.000000</td>\n",
       "    </tr>\n",
       "  </tbody>\n",
       "</table>\n",
       "</div>"
      ],
      "text/plain": [
       "       Account length    Area code  Number vmail messages  Total day minutes  \\\n",
       "count     2666.000000  2666.000000            2666.000000         2666.00000   \n",
       "mean       100.620405   437.438860               8.021755          179.48162   \n",
       "std         39.563974    42.521018              13.612277           54.21035   \n",
       "min          1.000000   408.000000               0.000000            0.00000   \n",
       "25%         73.000000   408.000000               0.000000          143.40000   \n",
       "50%        100.000000   415.000000               0.000000          179.95000   \n",
       "75%        127.000000   510.000000              19.000000          215.90000   \n",
       "max        243.000000   510.000000              50.000000          350.80000   \n",
       "\n",
       "       Total day calls  Total day charge  Total eve minutes  Total eve calls  \\\n",
       "count      2666.000000       2666.000000        2666.000000      2666.000000   \n",
       "mean        100.310203         30.512404         200.386159       100.023631   \n",
       "std          19.988162          9.215733          50.951515        20.161445   \n",
       "min           0.000000          0.000000           0.000000         0.000000   \n",
       "25%          87.000000         24.380000         165.300000        87.000000   \n",
       "50%         101.000000         30.590000         200.900000       100.000000   \n",
       "75%         114.000000         36.700000         235.100000       114.000000   \n",
       "max         160.000000         59.640000         363.700000       170.000000   \n",
       "\n",
       "       Total eve charge  Total night minutes  Total night calls  \\\n",
       "count       2666.000000          2666.000000        2666.000000   \n",
       "mean          17.033072           201.168942         100.106152   \n",
       "std            4.330864            50.780323          19.418459   \n",
       "min            0.000000            43.700000          33.000000   \n",
       "25%           14.050000           166.925000          87.000000   \n",
       "50%           17.080000           201.150000         100.000000   \n",
       "75%           19.980000           236.475000         113.000000   \n",
       "max           30.910000           395.000000         166.000000   \n",
       "\n",
       "       Total night charge  Total intl minutes  Total intl calls  \\\n",
       "count         2666.000000         2666.000000       2666.000000   \n",
       "mean             9.052689           10.237022          4.467367   \n",
       "std              2.285120            2.788349          2.456195   \n",
       "min              1.970000            0.000000          0.000000   \n",
       "25%              7.512500            8.500000          3.000000   \n",
       "50%              9.050000           10.200000          4.000000   \n",
       "75%             10.640000           12.100000          6.000000   \n",
       "max             17.770000           20.000000         20.000000   \n",
       "\n",
       "       Total intl charge  Customer service calls  \n",
       "count        2666.000000             2666.000000  \n",
       "mean            2.764490                1.562641  \n",
       "std             0.752812                1.311236  \n",
       "min             0.000000                0.000000  \n",
       "25%             2.300000                1.000000  \n",
       "50%             2.750000                1.000000  \n",
       "75%             3.270000                2.000000  \n",
       "max             5.400000                9.000000  "
      ]
     },
     "execution_count": 151,
     "metadata": {},
     "output_type": "execute_result"
    }
   ],
   "source": [
    "df.describe()"
   ]
  },
  {
   "cell_type": "markdown",
   "id": "fd3dba48",
   "metadata": {},
   "source": [
    "## 4) find all the Null values"
   ]
  },
  {
   "cell_type": "code",
   "execution_count": 152,
   "id": "d89060da",
   "metadata": {},
   "outputs": [
    {
     "data": {
      "text/plain": [
       "State                     0\n",
       "Account length            0\n",
       "Area code                 0\n",
       "International plan        0\n",
       "Voice mail plan           0\n",
       "Number vmail messages     0\n",
       "Total day minutes         0\n",
       "Total day calls           0\n",
       "Total day charge          0\n",
       "Total eve minutes         0\n",
       "Total eve calls           0\n",
       "Total eve charge          0\n",
       "Total night minutes       0\n",
       "Total night calls         0\n",
       "Total night charge        0\n",
       "Total intl minutes        0\n",
       "Total intl calls          0\n",
       "Total intl charge         0\n",
       "Customer service calls    0\n",
       "Churn                     0\n",
       "dtype: int64"
      ]
     },
     "execution_count": 152,
     "metadata": {},
     "output_type": "execute_result"
    }
   ],
   "source": [
    "df.isnull().sum()"
   ]
  },
  {
   "cell_type": "code",
   "execution_count": 153,
   "id": "d24c3635",
   "metadata": {},
   "outputs": [],
   "source": [
    "np.set_printoptions(threshold=np.inf)\n",
    "#df['State'].unique()"
   ]
  },
  {
   "cell_type": "markdown",
   "id": "164717a1",
   "metadata": {},
   "source": [
    "## 5) plot the customers who have international plans"
   ]
  },
  {
   "cell_type": "code",
   "execution_count": 154,
   "id": "81c474b5",
   "metadata": {},
   "outputs": [
    {
     "name": "stderr",
     "output_type": "stream",
     "text": [
      "C:\\ProgramData\\Anaconda3\\lib\\site-packages\\seaborn\\_decorators.py:36: FutureWarning: Pass the following variable as a keyword arg: x. From version 0.12, the only valid positional argument will be `data`, and passing other arguments without an explicit keyword will result in an error or misinterpretation.\n",
      "  warnings.warn(\n"
     ]
    },
    {
     "data": {
      "text/plain": [
       "<AxesSubplot:xlabel='International plan', ylabel='count'>"
      ]
     },
     "execution_count": 154,
     "metadata": {},
     "output_type": "execute_result"
    },
    {
     "data": {
      "image/png": "[encoded data removed]",
      "text/plain": [
       "<Figure size 432x288 with 1 Axes>"
      ]
     },
     "metadata": {
      "needs_background": "light"
     },
     "output_type": "display_data"
    }
   ],
   "source": [
    "sns.countplot(df['International plan'])"
   ]
  },
  {
   "cell_type": "code",
   "execution_count": 155,
   "id": "f8672c8e",
   "metadata": {},
   "outputs": [],
   "source": [
    "#plt.hist(df['International plan'])"
   ]
  },
  {
   "cell_type": "markdown",
   "id": "2416b529",
   "metadata": {},
   "source": [
    "## 6) plot the customers who have Voice mail plan"
   ]
  },
  {
   "cell_type": "code",
   "execution_count": 156,
   "id": "09f712e8",
   "metadata": {},
   "outputs": [
    {
     "name": "stderr",
     "output_type": "stream",
     "text": [
      "C:\\ProgramData\\Anaconda3\\lib\\site-packages\\seaborn\\_decorators.py:36: FutureWarning: Pass the following variable as a keyword arg: x. From version 0.12, the only valid positional argument will be `data`, and passing other arguments without an explicit keyword will result in an error or misinterpretation.\n",
      "  warnings.warn(\n"
     ]
    },
    {
     "data": {
      "text/plain": [
       "<AxesSubplot:xlabel='Voice mail plan', ylabel='count'>"
      ]
     },
     "execution_count": 156,
     "metadata": {},
     "output_type": "execute_result"
    },
    {
     "data": {
      "image/png": "[encoded data removed]",
      "text/plain": [
       "<Figure size 432x288 with 1 Axes>"
      ]
     },
     "metadata": {
      "needs_background": "light"
     },
     "output_type": "display_data"
    }
   ],
   "source": [
    "sns.countplot(df['Voice mail plan'])"
   ]
  },
  {
   "cell_type": "markdown",
   "id": "325a9cb6",
   "metadata": {},
   "source": [
    "## 7) Plot the total day calls"
   ]
  },
  {
   "cell_type": "code",
   "execution_count": 157,
   "id": "666abda5",
   "metadata": {},
   "outputs": [
    {
     "data": {
      "text/plain": [
       "<AxesSubplot:xlabel='Total day calls', ylabel='count'>"
      ]
     },
     "execution_count": 157,
     "metadata": {},
     "output_type": "execute_result"
    },
    {
     "data": {
      "image/png": "[encoded data removed]",
      "text/plain": [
       "<Figure size 1440x360 with 1 Axes>"
      ]
     },
     "metadata": {
      "needs_background": "light"
     },
     "output_type": "display_data"
    }
   ],
   "source": [
    "plt.figure(figsize=(20, 5))\n",
    "#plt.bar(df['State'],df['Total day calls'])\n",
    "sns.countplot(x=\"Total day calls\", data=df)"
   ]
  },
  {
   "cell_type": "markdown",
   "id": "e973ecd8",
   "metadata": {},
   "source": [
    "## 8) Plot the total day charge"
   ]
  },
  {
   "cell_type": "code",
   "execution_count": 158,
   "id": "d80e39fb",
   "metadata": {},
   "outputs": [
    {
     "name": "stderr",
     "output_type": "stream",
     "text": [
      "C:\\ProgramData\\Anaconda3\\lib\\site-packages\\seaborn\\_decorators.py:36: FutureWarning: Pass the following variable as a keyword arg: x. From version 0.12, the only valid positional argument will be `data`, and passing other arguments without an explicit keyword will result in an error or misinterpretation.\n",
      "  warnings.warn(\n"
     ]
    },
    {
     "data": {
      "text/plain": [
       "<AxesSubplot:xlabel='Total day charge', ylabel='count'>"
      ]
     },
     "execution_count": 158,
     "metadata": {},
     "output_type": "execute_result"
    },
    {
     "data": {
      "image/png": "[encoded data removed]",
      "text/plain": [
       "<Figure size 1440x360 with 1 Axes>"
      ]
     },
     "metadata": {
      "needs_background": "light"
     },
     "output_type": "display_data"
    }
   ],
   "source": [
    "plt.figure(figsize=(20, 5))\n",
    "sns.countplot(df['Total day charge'])"
   ]
  },
  {
   "cell_type": "markdown",
   "id": "a7ec19d0",
   "metadata": {},
   "source": [
    "## 9) Display pie chart for value count in Churn column"
   ]
  },
  {
   "cell_type": "code",
   "execution_count": 159,
   "id": "4e6ca04f",
   "metadata": {},
   "outputs": [
    {
     "data": {
      "text/plain": [
       "<AxesSubplot:ylabel='Churn'>"
      ]
     },
     "execution_count": 159,
     "metadata": {},
     "output_type": "execute_result"
    },
    {
     "data": {
      "image/png": "[encoded data removed]",
      "text/plain": [
       "<Figure size 720x360 with 1 Axes>"
      ]
     },
     "metadata": {},
     "output_type": "display_data"
    }
   ],
   "source": [
    "df.Churn.value_counts().plot(kind='pie',figsize=(10,5))"
   ]
  },
  {
   "cell_type": "markdown",
   "id": "ebe33b8e",
   "metadata": {},
   "source": [
    "## 10) Display a scatter plot between total day calls and total day charges"
   ]
  },
  {
   "cell_type": "code",
   "execution_count": 160,
   "id": "0709115a",
   "metadata": {},
   "outputs": [
    {
     "data": {
      "text/plain": [
       "<matplotlib.collections.PathCollection at 0x168e852ff40>"
      ]
     },
     "execution_count": 160,
     "metadata": {},
     "output_type": "execute_result"
    },
    {
     "data": {
      "image/png": "[encoded data removed]",
      "text/plain": [
       "<Figure size 432x288 with 1 Axes>"
      ]
     },
     "metadata": {
      "needs_background": "light"
     },
     "output_type": "display_data"
    }
   ],
   "source": [
    "plt.scatter(df['Total day calls'],df['Total day charge'])"
   ]
  },
  {
   "cell_type": "markdown",
   "id": "687f4dbb",
   "metadata": {},
   "source": [
    "## 11) Display a scatter plot between total day calls and total night calls"
   ]
  },
  {
   "cell_type": "code",
   "execution_count": 161,
   "id": "e25c6f0d",
   "metadata": {},
   "outputs": [
    {
     "data": {
      "text/plain": [
       "<matplotlib.collections.PathCollection at 0x168ea08ca60>"
      ]
     },
     "execution_count": 161,
     "metadata": {},
     "output_type": "execute_result"
    },
    {
     "data": {
      "image/png": "[encoded data removed]",
      "text/plain": [
       "<Figure size 432x288 with 1 Axes>"
      ]
     },
     "metadata": {
      "needs_background": "light"
     },
     "output_type": "display_data"
    }
   ],
   "source": [
    "plt.scatter(df['Total day calls'],df['Total night calls'])"
   ]
  },
  {
   "cell_type": "markdown",
   "id": "78e5f3fe",
   "metadata": {},
   "source": [
    "## 12) Display a boxplot of Total day minutes with respect to Churn"
   ]
  },
  {
   "cell_type": "code",
   "execution_count": 162,
   "id": "3a040eca",
   "metadata": {},
   "outputs": [
    {
     "data": {
      "text/plain": [
       "<AxesSubplot:xlabel='Churn', ylabel='Total day minutes'>"
      ]
     },
     "execution_count": 162,
     "metadata": {},
     "output_type": "execute_result"
    },
    {
     "data": {
      "image/png": "[encoded data removed]",
      "text/plain": [
       "<Figure size 432x288 with 1 Axes>"
      ]
     },
     "metadata": {
      "needs_background": "light"
     },
     "output_type": "display_data"
    }
   ],
   "source": [
    "sns.boxplot(x=\"Churn\", y=\"Total day minutes\", data=df)"
   ]
  },
  {
   "cell_type": "markdown",
   "id": "31efc2b9",
   "metadata": {},
   "source": [
    "## 13) Display a boxplot of Total day charge with respect to Churn "
   ]
  },
  {
   "cell_type": "code",
   "execution_count": 163,
   "id": "ba16a438",
   "metadata": {},
   "outputs": [
    {
     "data": {
      "text/plain": [
       "<AxesSubplot:xlabel='Churn', ylabel='Total day charge'>"
      ]
     },
     "execution_count": 163,
     "metadata": {},
     "output_type": "execute_result"
    },
    {
     "data": {
      "image/png": "[encoded data removed]",
      "text/plain": [
       "<Figure size 432x288 with 1 Axes>"
      ]
     },
     "metadata": {
      "needs_background": "light"
     },
     "output_type": "display_data"
    }
   ],
   "source": [
    "sns.boxplot(x=\"Churn\", y=\"Total day charge\", data=df)"
   ]
  },
  {
   "cell_type": "markdown",
   "id": "62978b47",
   "metadata": {},
   "source": [
    "# Part-2: Working with models"
   ]
  },
  {
   "cell_type": "markdown",
   "id": "1eb35628",
   "metadata": {},
   "source": [
    "## 1) Perform encoding on churn"
   ]
  },
  {
   "cell_type": "code",
   "execution_count": 164,
   "id": "ce5e587d",
   "metadata": {},
   "outputs": [],
   "source": [
    "from sklearn.preprocessing import LabelEncoder"
   ]
  },
  {
   "cell_type": "code",
   "execution_count": 165,
   "id": "3c621c4a",
   "metadata": {},
   "outputs": [],
   "source": [
    "lab_encode=LabelEncoder()"
   ]
  },
  {
   "cell_type": "code",
   "execution_count": 166,
   "id": "6426b845",
   "metadata": {},
   "outputs": [],
   "source": [
    "df['Churn']=lab_encode.fit_transform(df['Churn'])"
   ]
  },
  {
   "cell_type": "markdown",
   "id": "2ac0fa8d",
   "metadata": {},
   "source": [
    "## 2) Perform encoding on International Plan"
   ]
  },
  {
   "cell_type": "code",
   "execution_count": 167,
   "id": "5d8d72f5",
   "metadata": {},
   "outputs": [],
   "source": [
    "df['International plan']=lab_encode.fit_transform(df['International plan'])"
   ]
  },
  {
   "cell_type": "markdown",
   "id": "f44e1b74",
   "metadata": {},
   "source": [
    "## 3) Perform encoding on voice mail plan using sklearn"
   ]
  },
  {
   "cell_type": "code",
   "execution_count": 168,
   "id": "b207b3ae",
   "metadata": {},
   "outputs": [],
   "source": [
    "df['Voice mail plan']=lab_encode.fit_transform(df['Voice mail plan'])"
   ]
  },
  {
   "cell_type": "markdown",
   "id": "9dd113b1",
   "metadata": {},
   "source": [
    "## 4) Check the correlation among all the columns"
   ]
  },
  {
   "cell_type": "code",
   "execution_count": 169,
   "id": "c09a52f9",
   "metadata": {},
   "outputs": [],
   "source": [
    "df['State']=lab_encode.fit_transform(df['State'])"
   ]
  },
  {
   "cell_type": "code",
   "execution_count": 170,
   "id": "0f7b16ab",
   "metadata": {},
   "outputs": [
    {
     "data": {
      "text/html": [
       "<div>\n",
       "<style scoped>\n",
       "    .dataframe tbody tr th:only-of-type {\n",
       "        vertical-align: middle;\n",
       "    }\n",
       "\n",
       "    .dataframe tbody tr th {\n",
       "        vertical-align: top;\n",
       "    }\n",
       "\n",
       "    .dataframe thead th {\n",
       "        text-align: right;\n",
       "    }\n",
       "</style>\n",
       "<table border=\"1\" class=\"dataframe\">\n",
       "  <thead>\n",
       "    <tr style=\"text-align: right;\">\n",
       "      <th></th>\n",
       "      <th>State</th>\n",
       "      <th>Account length</th>\n",
       "      <th>Area code</th>\n",
       "      <th>International plan</th>\n",
       "      <th>Voice mail plan</th>\n",
       "      <th>Number vmail messages</th>\n",
       "      <th>Total day minutes</th>\n",
       "      <th>Total day calls</th>\n",
       "      <th>Total day charge</th>\n",
       "      <th>Total eve minutes</th>\n",
       "      <th>Total eve calls</th>\n",
       "      <th>Total eve charge</th>\n",
       "      <th>Total night minutes</th>\n",
       "      <th>Total night calls</th>\n",
       "      <th>Total night charge</th>\n",
       "      <th>Total intl minutes</th>\n",
       "      <th>Total intl calls</th>\n",
       "      <th>Total intl charge</th>\n",
       "      <th>Customer service calls</th>\n",
       "      <th>Churn</th>\n",
       "    </tr>\n",
       "  </thead>\n",
       "  <tbody>\n",
       "    <tr>\n",
       "      <th>0</th>\n",
       "      <td>16</td>\n",
       "      <td>128</td>\n",
       "      <td>415</td>\n",
       "      <td>0</td>\n",
       "      <td>1</td>\n",
       "      <td>25</td>\n",
       "      <td>265.1</td>\n",
       "      <td>110</td>\n",
       "      <td>45.07</td>\n",
       "      <td>197.4</td>\n",
       "      <td>99</td>\n",
       "      <td>16.78</td>\n",
       "      <td>244.7</td>\n",
       "      <td>91</td>\n",
       "      <td>11.01</td>\n",
       "      <td>10.0</td>\n",
       "      <td>3</td>\n",
       "      <td>2.70</td>\n",
       "      <td>1</td>\n",
       "      <td>0</td>\n",
       "    </tr>\n",
       "    <tr>\n",
       "      <th>1</th>\n",
       "      <td>35</td>\n",
       "      <td>107</td>\n",
       "      <td>415</td>\n",
       "      <td>0</td>\n",
       "      <td>1</td>\n",
       "      <td>26</td>\n",
       "      <td>161.6</td>\n",
       "      <td>123</td>\n",
       "      <td>27.47</td>\n",
       "      <td>195.5</td>\n",
       "      <td>103</td>\n",
       "      <td>16.62</td>\n",
       "      <td>254.4</td>\n",
       "      <td>103</td>\n",
       "      <td>11.45</td>\n",
       "      <td>13.7</td>\n",
       "      <td>3</td>\n",
       "      <td>3.70</td>\n",
       "      <td>1</td>\n",
       "      <td>0</td>\n",
       "    </tr>\n",
       "    <tr>\n",
       "      <th>2</th>\n",
       "      <td>31</td>\n",
       "      <td>137</td>\n",
       "      <td>415</td>\n",
       "      <td>0</td>\n",
       "      <td>0</td>\n",
       "      <td>0</td>\n",
       "      <td>243.4</td>\n",
       "      <td>114</td>\n",
       "      <td>41.38</td>\n",
       "      <td>121.2</td>\n",
       "      <td>110</td>\n",
       "      <td>10.30</td>\n",
       "      <td>162.6</td>\n",
       "      <td>104</td>\n",
       "      <td>7.32</td>\n",
       "      <td>12.2</td>\n",
       "      <td>5</td>\n",
       "      <td>3.29</td>\n",
       "      <td>0</td>\n",
       "      <td>0</td>\n",
       "    </tr>\n",
       "    <tr>\n",
       "      <th>3</th>\n",
       "      <td>35</td>\n",
       "      <td>84</td>\n",
       "      <td>408</td>\n",
       "      <td>1</td>\n",
       "      <td>0</td>\n",
       "      <td>0</td>\n",
       "      <td>299.4</td>\n",
       "      <td>71</td>\n",
       "      <td>50.90</td>\n",
       "      <td>61.9</td>\n",
       "      <td>88</td>\n",
       "      <td>5.26</td>\n",
       "      <td>196.9</td>\n",
       "      <td>89</td>\n",
       "      <td>8.86</td>\n",
       "      <td>6.6</td>\n",
       "      <td>7</td>\n",
       "      <td>1.78</td>\n",
       "      <td>2</td>\n",
       "      <td>0</td>\n",
       "    </tr>\n",
       "    <tr>\n",
       "      <th>4</th>\n",
       "      <td>36</td>\n",
       "      <td>75</td>\n",
       "      <td>415</td>\n",
       "      <td>1</td>\n",
       "      <td>0</td>\n",
       "      <td>0</td>\n",
       "      <td>166.7</td>\n",
       "      <td>113</td>\n",
       "      <td>28.34</td>\n",
       "      <td>148.3</td>\n",
       "      <td>122</td>\n",
       "      <td>12.61</td>\n",
       "      <td>186.9</td>\n",
       "      <td>121</td>\n",
       "      <td>8.41</td>\n",
       "      <td>10.1</td>\n",
       "      <td>3</td>\n",
       "      <td>2.73</td>\n",
       "      <td>3</td>\n",
       "      <td>0</td>\n",
       "    </tr>\n",
       "  </tbody>\n",
       "</table>\n",
       "</div>"
      ],
      "text/plain": [
       "   State  Account length  Area code  International plan  Voice mail plan  \\\n",
       "0     16             128        415                   0                1   \n",
       "1     35             107        415                   0                1   \n",
       "2     31             137        415                   0                0   \n",
       "3     35              84        408                   1                0   \n",
       "4     36              75        415                   1                0   \n",
       "\n",
       "   Number vmail messages  Total day minutes  Total day calls  \\\n",
       "0                     25              265.1              110   \n",
       "1                     26              161.6              123   \n",
       "2                      0              243.4              114   \n",
       "3                      0              299.4               71   \n",
       "4                      0              166.7              113   \n",
       "\n",
       "   Total day charge  Total eve minutes  Total eve calls  Total eve charge  \\\n",
       "0             45.07              197.4               99             16.78   \n",
       "1             27.47              195.5              103             16.62   \n",
       "2             41.38              121.2              110             10.30   \n",
       "3             50.90               61.9               88              5.26   \n",
       "4             28.34              148.3              122             12.61   \n",
       "\n",
       "   Total night minutes  Total night calls  Total night charge  \\\n",
       "0                244.7                 91               11.01   \n",
       "1                254.4                103               11.45   \n",
       "2                162.6                104                7.32   \n",
       "3                196.9                 89                8.86   \n",
       "4                186.9                121                8.41   \n",
       "\n",
       "   Total intl minutes  Total intl calls  Total intl charge  \\\n",
       "0                10.0                 3               2.70   \n",
       "1                13.7                 3               3.70   \n",
       "2                12.2                 5               3.29   \n",
       "3                 6.6                 7               1.78   \n",
       "4                10.1                 3               2.73   \n",
       "\n",
       "   Customer service calls  Churn  \n",
       "0                       1      0  \n",
       "1                       1      0  \n",
       "2                       0      0  \n",
       "3                       2      0  \n",
       "4                       3      0  "
      ]
     },
     "execution_count": 170,
     "metadata": {},
     "output_type": "execute_result"
    }
   ],
   "source": [
    "df.head()"
   ]
  },
  {
   "cell_type": "markdown",
   "id": "e95b2f3d",
   "metadata": {},
   "source": [
    "## 5) Create features and target data. Only select features data that are highly correlated with target data."
   ]
  },
  {
   "cell_type": "code",
   "execution_count": 171,
   "id": "e42fe06e",
   "metadata": {},
   "outputs": [],
   "source": [
    "fd=df.drop('Churn',axis=1)"
   ]
  },
  {
   "cell_type": "code",
   "execution_count": 172,
   "id": "ba661f5f",
   "metadata": {},
   "outputs": [],
   "source": [
    "td=df['Churn']"
   ]
  },
  {
   "cell_type": "code",
   "execution_count": 173,
   "id": "4a5956f6",
   "metadata": {},
   "outputs": [],
   "source": [
    "from sklearn.ensemble import ExtraTreesClassifier\n",
    "import matplotlib.pyplot as plt"
   ]
  },
  {
   "cell_type": "code",
   "execution_count": 174,
   "id": "640c29ed",
   "metadata": {},
   "outputs": [
    {
     "data": {
      "text/plain": [
       "ExtraTreesClassifier()"
      ]
     },
     "execution_count": 174,
     "metadata": {},
     "output_type": "execute_result"
    }
   ],
   "source": [
    "model = ExtraTreesClassifier()\n",
    "model.fit(fd,td)"
   ]
  },
  {
   "cell_type": "code",
   "execution_count": 175,
   "id": "e8737415",
   "metadata": {},
   "outputs": [],
   "source": [
    "feat_importances = pd.Series(model.feature_importances_, index=fd.columns)"
   ]
  },
  {
   "cell_type": "code",
   "execution_count": 176,
   "id": "f931969b",
   "metadata": {},
   "outputs": [
    {
     "data": {
      "image/png": "[encoded data removed]",
      "text/plain": [
       "<Figure size 432x288 with 1 Axes>"
      ]
     },
     "metadata": {
      "needs_background": "light"
     },
     "output_type": "display_data"
    }
   ],
   "source": [
    "feat_importances.nlargest(12).plot(kind='barh')\n",
    "plt.show()"
   ]
  },
  {
   "cell_type": "markdown",
   "id": "8582c4f9",
   "metadata": {},
   "source": [
    "## 6) Scale the target data (churn)"
   ]
  },
  {
   "cell_type": "code",
   "execution_count": 177,
   "id": "ce635af5",
   "metadata": {},
   "outputs": [
    {
     "name": "stderr",
     "output_type": "stream",
     "text": [
      "C:\\ProgramData\\Anaconda3\\lib\\site-packages\\seaborn\\_decorators.py:36: FutureWarning: Pass the following variable as a keyword arg: x. From version 0.12, the only valid positional argument will be `data`, and passing other arguments without an explicit keyword will result in an error or misinterpretation.\n",
      "  warnings.warn(\n"
     ]
    },
    {
     "data": {
      "text/plain": [
       "<AxesSubplot:xlabel='Churn', ylabel='count'>"
      ]
     },
     "execution_count": 177,
     "metadata": {},
     "output_type": "execute_result"
    },
    {
     "data": {
      "image/png": "[encoded data removed]",
      "text/plain": [
       "<Figure size 432x288 with 1 Axes>"
      ]
     },
     "metadata": {
      "needs_background": "light"
     },
     "output_type": "display_data"
    }
   ],
   "source": [
    "sns.countplot(td)"
   ]
  },
  {
   "cell_type": "markdown",
   "id": "8e3850b4",
   "metadata": {},
   "source": [
    "# Feture Scaling "
   ]
  },
  {
   "cell_type": "code",
   "execution_count": 178,
   "id": "c8ccce5c",
   "metadata": {},
   "outputs": [],
   "source": [
    "from sklearn.preprocessing import StandardScaler"
   ]
  },
  {
   "cell_type": "code",
   "execution_count": 179,
   "id": "c11d0173",
   "metadata": {},
   "outputs": [],
   "source": [
    "std_scaler=StandardScaler()"
   ]
  },
  {
   "cell_type": "code",
   "execution_count": 180,
   "id": "3cc530b3",
   "metadata": {},
   "outputs": [],
   "source": [
    "fd[['State','Account length','Area code','Number vmail messages','Total day minutes','Total day calls','Total day charge','Total eve minutes','Total eve calls','Total eve charge','Total night minutes','Total night calls','Total night charge','Total intl minutes','Total intl calls','Total intl charge','Customer service calls']]=std_scaler.fit_transform(fd[['State','Account length','Area code','Number vmail messages','Total day minutes','Total day calls','Total day charge','Total eve minutes','Total eve calls','Total eve charge','Total night minutes','Total night calls','Total night charge','Total intl minutes','Total intl calls','Total intl charge','Customer service calls']])"
   ]
  },
  {
   "cell_type": "markdown",
   "id": "6dccd919",
   "metadata": {},
   "source": [
    "# Split dataset into Train amd test"
   ]
  },
  {
   "cell_type": "code",
   "execution_count": 181,
   "id": "0c6ed078",
   "metadata": {},
   "outputs": [],
   "source": [
    "from sklearn.model_selection import train_test_split"
   ]
  },
  {
   "cell_type": "code",
   "execution_count": 182,
   "id": "24cebd91",
   "metadata": {},
   "outputs": [],
   "source": [
    "x_train,x_test,y_train,y_test=train_test_split(fd,td,test_size=0.30,random_state=10)"
   ]
  },
  {
   "cell_type": "markdown",
   "id": "6a34f466",
   "metadata": {},
   "source": [
    "## 7) Check the shape of both training data and testing data"
   ]
  },
  {
   "cell_type": "code",
   "execution_count": 183,
   "id": "dfacc40a",
   "metadata": {},
   "outputs": [
    {
     "data": {
      "text/plain": [
       "(1866, 19)"
      ]
     },
     "execution_count": 183,
     "metadata": {},
     "output_type": "execute_result"
    }
   ],
   "source": [
    "x_train.shape"
   ]
  },
  {
   "cell_type": "code",
   "execution_count": 184,
   "id": "2e4642cc",
   "metadata": {},
   "outputs": [
    {
     "data": {
      "text/plain": [
       "(2666,)"
      ]
     },
     "execution_count": 184,
     "metadata": {},
     "output_type": "execute_result"
    }
   ],
   "source": [
    "td.shape"
   ]
  },
  {
   "cell_type": "markdown",
   "id": "efcfc02b",
   "metadata": {},
   "source": [
    "## 8) Apply Logistic regression"
   ]
  },
  {
   "cell_type": "code",
   "execution_count": 185,
   "id": "977032c0",
   "metadata": {},
   "outputs": [],
   "source": [
    "from sklearn.linear_model import LogisticRegression"
   ]
  },
  {
   "cell_type": "code",
   "execution_count": 186,
   "id": "d4981837",
   "metadata": {},
   "outputs": [],
   "source": [
    "lr_model=LogisticRegression()"
   ]
  },
  {
   "cell_type": "code",
   "execution_count": 196,
   "id": "7c9b04f8",
   "metadata": {},
   "outputs": [
    {
     "data": {
      "text/plain": [
       "LogisticRegression()"
      ]
     },
     "execution_count": 196,
     "metadata": {},
     "output_type": "execute_result"
    }
   ],
   "source": [
    "lr_model.fit(x_train,y_train)"
   ]
  },
  {
   "cell_type": "code",
   "execution_count": 197,
   "id": "4e1d8ba9",
   "metadata": {},
   "outputs": [
    {
     "data": {
      "text/plain": [
       "0.8708467309753484"
      ]
     },
     "execution_count": 197,
     "metadata": {},
     "output_type": "execute_result"
    }
   ],
   "source": [
    "lr_model.score(x_train,y_train)"
   ]
  },
  {
   "cell_type": "code",
   "execution_count": 198,
   "id": "d9f42db5",
   "metadata": {},
   "outputs": [
    {
     "data": {
      "text/plain": [
       "0.845"
      ]
     },
     "execution_count": 198,
     "metadata": {},
     "output_type": "execute_result"
    }
   ],
   "source": [
    "lr_model.score(x_test,y_test)"
   ]
  },
  {
   "cell_type": "markdown",
   "id": "fb72e81b",
   "metadata": {},
   "source": [
    "## 9) Display confusion matrix"
   ]
  },
  {
   "cell_type": "code",
   "execution_count": 199,
   "id": "c143741d",
   "metadata": {},
   "outputs": [],
   "source": [
    "y_prd=lr_model.predict(x_test)"
   ]
  },
  {
   "cell_type": "code",
   "execution_count": 200,
   "id": "cbe5672f",
   "metadata": {},
   "outputs": [],
   "source": [
    "from sklearn.metrics import confusion_matrix"
   ]
  },
  {
   "cell_type": "code",
   "execution_count": 201,
   "id": "c89315cd",
   "metadata": {},
   "outputs": [
    {
     "name": "stdout",
     "output_type": "stream",
     "text": [
      "Confusion Matrix: \n",
      " [[650  28]\n",
      " [ 96  26]]\n"
     ]
    }
   ],
   "source": [
    "print(\"Confusion Matrix:\",\"\\n\",confusion_matrix(y_test,y_prd))"
   ]
  },
  {
   "cell_type": "markdown",
   "id": "6d645f7a",
   "metadata": {},
   "source": [
    "## 10) Perform Hyper parameter tuning"
   ]
  },
  {
   "cell_type": "code",
   "execution_count": 202,
   "id": "1bf57eeb",
   "metadata": {},
   "outputs": [],
   "source": [
    "lr_model=LogisticRegression()"
   ]
  },
  {
   "cell_type": "markdown",
   "id": "7f079528",
   "metadata": {},
   "source": [
    "## 11) Create a model"
   ]
  },
  {
   "cell_type": "markdown",
   "id": "47d17111",
   "metadata": {},
   "source": [
    "## 12) Check the model score of both training and testing data"
   ]
  },
  {
   "cell_type": "code",
   "execution_count": 203,
   "id": "5df0c1b6",
   "metadata": {},
   "outputs": [
    {
     "ename": "NotFittedError",
     "evalue": "This LogisticRegression instance is not fitted yet. Call 'fit' with appropriate arguments before using this estimator.",
     "output_type": "error",
     "traceback": [
      "\u001b[1;31m---------------------------------------------------------------------------\u001b[0m",
      "\u001b[1;31mNotFittedError\u001b[0m                            Traceback (most recent call last)",
      "\u001b[1;32m<ipython-input-203-7e1738cfb81f>\u001b[0m in \u001b[0;36m<module>\u001b[1;34m\u001b[0m\n\u001b[1;32m----> 1\u001b[1;33m \u001b[0mlr_model\u001b[0m\u001b[1;33m.\u001b[0m\u001b[0mscore\u001b[0m\u001b[1;33m(\u001b[0m\u001b[0mx_train\u001b[0m\u001b[1;33m,\u001b[0m\u001b[0my_train\u001b[0m\u001b[1;33m)\u001b[0m\u001b[1;33m\u001b[0m\u001b[1;33m\u001b[0m\u001b[0m\n\u001b[0m",
      "\u001b[1;32mC:\\ProgramData\\Anaconda3\\lib\\site-packages\\sklearn\\base.py\u001b[0m in \u001b[0;36mscore\u001b[1;34m(self, X, y, sample_weight)\u001b[0m\n\u001b[0;32m    498\u001b[0m         \"\"\"\n\u001b[0;32m    499\u001b[0m         \u001b[1;32mfrom\u001b[0m \u001b[1;33m.\u001b[0m\u001b[0mmetrics\u001b[0m \u001b[1;32mimport\u001b[0m \u001b[0maccuracy_score\u001b[0m\u001b[1;33m\u001b[0m\u001b[1;33m\u001b[0m\u001b[0m\n\u001b[1;32m--> 500\u001b[1;33m         \u001b[1;32mreturn\u001b[0m \u001b[0maccuracy_score\u001b[0m\u001b[1;33m(\u001b[0m\u001b[0my\u001b[0m\u001b[1;33m,\u001b[0m \u001b[0mself\u001b[0m\u001b[1;33m.\u001b[0m\u001b[0mpredict\u001b[0m\u001b[1;33m(\u001b[0m\u001b[0mX\u001b[0m\u001b[1;33m)\u001b[0m\u001b[1;33m,\u001b[0m \u001b[0msample_weight\u001b[0m\u001b[1;33m=\u001b[0m\u001b[0msample_weight\u001b[0m\u001b[1;33m)\u001b[0m\u001b[1;33m\u001b[0m\u001b[1;33m\u001b[0m\u001b[0m\n\u001b[0m\u001b[0;32m    501\u001b[0m \u001b[1;33m\u001b[0m\u001b[0m\n\u001b[0;32m    502\u001b[0m     \u001b[1;32mdef\u001b[0m \u001b[0m_more_tags\u001b[0m\u001b[1;33m(\u001b[0m\u001b[0mself\u001b[0m\u001b[1;33m)\u001b[0m\u001b[1;33m:\u001b[0m\u001b[1;33m\u001b[0m\u001b[1;33m\u001b[0m\u001b[0m\n",
      "\u001b[1;32mC:\\ProgramData\\Anaconda3\\lib\\site-packages\\sklearn\\linear_model\\_base.py\u001b[0m in \u001b[0;36mpredict\u001b[1;34m(self, X)\u001b[0m\n\u001b[0;32m    307\u001b[0m             \u001b[0mPredicted\u001b[0m \u001b[1;32mclass\u001b[0m \u001b[0mlabel\u001b[0m \u001b[0mper\u001b[0m \u001b[0msample\u001b[0m\u001b[1;33m.\u001b[0m\u001b[1;33m\u001b[0m\u001b[1;33m\u001b[0m\u001b[0m\n\u001b[0;32m    308\u001b[0m         \"\"\"\n\u001b[1;32m--> 309\u001b[1;33m         \u001b[0mscores\u001b[0m \u001b[1;33m=\u001b[0m \u001b[0mself\u001b[0m\u001b[1;33m.\u001b[0m\u001b[0mdecision_function\u001b[0m\u001b[1;33m(\u001b[0m\u001b[0mX\u001b[0m\u001b[1;33m)\u001b[0m\u001b[1;33m\u001b[0m\u001b[1;33m\u001b[0m\u001b[0m\n\u001b[0m\u001b[0;32m    310\u001b[0m         \u001b[1;32mif\u001b[0m \u001b[0mlen\u001b[0m\u001b[1;33m(\u001b[0m\u001b[0mscores\u001b[0m\u001b[1;33m.\u001b[0m\u001b[0mshape\u001b[0m\u001b[1;33m)\u001b[0m \u001b[1;33m==\u001b[0m \u001b[1;36m1\u001b[0m\u001b[1;33m:\u001b[0m\u001b[1;33m\u001b[0m\u001b[1;33m\u001b[0m\u001b[0m\n\u001b[0;32m    311\u001b[0m             \u001b[0mindices\u001b[0m \u001b[1;33m=\u001b[0m \u001b[1;33m(\u001b[0m\u001b[0mscores\u001b[0m \u001b[1;33m>\u001b[0m \u001b[1;36m0\u001b[0m\u001b[1;33m)\u001b[0m\u001b[1;33m.\u001b[0m\u001b[0mastype\u001b[0m\u001b[1;33m(\u001b[0m\u001b[0mint\u001b[0m\u001b[1;33m)\u001b[0m\u001b[1;33m\u001b[0m\u001b[1;33m\u001b[0m\u001b[0m\n",
      "\u001b[1;32mC:\\ProgramData\\Anaconda3\\lib\\site-packages\\sklearn\\linear_model\\_base.py\u001b[0m in \u001b[0;36mdecision_function\u001b[1;34m(self, X)\u001b[0m\n\u001b[0;32m    280\u001b[0m             \u001b[1;32mclass\u001b[0m \u001b[0mwould\u001b[0m \u001b[0mbe\u001b[0m \u001b[0mpredicted\u001b[0m\u001b[1;33m.\u001b[0m\u001b[1;33m\u001b[0m\u001b[1;33m\u001b[0m\u001b[0m\n\u001b[0;32m    281\u001b[0m         \"\"\"\n\u001b[1;32m--> 282\u001b[1;33m         \u001b[0mcheck_is_fitted\u001b[0m\u001b[1;33m(\u001b[0m\u001b[0mself\u001b[0m\u001b[1;33m)\u001b[0m\u001b[1;33m\u001b[0m\u001b[1;33m\u001b[0m\u001b[0m\n\u001b[0m\u001b[0;32m    283\u001b[0m \u001b[1;33m\u001b[0m\u001b[0m\n\u001b[0;32m    284\u001b[0m         \u001b[0mX\u001b[0m \u001b[1;33m=\u001b[0m \u001b[0mcheck_array\u001b[0m\u001b[1;33m(\u001b[0m\u001b[0mX\u001b[0m\u001b[1;33m,\u001b[0m \u001b[0maccept_sparse\u001b[0m\u001b[1;33m=\u001b[0m\u001b[1;34m'csr'\u001b[0m\u001b[1;33m)\u001b[0m\u001b[1;33m\u001b[0m\u001b[1;33m\u001b[0m\u001b[0m\n",
      "\u001b[1;32mC:\\ProgramData\\Anaconda3\\lib\\site-packages\\sklearn\\utils\\validation.py\u001b[0m in \u001b[0;36minner_f\u001b[1;34m(*args, **kwargs)\u001b[0m\n\u001b[0;32m     61\u001b[0m             \u001b[0mextra_args\u001b[0m \u001b[1;33m=\u001b[0m \u001b[0mlen\u001b[0m\u001b[1;33m(\u001b[0m\u001b[0margs\u001b[0m\u001b[1;33m)\u001b[0m \u001b[1;33m-\u001b[0m \u001b[0mlen\u001b[0m\u001b[1;33m(\u001b[0m\u001b[0mall_args\u001b[0m\u001b[1;33m)\u001b[0m\u001b[1;33m\u001b[0m\u001b[1;33m\u001b[0m\u001b[0m\n\u001b[0;32m     62\u001b[0m             \u001b[1;32mif\u001b[0m \u001b[0mextra_args\u001b[0m \u001b[1;33m<=\u001b[0m \u001b[1;36m0\u001b[0m\u001b[1;33m:\u001b[0m\u001b[1;33m\u001b[0m\u001b[1;33m\u001b[0m\u001b[0m\n\u001b[1;32m---> 63\u001b[1;33m                 \u001b[1;32mreturn\u001b[0m \u001b[0mf\u001b[0m\u001b[1;33m(\u001b[0m\u001b[1;33m*\u001b[0m\u001b[0margs\u001b[0m\u001b[1;33m,\u001b[0m \u001b[1;33m**\u001b[0m\u001b[0mkwargs\u001b[0m\u001b[1;33m)\u001b[0m\u001b[1;33m\u001b[0m\u001b[1;33m\u001b[0m\u001b[0m\n\u001b[0m\u001b[0;32m     64\u001b[0m \u001b[1;33m\u001b[0m\u001b[0m\n\u001b[0;32m     65\u001b[0m             \u001b[1;31m# extra_args > 0\u001b[0m\u001b[1;33m\u001b[0m\u001b[1;33m\u001b[0m\u001b[1;33m\u001b[0m\u001b[0m\n",
      "\u001b[1;32mC:\\ProgramData\\Anaconda3\\lib\\site-packages\\sklearn\\utils\\validation.py\u001b[0m in \u001b[0;36mcheck_is_fitted\u001b[1;34m(estimator, attributes, msg, all_or_any)\u001b[0m\n\u001b[0;32m   1039\u001b[0m \u001b[1;33m\u001b[0m\u001b[0m\n\u001b[0;32m   1040\u001b[0m     \u001b[1;32mif\u001b[0m \u001b[1;32mnot\u001b[0m \u001b[0mattrs\u001b[0m\u001b[1;33m:\u001b[0m\u001b[1;33m\u001b[0m\u001b[1;33m\u001b[0m\u001b[0m\n\u001b[1;32m-> 1041\u001b[1;33m         \u001b[1;32mraise\u001b[0m \u001b[0mNotFittedError\u001b[0m\u001b[1;33m(\u001b[0m\u001b[0mmsg\u001b[0m \u001b[1;33m%\u001b[0m \u001b[1;33m{\u001b[0m\u001b[1;34m'name'\u001b[0m\u001b[1;33m:\u001b[0m \u001b[0mtype\u001b[0m\u001b[1;33m(\u001b[0m\u001b[0mestimator\u001b[0m\u001b[1;33m)\u001b[0m\u001b[1;33m.\u001b[0m\u001b[0m__name__\u001b[0m\u001b[1;33m}\u001b[0m\u001b[1;33m)\u001b[0m\u001b[1;33m\u001b[0m\u001b[1;33m\u001b[0m\u001b[0m\n\u001b[0m\u001b[0;32m   1042\u001b[0m \u001b[1;33m\u001b[0m\u001b[0m\n\u001b[0;32m   1043\u001b[0m \u001b[1;33m\u001b[0m\u001b[0m\n",
      "\u001b[1;31mNotFittedError\u001b[0m: This LogisticRegression instance is not fitted yet. Call 'fit' with appropriate arguments before using this estimator."
     ]
    }
   ],
   "source": [
    "lr_model.score(x_train,y_train)"
   ]
  },
  {
   "cell_type": "code",
   "execution_count": 204,
   "id": "282bccda",
   "metadata": {},
   "outputs": [
    {
     "ename": "NotFittedError",
     "evalue": "This LogisticRegression instance is not fitted yet. Call 'fit' with appropriate arguments before using this estimator.",
     "output_type": "error",
     "traceback": [
      "\u001b[1;31m---------------------------------------------------------------------------\u001b[0m",
      "\u001b[1;31mNotFittedError\u001b[0m                            Traceback (most recent call last)",
      "\u001b[1;32m<ipython-input-204-5a65082d0ca3>\u001b[0m in \u001b[0;36m<module>\u001b[1;34m\u001b[0m\n\u001b[1;32m----> 1\u001b[1;33m \u001b[0mlr_model\u001b[0m\u001b[1;33m.\u001b[0m\u001b[0mscore\u001b[0m\u001b[1;33m(\u001b[0m\u001b[0mx_test\u001b[0m\u001b[1;33m,\u001b[0m\u001b[0my_test\u001b[0m\u001b[1;33m)\u001b[0m\u001b[1;33m\u001b[0m\u001b[1;33m\u001b[0m\u001b[0m\n\u001b[0m",
      "\u001b[1;32mC:\\ProgramData\\Anaconda3\\lib\\site-packages\\sklearn\\base.py\u001b[0m in \u001b[0;36mscore\u001b[1;34m(self, X, y, sample_weight)\u001b[0m\n\u001b[0;32m    498\u001b[0m         \"\"\"\n\u001b[0;32m    499\u001b[0m         \u001b[1;32mfrom\u001b[0m \u001b[1;33m.\u001b[0m\u001b[0mmetrics\u001b[0m \u001b[1;32mimport\u001b[0m \u001b[0maccuracy_score\u001b[0m\u001b[1;33m\u001b[0m\u001b[1;33m\u001b[0m\u001b[0m\n\u001b[1;32m--> 500\u001b[1;33m         \u001b[1;32mreturn\u001b[0m \u001b[0maccuracy_score\u001b[0m\u001b[1;33m(\u001b[0m\u001b[0my\u001b[0m\u001b[1;33m,\u001b[0m \u001b[0mself\u001b[0m\u001b[1;33m.\u001b[0m\u001b[0mpredict\u001b[0m\u001b[1;33m(\u001b[0m\u001b[0mX\u001b[0m\u001b[1;33m)\u001b[0m\u001b[1;33m,\u001b[0m \u001b[0msample_weight\u001b[0m\u001b[1;33m=\u001b[0m\u001b[0msample_weight\u001b[0m\u001b[1;33m)\u001b[0m\u001b[1;33m\u001b[0m\u001b[1;33m\u001b[0m\u001b[0m\n\u001b[0m\u001b[0;32m    501\u001b[0m \u001b[1;33m\u001b[0m\u001b[0m\n\u001b[0;32m    502\u001b[0m     \u001b[1;32mdef\u001b[0m \u001b[0m_more_tags\u001b[0m\u001b[1;33m(\u001b[0m\u001b[0mself\u001b[0m\u001b[1;33m)\u001b[0m\u001b[1;33m:\u001b[0m\u001b[1;33m\u001b[0m\u001b[1;33m\u001b[0m\u001b[0m\n",
      "\u001b[1;32mC:\\ProgramData\\Anaconda3\\lib\\site-packages\\sklearn\\linear_model\\_base.py\u001b[0m in \u001b[0;36mpredict\u001b[1;34m(self, X)\u001b[0m\n\u001b[0;32m    307\u001b[0m             \u001b[0mPredicted\u001b[0m \u001b[1;32mclass\u001b[0m \u001b[0mlabel\u001b[0m \u001b[0mper\u001b[0m \u001b[0msample\u001b[0m\u001b[1;33m.\u001b[0m\u001b[1;33m\u001b[0m\u001b[1;33m\u001b[0m\u001b[0m\n\u001b[0;32m    308\u001b[0m         \"\"\"\n\u001b[1;32m--> 309\u001b[1;33m         \u001b[0mscores\u001b[0m \u001b[1;33m=\u001b[0m \u001b[0mself\u001b[0m\u001b[1;33m.\u001b[0m\u001b[0mdecision_function\u001b[0m\u001b[1;33m(\u001b[0m\u001b[0mX\u001b[0m\u001b[1;33m)\u001b[0m\u001b[1;33m\u001b[0m\u001b[1;33m\u001b[0m\u001b[0m\n\u001b[0m\u001b[0;32m    310\u001b[0m         \u001b[1;32mif\u001b[0m \u001b[0mlen\u001b[0m\u001b[1;33m(\u001b[0m\u001b[0mscores\u001b[0m\u001b[1;33m.\u001b[0m\u001b[0mshape\u001b[0m\u001b[1;33m)\u001b[0m \u001b[1;33m==\u001b[0m \u001b[1;36m1\u001b[0m\u001b[1;33m:\u001b[0m\u001b[1;33m\u001b[0m\u001b[1;33m\u001b[0m\u001b[0m\n\u001b[0;32m    311\u001b[0m             \u001b[0mindices\u001b[0m \u001b[1;33m=\u001b[0m \u001b[1;33m(\u001b[0m\u001b[0mscores\u001b[0m \u001b[1;33m>\u001b[0m \u001b[1;36m0\u001b[0m\u001b[1;33m)\u001b[0m\u001b[1;33m.\u001b[0m\u001b[0mastype\u001b[0m\u001b[1;33m(\u001b[0m\u001b[0mint\u001b[0m\u001b[1;33m)\u001b[0m\u001b[1;33m\u001b[0m\u001b[1;33m\u001b[0m\u001b[0m\n",
      "\u001b[1;32mC:\\ProgramData\\Anaconda3\\lib\\site-packages\\sklearn\\linear_model\\_base.py\u001b[0m in \u001b[0;36mdecision_function\u001b[1;34m(self, X)\u001b[0m\n\u001b[0;32m    280\u001b[0m             \u001b[1;32mclass\u001b[0m \u001b[0mwould\u001b[0m \u001b[0mbe\u001b[0m \u001b[0mpredicted\u001b[0m\u001b[1;33m.\u001b[0m\u001b[1;33m\u001b[0m\u001b[1;33m\u001b[0m\u001b[0m\n\u001b[0;32m    281\u001b[0m         \"\"\"\n\u001b[1;32m--> 282\u001b[1;33m         \u001b[0mcheck_is_fitted\u001b[0m\u001b[1;33m(\u001b[0m\u001b[0mself\u001b[0m\u001b[1;33m)\u001b[0m\u001b[1;33m\u001b[0m\u001b[1;33m\u001b[0m\u001b[0m\n\u001b[0m\u001b[0;32m    283\u001b[0m \u001b[1;33m\u001b[0m\u001b[0m\n\u001b[0;32m    284\u001b[0m         \u001b[0mX\u001b[0m \u001b[1;33m=\u001b[0m \u001b[0mcheck_array\u001b[0m\u001b[1;33m(\u001b[0m\u001b[0mX\u001b[0m\u001b[1;33m,\u001b[0m \u001b[0maccept_sparse\u001b[0m\u001b[1;33m=\u001b[0m\u001b[1;34m'csr'\u001b[0m\u001b[1;33m)\u001b[0m\u001b[1;33m\u001b[0m\u001b[1;33m\u001b[0m\u001b[0m\n",
      "\u001b[1;32mC:\\ProgramData\\Anaconda3\\lib\\site-packages\\sklearn\\utils\\validation.py\u001b[0m in \u001b[0;36minner_f\u001b[1;34m(*args, **kwargs)\u001b[0m\n\u001b[0;32m     61\u001b[0m             \u001b[0mextra_args\u001b[0m \u001b[1;33m=\u001b[0m \u001b[0mlen\u001b[0m\u001b[1;33m(\u001b[0m\u001b[0margs\u001b[0m\u001b[1;33m)\u001b[0m \u001b[1;33m-\u001b[0m \u001b[0mlen\u001b[0m\u001b[1;33m(\u001b[0m\u001b[0mall_args\u001b[0m\u001b[1;33m)\u001b[0m\u001b[1;33m\u001b[0m\u001b[1;33m\u001b[0m\u001b[0m\n\u001b[0;32m     62\u001b[0m             \u001b[1;32mif\u001b[0m \u001b[0mextra_args\u001b[0m \u001b[1;33m<=\u001b[0m \u001b[1;36m0\u001b[0m\u001b[1;33m:\u001b[0m\u001b[1;33m\u001b[0m\u001b[1;33m\u001b[0m\u001b[0m\n\u001b[1;32m---> 63\u001b[1;33m                 \u001b[1;32mreturn\u001b[0m \u001b[0mf\u001b[0m\u001b[1;33m(\u001b[0m\u001b[1;33m*\u001b[0m\u001b[0margs\u001b[0m\u001b[1;33m,\u001b[0m \u001b[1;33m**\u001b[0m\u001b[0mkwargs\u001b[0m\u001b[1;33m)\u001b[0m\u001b[1;33m\u001b[0m\u001b[1;33m\u001b[0m\u001b[0m\n\u001b[0m\u001b[0;32m     64\u001b[0m \u001b[1;33m\u001b[0m\u001b[0m\n\u001b[0;32m     65\u001b[0m             \u001b[1;31m# extra_args > 0\u001b[0m\u001b[1;33m\u001b[0m\u001b[1;33m\u001b[0m\u001b[1;33m\u001b[0m\u001b[0m\n",
      "\u001b[1;32mC:\\ProgramData\\Anaconda3\\lib\\site-packages\\sklearn\\utils\\validation.py\u001b[0m in \u001b[0;36mcheck_is_fitted\u001b[1;34m(estimator, attributes, msg, all_or_any)\u001b[0m\n\u001b[0;32m   1039\u001b[0m \u001b[1;33m\u001b[0m\u001b[0m\n\u001b[0;32m   1040\u001b[0m     \u001b[1;32mif\u001b[0m \u001b[1;32mnot\u001b[0m \u001b[0mattrs\u001b[0m\u001b[1;33m:\u001b[0m\u001b[1;33m\u001b[0m\u001b[1;33m\u001b[0m\u001b[0m\n\u001b[1;32m-> 1041\u001b[1;33m         \u001b[1;32mraise\u001b[0m \u001b[0mNotFittedError\u001b[0m\u001b[1;33m(\u001b[0m\u001b[0mmsg\u001b[0m \u001b[1;33m%\u001b[0m \u001b[1;33m{\u001b[0m\u001b[1;34m'name'\u001b[0m\u001b[1;33m:\u001b[0m \u001b[0mtype\u001b[0m\u001b[1;33m(\u001b[0m\u001b[0mestimator\u001b[0m\u001b[1;33m)\u001b[0m\u001b[1;33m.\u001b[0m\u001b[0m__name__\u001b[0m\u001b[1;33m}\u001b[0m\u001b[1;33m)\u001b[0m\u001b[1;33m\u001b[0m\u001b[1;33m\u001b[0m\u001b[0m\n\u001b[0m\u001b[0;32m   1042\u001b[0m \u001b[1;33m\u001b[0m\u001b[0m\n\u001b[0;32m   1043\u001b[0m \u001b[1;33m\u001b[0m\u001b[0m\n",
      "\u001b[1;31mNotFittedError\u001b[0m: This LogisticRegression instance is not fitted yet. Call 'fit' with appropriate arguments before using this estimator."
     ]
    }
   ],
   "source": [
    "lr_model.score(x_test,y_test)"
   ]
  },
  {
   "cell_type": "markdown",
   "id": "53e49fa2",
   "metadata": {},
   "source": [
    "## 13) Perform cross validation technique with SVM Classifier"
   ]
  },
  {
   "cell_type": "code",
   "execution_count": 212,
   "id": "041870ed",
   "metadata": {},
   "outputs": [],
   "source": [
    "from sklearn.svm import SVC"
   ]
  },
  {
   "cell_type": "code",
   "execution_count": 213,
   "id": "9b680509",
   "metadata": {},
   "outputs": [],
   "source": [
    "svm_model=SVC()"
   ]
  },
  {
   "cell_type": "code",
   "execution_count": 214,
   "id": "46378907",
   "metadata": {},
   "outputs": [
    {
     "data": {
      "text/plain": [
       "SVC()"
      ]
     },
     "execution_count": 214,
     "metadata": {},
     "output_type": "execute_result"
    }
   ],
   "source": [
    "svm_model.fit(x_train,y_train)"
   ]
  },
  {
   "cell_type": "code",
   "execution_count": 215,
   "id": "e81e6fc3",
   "metadata": {},
   "outputs": [
    {
     "data": {
      "text/plain": [
       "0.9303322615219721"
      ]
     },
     "execution_count": 215,
     "metadata": {},
     "output_type": "execute_result"
    }
   ],
   "source": [
    "svm_model.score(x_train,y_train)"
   ]
  },
  {
   "cell_type": "code",
   "execution_count": 216,
   "id": "c3744af8",
   "metadata": {},
   "outputs": [
    {
     "data": {
      "text/plain": [
       "0.89625"
      ]
     },
     "execution_count": 216,
     "metadata": {},
     "output_type": "execute_result"
    }
   ],
   "source": [
    "svm_model.score(x_test,y_test)"
   ]
  },
  {
   "cell_type": "markdown",
   "id": "a4aa40e3",
   "metadata": {},
   "source": [
    "## 14) Perform hyperparameter tuning with different classifier models"
   ]
  },
  {
   "cell_type": "code",
   "execution_count": 217,
   "id": "502eb302",
   "metadata": {},
   "outputs": [],
   "source": [
    "svm_model_linear=SVC(kernel='poly')"
   ]
  },
  {
   "cell_type": "code",
   "execution_count": 218,
   "id": "93edb7de",
   "metadata": {},
   "outputs": [
    {
     "data": {
      "text/plain": [
       "SVC(kernel='poly')"
      ]
     },
     "execution_count": 218,
     "metadata": {},
     "output_type": "execute_result"
    }
   ],
   "source": [
    "svm_model_linear.fit(x_train,y_train)"
   ]
  },
  {
   "cell_type": "code",
   "execution_count": 219,
   "id": "560d64b2",
   "metadata": {},
   "outputs": [
    {
     "data": {
      "text/plain": [
       "0.9281886387995713"
      ]
     },
     "execution_count": 219,
     "metadata": {},
     "output_type": "execute_result"
    }
   ],
   "source": [
    "svm_model_linear.score(x_train,y_train)"
   ]
  },
  {
   "cell_type": "code",
   "execution_count": 220,
   "id": "9a6226be",
   "metadata": {},
   "outputs": [
    {
     "data": {
      "text/plain": [
       "0.89"
      ]
     },
     "execution_count": 220,
     "metadata": {},
     "output_type": "execute_result"
    }
   ],
   "source": [
    "svm_model_linear.score(x_test,y_test)"
   ]
  },
  {
   "cell_type": "markdown",
   "id": "89fcbbe0",
   "metadata": {},
   "source": [
    "## 15) Perform k-means clustering on dataset and divide it into four clusters"
   ]
  },
  {
   "cell_type": "code",
   "execution_count": 231,
   "id": "8d12bf95",
   "metadata": {},
   "outputs": [],
   "source": [
    "from sklearn.cluster import KMeans"
   ]
  },
  {
   "cell_type": "code",
   "execution_count": 232,
   "id": "07432458",
   "metadata": {},
   "outputs": [
    {
     "data": {
      "text/plain": [
       "KMeans(n_clusters=5)"
      ]
     },
     "execution_count": 232,
     "metadata": {},
     "output_type": "execute_result"
    }
   ],
   "source": [
    "km = KMeans(n_clusters=5,)\n",
    "km.fit(fd,td)"
   ]
  },
  {
   "cell_type": "code",
   "execution_count": 233,
   "id": "41f4c113",
   "metadata": {},
   "outputs": [
    {
     "data": {
      "text/plain": [
       "array([0, 1, 3, 3, 3, 4, 0, 3, 1, 3, 3, 2, 2, 0, 3, 0, 3, 2, 4, 3, 2, 1,\n",
       "       0, 3, 4, 1, 1, 1, 0, 4, 0, 2, 3, 2, 3, 0, 1, 2, 4, 2, 4, 2, 4, 4,\n",
       "       2, 2, 1, 3, 3, 0, 3, 0, 1, 3, 4, 0, 2, 0, 3, 1, 1, 3, 4, 4, 0, 3,\n",
       "       1, 0, 1, 3, 0, 0, 3, 0, 3, 0, 2, 4, 4, 3, 3, 4, 4, 4, 3, 1, 0, 1,\n",
       "       1, 2, 1, 1, 1, 0, 3, 0, 3, 0, 3, 4, 3, 3, 1, 2, 4, 2, 1, 2, 4, 4,\n",
       "       4, 1, 4, 0, 1, 3, 2, 1, 3, 0, 1, 3, 0, 1, 0, 4, 1, 4, 0, 1, 3, 3,\n",
       "       0, 0, 1, 3, 0, 4, 1, 3, 0, 4, 0, 2, 1, 4, 1, 3, 2, 0, 0, 0, 3, 3,\n",
       "       4, 3, 3, 4, 2, 0, 4, 1, 0, 1, 1, 0, 4, 4, 2, 2, 1, 1, 0, 0, 2, 1,\n",
       "       0, 1, 3, 4, 0, 3, 1, 1, 2, 1, 4, 3, 0, 0, 0, 0, 2, 4, 3, 2, 3, 3,\n",
       "       1, 4, 4, 1, 2, 1, 1, 1, 1, 0, 2, 1, 2, 2, 4, 1, 2, 1, 4, 1, 3, 1,\n",
       "       4, 4, 0, 1, 0, 1, 0, 3, 0, 4, 3, 1, 1, 3, 4, 1, 4, 2, 1, 4, 3, 2,\n",
       "       2, 0, 0, 0, 0, 1, 0, 1, 2, 1, 2, 2, 2, 4, 0, 4, 1, 2, 2, 1, 2, 0,\n",
       "       0, 0, 2, 0, 2, 2, 4, 3, 2, 4, 0, 4, 1, 1, 4, 3, 3, 1, 3, 3, 1, 1,\n",
       "       0, 3, 1, 3, 2, 2, 4, 0, 1, 2, 0, 2, 1, 2, 0, 1, 1, 2, 1, 3, 4, 2,\n",
       "       4, 0, 1, 4, 4, 2, 0, 1, 2, 1, 2, 1, 0, 0, 3, 3, 2, 1, 3, 3, 4, 0,\n",
       "       4, 3, 2, 4, 3, 4, 3, 0, 4, 1, 2, 0, 0, 0, 1, 3, 2, 2, 0, 2, 1, 3,\n",
       "       0, 3, 4, 4, 2, 0, 2, 2, 0, 1, 2, 4, 2, 0, 0, 0, 2, 4, 3, 0, 4, 4,\n",
       "       3, 1, 1, 0, 1, 2, 3, 2, 1, 0, 4, 1, 1, 2, 4, 2, 0, 3, 0, 4, 2, 2,\n",
       "       4, 3, 3, 2, 2, 4, 1, 1, 1, 1, 2, 1, 3, 2, 0, 4, 4, 0, 2, 2, 2, 3,\n",
       "       3, 1, 0, 2, 2, 0, 3, 2, 4, 4, 0, 3, 2, 1, 3, 2, 3, 1, 1, 4, 0, 3,\n",
       "       0, 2, 2, 3, 2, 1, 4, 1, 2, 0, 3, 4, 4, 4, 0, 0, 3, 1, 2, 0, 0, 0,\n",
       "       3, 4, 0, 4, 3, 3, 1, 0, 2, 4, 3, 0, 3, 0, 1, 4, 3, 3, 4, 2, 2, 4,\n",
       "       2, 0, 2, 0, 1, 4, 4, 4, 3, 0, 1, 3, 4, 2, 4, 4, 2, 0, 1, 2, 2, 1,\n",
       "       1, 1, 4, 1, 3, 1, 0, 0, 0, 3, 3, 3, 4, 0, 0, 3, 3, 3, 3, 3, 1, 3,\n",
       "       4, 4, 3, 0, 1, 3, 2, 3, 0, 3, 0, 3, 2, 1, 3, 2, 4, 1, 4, 0, 3, 3,\n",
       "       1, 1, 4, 2, 4, 4, 3, 1, 2, 4, 4, 1, 4, 3, 1, 4, 3, 2, 1, 1, 1, 0,\n",
       "       4, 4, 3, 3, 4, 3, 1, 2, 4, 0, 2, 1, 3, 0, 2, 4, 4, 0, 3, 1, 3, 1,\n",
       "       2, 0, 2, 1, 0, 0, 4, 1, 3, 0, 1, 0, 2, 1, 4, 3, 1, 1, 4, 1, 0, 3,\n",
       "       1, 0, 0, 0, 3, 2, 0, 2, 0, 0, 3, 0, 1, 0, 0, 4, 1, 0, 3, 3, 1, 2,\n",
       "       4, 3, 3, 0, 4, 0, 4, 1, 3, 3, 1, 3, 3, 2, 2, 4, 0, 1, 1, 3, 2, 0,\n",
       "       4, 0, 0, 2, 3, 2, 3, 1, 1, 0, 2, 3, 0, 4, 4, 1, 3, 0, 1, 1, 1, 3,\n",
       "       3, 0, 4, 4, 1, 1, 1, 1, 3, 2, 2, 4, 4, 1, 4, 2, 2, 3, 4, 2, 4, 4,\n",
       "       3, 4, 2, 2, 2, 1, 0, 1, 4, 0, 4, 4, 0, 3, 1, 1, 4, 4, 0, 3, 1, 0,\n",
       "       3, 2, 1, 4, 3, 2, 4, 1, 3, 3, 2, 3, 4, 1, 0, 2, 3, 1, 1, 1, 1, 1,\n",
       "       4, 1, 3, 1, 0, 4, 0, 2, 3, 2, 0, 3, 1, 4, 1, 0, 2, 3, 0, 2, 1, 3,\n",
       "       3, 2, 1, 3, 0, 2, 4, 1, 4, 2, 0, 3, 0, 1, 0, 4, 3, 1, 0, 3, 2, 0,\n",
       "       3, 0, 1, 4, 3, 2, 4, 2, 3, 2, 1, 1, 0, 3, 2, 0, 1, 3, 2, 2, 2, 1,\n",
       "       4, 0, 4, 3, 0, 2, 3, 3, 1, 4, 0, 1, 2, 4, 2, 4, 4, 2, 0, 2, 1, 3,\n",
       "       3, 3, 3, 3, 3, 1, 1, 0, 1, 1, 2, 2, 2, 3, 0, 2, 4, 4, 0, 0, 0, 4,\n",
       "       4, 1, 3, 2, 2, 3, 4, 4, 0, 4, 4, 0, 2, 3, 1, 0, 1, 3, 4, 1, 0, 1,\n",
       "       2, 1, 0, 1, 1, 1, 2, 2, 3, 3, 2, 1, 0, 0, 0, 1, 2, 0, 3, 4, 2, 4,\n",
       "       0, 3, 3, 3, 2, 3, 2, 2, 4, 1, 3, 4, 3, 4, 3, 0, 1, 1, 4, 3, 3, 2,\n",
       "       3, 3, 1, 2, 3, 0, 4, 0, 3, 0, 0, 2, 4, 2, 3, 2, 4, 1, 0, 3, 1, 2,\n",
       "       4, 0, 4, 4, 0, 4, 0, 0, 4, 2, 1, 2, 4, 2, 2, 2, 3, 2, 3, 4, 2, 0,\n",
       "       0, 0, 3, 2, 1, 1, 1, 0, 4, 2, 4, 2, 4, 3, 1, 3, 1, 4, 0, 4, 3, 3,\n",
       "       0, 3, 4, 2, 2, 4, 1, 1, 3, 1, 0, 0, 2, 1, 3, 1, 3, 0, 0, 2, 3, 4,\n",
       "       2, 0, 1, 0, 3, 4, 1, 0, 3, 3, 0, 1, 2, 1, 3, 2, 1, 2, 4, 3, 3, 3,\n",
       "       4, 4, 3, 4, 0, 0, 3, 4, 1, 1, 4, 4, 2, 4, 3, 0, 0, 4, 2, 2, 2, 4,\n",
       "       3, 2, 2, 0, 1, 4, 0, 2, 1, 1, 2, 0, 1, 1, 3, 1, 3, 4, 0, 0, 1, 0,\n",
       "       2, 4, 4, 4, 1, 4, 1, 2, 1, 0, 2, 2, 2, 3, 1, 3, 0, 3, 4, 4, 0, 3,\n",
       "       2, 1, 1, 4, 4, 3, 2, 2, 4, 1, 4, 2, 2, 2, 2, 4, 3, 1, 0, 4, 3, 1,\n",
       "       3, 0, 4, 4, 2, 2, 0, 0, 0, 2, 4, 0, 4, 3, 1, 1, 4, 3, 0, 2, 3, 1,\n",
       "       3, 1, 2, 2, 4, 4, 1, 3, 2, 3, 4, 4, 3, 2, 1, 4, 0, 3, 2, 0, 0, 1,\n",
       "       3, 0, 1, 2, 3, 3, 1, 1, 1, 1, 0, 4, 2, 4, 1, 0, 3, 4, 0, 3, 2, 1,\n",
       "       2, 1, 4, 1, 1, 4, 0, 0, 4, 3, 0, 4, 1, 4, 0, 4, 3, 2, 4, 2, 2, 3,\n",
       "       2, 4, 4, 2, 3, 0, 1, 1, 2, 2, 3, 3, 1, 4, 1, 2, 3, 1, 2, 0, 2, 2,\n",
       "       0, 1, 3, 1, 1, 4, 3, 3, 3, 0, 1, 1, 1, 1, 4, 1, 1, 0, 3, 2, 3, 2,\n",
       "       3, 0, 4, 1, 0, 1, 1, 2, 1, 1, 4, 0, 3, 1, 4, 0, 0, 2, 1, 1, 1, 1,\n",
       "       2, 4, 4, 0, 4, 1, 1, 1, 0, 2, 2, 3, 3, 0, 3, 3, 1, 2, 0, 1, 1, 2,\n",
       "       2, 4, 3, 3, 0, 0, 1, 0, 3, 4, 0, 3, 0, 3, 4, 1, 4, 4, 3, 0, 3, 2,\n",
       "       0, 3, 3, 4, 4, 1, 1, 3, 0, 2, 3, 2, 1, 0, 2, 0, 3, 3, 2, 2, 2, 0,\n",
       "       4, 1, 1, 0, 1, 4, 3, 3, 2, 0, 3, 1, 4, 2, 0, 2, 1, 2, 1, 1, 3, 2,\n",
       "       3, 2, 1, 2, 2, 2, 0, 2, 4, 2, 2, 4, 4, 3, 2, 0, 3, 1, 1, 3, 4, 4,\n",
       "       1, 4, 2, 3, 3, 3, 1, 0, 4, 4, 3, 2, 4, 2, 3, 2, 2, 1, 2, 1, 4, 0,\n",
       "       0, 1, 3, 3, 1, 4, 0, 2, 2, 4, 4, 0, 2, 1, 2, 0, 3, 4, 0, 4, 1, 0,\n",
       "       3, 1, 0, 1, 0, 4, 0, 0, 3, 1, 1, 0, 1, 3, 1, 2, 0, 3, 1, 0, 0, 1,\n",
       "       2, 2, 4, 1, 3, 1, 2, 1, 3, 2, 3, 0, 3, 1, 4, 4, 3, 2, 0, 0, 4, 4,\n",
       "       3, 0, 2, 0, 3, 1, 4, 0, 4, 4, 1, 4, 2, 4, 1, 0, 3, 1, 4, 0, 2, 0,\n",
       "       4, 3, 2, 1, 3, 4, 1, 4, 1, 0, 0, 3, 2, 4, 3, 0, 1, 2, 4, 1, 4, 3,\n",
       "       4, 1, 1, 4, 2, 3, 1, 1, 2, 3, 2, 1, 2, 1, 0, 1, 3, 3, 4, 2, 1, 4,\n",
       "       1, 1, 4, 0, 4, 4, 4, 2, 3, 4, 0, 0, 0, 3, 0, 3, 2, 2, 2, 3, 0, 2,\n",
       "       1, 1, 0, 3, 0, 0, 3, 4, 1, 2, 2, 0, 2, 2, 3, 1, 1, 2, 3, 4, 3, 0,\n",
       "       2, 3, 2, 2, 3, 0, 1, 3, 1, 2, 4, 4, 0, 2, 2, 4, 3, 3, 3, 0, 3, 4,\n",
       "       4, 3, 2, 3, 2, 1, 4, 2, 0, 2, 2, 0, 1, 0, 0, 2, 1, 0, 0, 2, 3, 0,\n",
       "       1, 1, 1, 4, 4, 2, 0, 2, 3, 1, 1, 4, 0, 2, 1, 1, 0, 0, 2, 3, 0, 3,\n",
       "       4, 3, 1, 2, 3, 0, 1, 3, 1, 0, 1, 0, 3, 4, 1, 2, 1, 0, 2, 0, 4, 0,\n",
       "       3, 3, 3, 2, 0, 2, 4, 0, 0, 2, 0, 1, 0, 2, 2, 3, 1, 2, 0, 1, 3, 3,\n",
       "       1, 1, 2, 3, 1, 4, 1, 3, 4, 0, 1, 4, 0, 1, 2, 0, 0, 1, 1, 1, 4, 2,\n",
       "       3, 2, 3, 0, 2, 0, 0, 1, 3, 2, 1, 0, 3, 2, 1, 2, 3, 4, 4, 0, 2, 0,\n",
       "       4, 3, 1, 1, 4, 3, 2, 3, 2, 4, 1, 2, 2, 4, 0, 1, 2, 0, 1, 2, 2, 2,\n",
       "       0, 2, 4, 2, 4, 4, 3, 2, 2, 3, 1, 2, 3, 1, 3, 0, 0, 4, 0, 2, 0, 0,\n",
       "       3, 2, 1, 4, 2, 1, 3, 1, 1, 2, 0, 4, 1, 3, 3, 1, 1, 3, 4, 4, 2, 4,\n",
       "       0, 3, 0, 2, 0, 2, 4, 3, 2, 3, 3, 4, 0, 4, 0, 0, 2, 0, 4, 0, 0, 1,\n",
       "       2, 1, 1, 3, 0, 4, 4, 1, 4, 1, 2, 4, 1, 3, 1, 1, 1, 4, 3, 0, 0, 4,\n",
       "       3, 3, 2, 2, 2, 0, 2, 1, 2, 2, 4, 3, 2, 0, 1, 1, 0, 2, 3, 3, 0, 0,\n",
       "       2, 0, 4, 0, 1, 3, 2, 2, 4, 3, 2, 2, 2, 1, 2, 0, 4, 3, 1, 2, 4, 4,\n",
       "       4, 3, 4, 2, 2, 1, 4, 2, 1, 0, 3, 4, 1, 2, 1, 1, 4, 3, 3, 3, 1, 3,\n",
       "       0, 4, 2, 0, 1, 3, 2, 3, 4, 3, 2, 4, 0, 3, 3, 0, 0, 2, 2, 3, 1, 1,\n",
       "       0, 3, 3, 2, 2, 2, 0, 3, 2, 0, 3, 2, 2, 0, 1, 4, 1, 2, 2, 1, 3, 2,\n",
       "       2, 2, 1, 1, 2, 0, 2, 3, 2, 0, 2, 0, 0, 1, 1, 4, 4, 3, 3, 3, 4, 1,\n",
       "       0, 0, 2, 4, 1, 1, 0, 3, 3, 1, 2, 3, 2, 4, 3, 1, 2, 0, 2, 2, 0, 1,\n",
       "       0, 0, 3, 4, 1, 2, 3, 1, 1, 2, 3, 0, 0, 2, 1, 1, 1, 0, 1, 3, 3, 1,\n",
       "       1, 4, 0, 2, 1, 1, 3, 2, 4, 0, 4, 1, 1, 3, 4, 0, 2, 0, 4, 2, 2, 2,\n",
       "       0, 0, 2, 4, 1, 2, 2, 4, 2, 0, 0, 4, 3, 1, 3, 0, 4, 3, 1, 2, 1, 0,\n",
       "       3, 4, 0, 0, 2, 1, 0, 4, 1, 4, 2, 4, 1, 0, 2, 4, 1, 4, 2, 0, 0, 4,\n",
       "       0, 1, 2, 3, 4, 3, 0, 2, 1, 3, 2, 4, 3, 0, 2, 3, 4, 1, 4, 1, 3, 0,\n",
       "       1, 2, 0, 2, 3, 3, 1, 1, 4, 0, 1, 1, 3, 0, 3, 0, 1, 0, 4, 4, 1, 2,\n",
       "       4, 3, 0, 0, 1, 0, 0, 2, 1, 1, 2, 1, 0, 3, 4, 3, 1, 4, 4, 2, 4, 3,\n",
       "       0, 4, 2, 1, 3, 1, 0, 3, 2, 1, 2, 1, 4, 0, 3, 0, 2, 0, 2, 4, 3, 2,\n",
       "       1, 0, 0, 2, 0, 3, 0, 0, 2, 4, 1, 4, 1, 1, 3, 3, 3, 3, 3, 3, 2, 2,\n",
       "       1, 0, 0, 4, 1, 1, 2, 1, 3, 2, 0, 0, 3, 2, 3, 4, 0, 2, 2, 1, 0, 3,\n",
       "       4, 1, 1, 4, 0, 2, 2, 1, 1, 1, 4, 0, 0, 4, 1, 0, 1, 1, 1, 4, 3, 2,\n",
       "       2, 4, 1, 3, 4, 2, 0, 0, 2, 3, 2, 1, 3, 0, 4, 2, 3, 2, 1, 3, 2, 4,\n",
       "       3, 1, 2, 4, 2, 3, 3, 1, 0, 2, 4, 2, 4, 0, 3, 1, 4, 3, 3, 0, 2, 3,\n",
       "       4, 2, 2, 4, 1, 3, 4, 2, 3, 4, 1, 1, 2, 3, 0, 0, 2, 3, 2, 3, 1, 1,\n",
       "       2, 0, 3, 4, 1, 4, 3, 3, 2, 1, 4, 4, 4, 3, 0, 3, 1, 3, 4, 1, 3, 0,\n",
       "       2, 2, 2, 4, 4, 3, 4, 4, 4, 3, 3, 0, 4, 2, 0, 4, 3, 2, 1, 2, 2, 2,\n",
       "       4, 0, 3, 0, 3, 4, 1, 4, 0, 2, 3, 0, 0, 4, 1, 0, 1, 1, 1, 4, 3, 4,\n",
       "       0, 3, 3, 4, 4, 4, 0, 4, 3, 3, 1, 1, 4, 1, 2, 0, 2, 4, 3, 0, 3, 3,\n",
       "       0, 3, 3, 0, 0, 0, 4, 1, 2, 0, 1, 2, 3, 0, 2, 2, 4, 3, 2, 4, 1, 1,\n",
       "       0, 4, 2, 2, 3, 1, 0, 1, 4, 1, 3, 2, 3, 2, 0, 4, 4, 1, 4, 3, 4, 0,\n",
       "       2, 3, 1, 1, 1, 1, 4, 2, 3, 2, 4, 1, 1, 1, 0, 3, 0, 2, 2, 1, 2, 3,\n",
       "       0, 4, 2, 2, 3, 0, 3, 3, 2, 4, 1, 2, 2, 3, 4, 4, 3, 2, 1, 4, 3, 0,\n",
       "       0, 3, 3, 2, 1, 2, 1, 0, 1, 1, 2, 2, 1, 1, 3, 0, 0, 1, 4, 1, 0, 3,\n",
       "       0, 0, 1, 1, 2, 4, 3, 4, 0, 2, 3, 1, 3, 4, 0, 3, 2, 1, 4, 2, 0, 0,\n",
       "       4, 3, 4, 4, 1, 1, 2, 0, 0, 4, 0, 3, 0, 3, 2, 1, 0, 1, 1, 4, 3, 1,\n",
       "       3, 3, 2, 4, 3, 1, 0, 3, 3, 4, 0, 1, 1, 2, 3, 4, 2, 0, 2, 2, 2, 3,\n",
       "       4, 1, 4, 1, 4, 0, 0, 2, 0, 1, 0, 4, 4, 4, 0, 2, 0, 2, 4, 0, 4, 3,\n",
       "       3, 2, 3, 1, 0, 2, 0, 0, 0, 0, 1, 1, 2, 0, 3, 2, 4, 4, 0, 0, 0, 0,\n",
       "       2, 1, 3, 4, 1, 0, 1, 4, 4, 0, 3, 4, 3, 0, 2, 2, 3, 3, 0, 2, 3, 2,\n",
       "       2, 1, 0, 0, 1, 1, 1, 2, 1, 3, 2, 3, 1, 4, 2, 1, 2, 0, 2, 1, 2, 1,\n",
       "       1, 3, 0, 0])"
      ]
     },
     "execution_count": 233,
     "metadata": {},
     "output_type": "execute_result"
    }
   ],
   "source": [
    "y_prd = km.fit_predict(fd)\n",
    "y_prd"
   ]
  },
  {
   "cell_type": "code",
   "execution_count": 234,
   "id": "b6bfb6f0",
   "metadata": {},
   "outputs": [],
   "source": [
    "from sklearn.metrics import silhouette_score"
   ]
  },
  {
   "cell_type": "code",
   "execution_count": 235,
   "id": "346ba18d",
   "metadata": {},
   "outputs": [
    {
     "data": {
      "text/plain": [
       "0.07187393092874604"
      ]
     },
     "execution_count": 235,
     "metadata": {},
     "output_type": "execute_result"
    }
   ],
   "source": [
    "score_agg = silhouette_score(df, y_prd)\n",
    "score_agg"
   ]
  },
  {
   "cell_type": "markdown",
   "id": "811d3649",
   "metadata": {},
   "source": [
    "## 16) Apply PCA give n components value to 3 show we only get 3 columns after applying PCA"
   ]
  },
  {
   "cell_type": "code",
   "execution_count": null,
   "id": "d7bc6818",
   "metadata": {},
   "outputs": [],
   "source": []
  },
  {
   "cell_type": "code",
   "execution_count": null,
   "id": "f610492f",
   "metadata": {},
   "outputs": [],
   "source": []
  },
  {
   "cell_type": "markdown",
   "id": "9881e1ca",
   "metadata": {},
   "source": [
    "# Diffrent Algorithm "
   ]
  },
  {
   "cell_type": "code",
   "execution_count": 236,
   "id": "f66b6fb7",
   "metadata": {},
   "outputs": [],
   "source": [
    "from sklearn.tree import DecisionTreeRegressor\n",
    "from sklearn.neighbors import KNeighborsRegressor\n",
    "#from sklearn.ensemble import RandomForestRegressor\n",
    "from sklearn.ensemble import RandomForestClassifier\n",
    "from sklearn.svm import SVR"
   ]
  },
  {
   "cell_type": "code",
   "execution_count": 237,
   "id": "692001eb",
   "metadata": {},
   "outputs": [
    {
     "name": "stdout",
     "output_type": "stream",
     "text": [
      "<class 'sklearn.tree._classes.DecisionTreeRegressor'> Train data accuracy 1.0\n",
      "<class 'sklearn.tree._classes.DecisionTreeRegressor'> Testind data accuracy 0.2649547850476329\n",
      "<class 'sklearn.svm._classes.SVR'> Train data accuracy 0.6992763031724136\n",
      "<class 'sklearn.svm._classes.SVR'> Testind data accuracy 0.40221139893953883\n",
      "<class 'sklearn.ensemble._forest.RandomForestRegressor'> Train data accuracy 0.9484043984962406\n",
      "<class 'sklearn.ensemble._forest.RandomForestRegressor'> Testind data accuracy 0.6373557715556846\n",
      "<class 'sklearn.neighbors._regression.KNeighborsRegressor'> Train data accuracy 0.4519501879699247\n",
      "<class 'sklearn.neighbors._regression.KNeighborsRegressor'> Testind data accuracy 0.19880071570191982\n"
     ]
    }
   ],
   "source": [
    "model = [DecisionTreeRegressor,SVR,RandomForestRegressor,KNeighborsRegressor]\n",
    "\n",
    "for mod in model:\n",
    "    reg = mod()\n",
    "    reg = reg.fit(x_train,y_train)\n",
    "    print(mod , 'Train data accuracy',reg.score(x_train,y_train))\n",
    "    print(mod , 'Testind data accuracy',reg.score(x_test,y_test))"
   ]
  },
  {
   "cell_type": "code",
   "execution_count": null,
   "id": "3c284056",
   "metadata": {},
   "outputs": [],
   "source": []
  }
 ],
 "metadata": {
  "kernelspec": {
   "display_name": "Python 3",
   "language": "python",
   "name": "python3"
  },
  "language_info": {
   "codemirror_mode": {
    "name": "ipython",
    "version": 3
   },
   "file_extension": ".py",
   "mimetype": "text/x-python",
   "name": "python",
   "nbconvert_exporter": "python",
   "pygments_lexer": "ipython3",
   "version": "3.8.8"
  }
 },
 "nbformat": 4,
 "nbformat_minor": 5
}
