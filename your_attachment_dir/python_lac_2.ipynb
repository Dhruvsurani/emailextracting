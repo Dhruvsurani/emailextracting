{
 "cells": [
  {
   "cell_type": "code",
   "execution_count": 1,
   "id": "cf6b870e",
   "metadata": {},
   "outputs": [
    {
     "name": "stdout",
     "output_type": "stream",
     "text": [
      "hello\n"
     ]
    }
   ],
   "source": [
    "print(\"hello\")"
   ]
  },
  {
   "cell_type": "markdown",
   "id": "4a1a9383",
   "metadata": {},
   "source": [
    "# Data Types:\n",
    "    >List  : Ordered and changeble : []\n",
    "    \n",
    "        * append()\n",
    "        * insert()\n",
    "        * Remove Items From List\n",
    "              #remove() ==>value as a parameter,If the list contains more than one matching the specified value, only the first one is deleted.\n",
    "              #pop()    ==>using index\n",
    "              #del      ==>removing one item as well as whole list\n",
    "              #clear()  ==>Empties the list\n",
    "              #copy     ==>\n",
    "        * Extend()\n",
    "                 \n",
    "    >Tuple : Ordered and Unchangeble : ()\n",
    "    \n",
    "        * del\n",
    "        * count()\n",
    "        * index()\n",
    "    \n",
    "    >Set : Unordered and unindexed  ,Duplication Not allowed: {}\n",
    "    \n",
    "        * add() ==> you can not change the iteam but you can add new iteams.\n",
    "        * update() ==> add more than one iteam\n",
    "        * remove() ==> value as a parameter  \n",
    "    \n",
    "    \n",
    "    >Dictonary : Unorderd, changeble and indexed : {}\n",
    "    \n",
    "        * copy()\n",
    "        * pop()\n",
    "        * popiteam()\n",
    "        * del \n",
    "        * get(key)\n",
    "        * keys()\n",
    "        * values()\n",
    "    \n",
    "    \n",
    "    Note : [SHOW IN SPYDER FOR BETTER UNDERSTANDING]\n",
    "    \n",
    "    Remove all items: clear() \n",
    "    Remove an item by index and get its value: pop()\n",
    "    Remove an item by value: remove()\n",
    "    Remove items by index or slice: del\n",
    "    Remove items that meet the condition: List comprehensions\n",
    "    "
   ]
  },
  {
   "cell_type": "code",
   "execution_count": 27,
   "id": "213934e3",
   "metadata": {},
   "outputs": [
    {
     "name": "stdout",
     "output_type": "stream",
     "text": [
      "13\n",
      "pqr\n",
      "[13.4, 'abc', 'xyz']\n",
      "['ahue', 13, 13.4, 'abc']\n",
      "['hello', 13, 13.4, 'abc', 'xyz', 'pqr']\n",
      "6\n",
      "['hello', 13, 13.4, 'abc', 'xyz', 'pqr', 'shah']\n",
      "['hello', 'urmay', 13, 13.4, 'abc', 'xyz', 'pqr', 'shah']\n",
      "['hello', 'urmay', 13, 'abc', 'xyz', 'pqr', 'shah']\n",
      "['hello', 'urmay', 'abc', 'xyz', 'pqr']\n"
     ]
    },
    {
     "ename": "TypeError",
     "evalue": "remove() takes exactly one argument (2 given)",
     "output_type": "error",
     "traceback": [
      "\u001b[1;31m---------------------------------------------------------------------------\u001b[0m",
      "\u001b[1;31mTypeError\u001b[0m                                 Traceback (most recent call last)",
      "\u001b[1;32m<ipython-input-27-75b29ac03e00>\u001b[0m in \u001b[0;36m<module>\u001b[1;34m\u001b[0m\n\u001b[0;32m     21\u001b[0m \u001b[1;31m#\u001b[0m\u001b[1;33m\u001b[0m\u001b[1;33m\u001b[0m\u001b[1;33m\u001b[0m\u001b[0m\n\u001b[0;32m     22\u001b[0m \u001b[1;31m#a.pop(2:4) a.pop(2,3,4)\u001b[0m\u001b[1;33m\u001b[0m\u001b[1;33m\u001b[0m\u001b[1;33m\u001b[0m\u001b[0m\n\u001b[1;32m---> 23\u001b[1;33m \u001b[0ma\u001b[0m\u001b[1;33m.\u001b[0m\u001b[0mremove\u001b[0m\u001b[1;33m(\u001b[0m\u001b[1;34m\"hello\"\u001b[0m\u001b[1;33m,\u001b[0m\u001b[1;34m\"urmay\"\u001b[0m\u001b[1;33m)\u001b[0m\u001b[1;33m\u001b[0m\u001b[1;33m\u001b[0m\u001b[0m\n\u001b[0m\u001b[0;32m     24\u001b[0m \u001b[0mprint\u001b[0m\u001b[1;33m(\u001b[0m\u001b[0ma\u001b[0m\u001b[1;33m)\u001b[0m\u001b[1;33m\u001b[0m\u001b[1;33m\u001b[0m\u001b[0m\n",
      "\u001b[1;31mTypeError\u001b[0m: remove() takes exactly one argument (2 given)"
     ]
    }
   ],
   "source": [
    "a=[\"ahue\",13,13.40,\"abc\",\"xyz\",\"pqr\"]\n",
    "\n",
    "print(a[1])\n",
    "\n",
    "print(a[-1])\n",
    "print(a[2:5])\n",
    "print(a[:4])\n",
    "a[0]=\"hello\"\n",
    "print(a)\n",
    "print(len(a))\n",
    "a.append(\"shah\")\n",
    "print(a)\n",
    "a.insert(1,\"urmay\")\n",
    "print(a)\n",
    "a.remove(13.4)#we are using value as a parameter #only one value can be deleted at a time \n",
    "print(a)\n",
    "a.pop()\n",
    "a.pop(2)#we are using index as the parameter # it returns the value # only one value can be deleted at a time \n",
    "print(a)\n",
    "\n",
    "#\n",
    "#a.pop(2:4) a.pop(2,3,4)\n",
    "#a.remove(\"hello\",\"urmay\")\n",
    "print(a)\n",
    "\n"
   ]
  },
  {
   "cell_type": "code",
   "execution_count": 32,
   "id": "f9245712",
   "metadata": {},
   "outputs": [
    {
     "name": "stdout",
     "output_type": "stream",
     "text": [
      "[2, 3, 4, 5, 6]\n",
      "{'x': '12'}\n"
     ]
    }
   ],
   "source": [
    "b=[2,3,4,5,6]\n",
    "print(b)\n",
    "del b\n",
    "qa={\"x\":\"12\"}\n",
    "print(qa)\n",
    "#print(b)"
   ]
  },
  {
   "cell_type": "code",
   "execution_count": 1,
   "id": "f0ca4ec6",
   "metadata": {},
   "outputs": [
    {
     "name": "stdout",
     "output_type": "stream",
     "text": [
      "['hello', 'how']\n",
      "['hello', 'how']\n"
     ]
    }
   ],
   "source": [
    "a=[\"hello\"]\n",
    "b=a\n",
    "a.append(\"how\")\n",
    "print(a)\n",
    "print(b)"
   ]
  },
  {
   "cell_type": "code",
   "execution_count": 2,
   "id": "9958aeb9",
   "metadata": {},
   "outputs": [
    {
     "name": "stdout",
     "output_type": "stream",
     "text": [
      "['hello', 'how']\n",
      "['hello']\n"
     ]
    }
   ],
   "source": [
    "a=[\"hello\"]\n",
    "c=a.copy()\n",
    "a.append(\"how\")\n",
    "print(a)\n",
    "print(c)"
   ]
  },
  {
   "cell_type": "code",
   "execution_count": 3,
   "id": "81d5709d",
   "metadata": {},
   "outputs": [
    {
     "name": "stdout",
     "output_type": "stream",
     "text": [
      "['hello', 'how']\n",
      "['hello']\n"
     ]
    }
   ],
   "source": [
    "a=[\"hello\"]\n",
    "d=list(a)\n",
    "a.append(\"how\")\n",
    "print(a)\n",
    "print(d)"
   ]
  },
  {
   "cell_type": "code",
   "execution_count": 41,
   "id": "b6b1d88a",
   "metadata": {},
   "outputs": [
    {
     "name": "stdout",
     "output_type": "stream",
     "text": [
      "['hello', 'how']\n",
      "['hello', 'how']\n",
      "+++++++++++\n",
      "list a: ['hello', 'how', 'u']\n",
      "list b: ['hello', 'how', 'u']\n",
      "list c: ['hello', 'how']\n",
      "list d: ['hello', 'how']\n"
     ]
    }
   ],
   "source": [
    "#copy list:\n",
    "a=[\"hello\"]\n",
    "b=a\n",
    "a.append(\"how\")\n",
    "print(a)\n",
    "print(b)\n",
    "c=a.copy()\n",
    "d=list(a)\n",
    "a.append(\"u\")\n",
    "print(\"+++++++++++\")\n",
    "print(\"list a:\" ,a)\n",
    "print(\"list b:\" , b)\n",
    "print(\"list c:\" , c)\n",
    "print(\"list d:\" , d)"
   ]
  },
  {
   "cell_type": "code",
   "execution_count": 48,
   "id": "84a1e019",
   "metadata": {},
   "outputs": [
    {
     "name": "stdout",
     "output_type": "stream",
     "text": [
      "r3 values ['hi', ['1', '2']]\n",
      "r4 values ['hi', ['1', '2'], '1', '2']\n"
     ]
    }
   ],
   "source": [
    "r1=[\"hi\"]\n",
    "\n",
    "#r1.extend(\"1\",\"2\")\n",
    "#r1.append(\"1\",\"2\")\n",
    "\n",
    "r2=[\"1\",\"2\"]\n",
    "r1.append(r2)\n",
    "print(\"r3 values\",r1)\n",
    "r1.extend(r2)\n",
    "print(\"r4 values\",r1)\n"
   ]
  },
  {
   "cell_type": "code",
   "execution_count": 3,
   "id": "8a7a67c8",
   "metadata": {},
   "outputs": [
    {
     "name": "stdout",
     "output_type": "stream",
     "text": [
      "type of tup1: <class 'tuple'>\n",
      "type of tup2: <class 'tuple'>\n",
      "4\n",
      "0\n"
     ]
    }
   ],
   "source": [
    "tup=(\"a\",\"b\",\"c\")\n",
    "#tup[4]=\"d\"\n",
    "print(\"type of tup1:\", type(tup))\n",
    "tup2=tuple((\"d\",\"c\"))\n",
    "print(\"type of tup2:\",type(tup2))\n",
    "del tup2\n",
    "#print(tup2)\n",
    "tup3=(\"1\",\"1\",\"1\",\"1\",\"2\",\"3\")\n",
    "print(tup3.count(\"1\"))\n",
    "print(tup3.index(\"1\"))"
   ]
  },
  {
   "cell_type": "code",
   "execution_count": 64,
   "id": "2602b8b8",
   "metadata": {},
   "outputs": [
    {
     "data": {
      "text/plain": [
       "'1'"
      ]
     },
     "execution_count": 64,
     "metadata": {},
     "output_type": "execute_result"
    }
   ],
   "source": [
    "tup5=(\"1\",2)\n",
    "tup5[0]"
   ]
  },
  {
   "cell_type": "code",
   "execution_count": 6,
   "id": "428a02fc",
   "metadata": {},
   "outputs": [
    {
     "name": "stdout",
     "output_type": "stream",
     "text": [
      "<class 'set'>\n",
      "{'pqr', 'abc'}\n"
     ]
    }
   ],
   "source": [
    "a={\"abc\",\"pqr\",\"abc\"}\n",
    "print(type(a))\n",
    "print(a)\n",
    "#a.remove(\"abc\")\n"
   ]
  },
  {
   "cell_type": "code",
   "execution_count": 16,
   "id": "01971fa7",
   "metadata": {},
   "outputs": [
    {
     "name": "stdout",
     "output_type": "stream",
     "text": [
      "zx\n",
      "xx\n",
      "px\n",
      "['zx', 'xx', 'px']\n"
     ]
    }
   ],
   "source": [
    "ls=[\"z\",\"x\",\"p\"]\n",
    "final_ls=[]\n",
    "#print(len(ls))\n",
    "for val in ls:\n",
    "    new_val=val+\"x\"\n",
    "    print(new_val)\n",
    "    final_ls.append(new_val)\n",
    "print(final_ls)\n",
    "final_output=[\"zx\",\"xx\",\"px\"]"
   ]
  },
  {
   "cell_type": "code",
   "execution_count": 22,
   "id": "d55ab5e2",
   "metadata": {},
   "outputs": [
    {
     "name": "stdout",
     "output_type": "stream",
     "text": [
      "<class 'list'>\n",
      "<class 'list'>\n",
      "<class 'list'>\n"
     ]
    }
   ],
   "source": [
    "ls=[\"z\",\"x\",\"p\"]\n",
    "final_ls=[]\n",
    "#print(len(ls))\n",
    "for val in ls:\n",
    "    final_ls=val+\"x\"\n",
    "    print(type([final_ls]))\n",
    "\n",
    "[['zx'],['xx'],['px']]\n",
    "final_output=[\"zx\",\"xx\",\"px\"]"
   ]
  },
  {
   "cell_type": "code",
   "execution_count": 70,
   "id": "7fdd0b22",
   "metadata": {},
   "outputs": [
    {
     "name": "stdout",
     "output_type": "stream",
     "text": [
      "{1, 2, 3, 4, 5, 6}\n",
      "{1, 2, 3, 4, 5, 6}\n"
     ]
    }
   ],
   "source": [
    "u={1,2,3}\n",
    "v={4,5,6}\n",
    "s=u.union(v)\n",
    "u.update(v)\n",
    "print(s)\n",
    "print(u)"
   ]
  },
  {
   "cell_type": "code",
   "execution_count": 75,
   "id": "9bdc78f6",
   "metadata": {},
   "outputs": [
    {
     "name": "stdout",
     "output_type": "stream",
     "text": [
      "[1, 2, 3]\n",
      "[23, 4]\n",
      "[4, 5]\n",
      "[]\n",
      "[23, 4]\n"
     ]
    },
    {
     "ename": "NameError",
     "evalue": "name 'c' is not defined",
     "output_type": "error",
     "traceback": [
      "\u001b[1;31m---------------------------------------------------------------------------\u001b[0m",
      "\u001b[1;31mNameError\u001b[0m                                 Traceback (most recent call last)",
      "\u001b[1;32m<ipython-input-75-56992154c9ba>\u001b[0m in \u001b[0;36m<module>\u001b[1;34m\u001b[0m\n\u001b[0;32m     10\u001b[0m \u001b[0mprint\u001b[0m\u001b[1;33m(\u001b[0m\u001b[0mb\u001b[0m\u001b[1;33m)\u001b[0m\u001b[1;33m\u001b[0m\u001b[1;33m\u001b[0m\u001b[0m\n\u001b[0;32m     11\u001b[0m \u001b[1;32mdel\u001b[0m \u001b[0mc\u001b[0m\u001b[1;33m\u001b[0m\u001b[1;33m\u001b[0m\u001b[0m\n\u001b[1;32m---> 12\u001b[1;33m \u001b[0mprint\u001b[0m\u001b[1;33m(\u001b[0m\u001b[0mc\u001b[0m\u001b[1;33m)\u001b[0m\u001b[1;33m\u001b[0m\u001b[1;33m\u001b[0m\u001b[0m\n\u001b[0m",
      "\u001b[1;31mNameError\u001b[0m: name 'c' is not defined"
     ]
    }
   ],
   "source": [
    "a=[1,2,3]\n",
    "print(a)\n",
    "b=[23,4]\n",
    "print(b)\n",
    "c=[4,5]\n",
    "print(c)\n",
    "a.clear()\n",
    "print(a)\n",
    "#b.remove()\n",
    "print(b)\n",
    "del c\n",
    "print(c)"
   ]
  },
  {
   "cell_type": "code",
   "execution_count": 81,
   "id": "0cc6ee41",
   "metadata": {},
   "outputs": [
    {
     "name": "stdout",
     "output_type": "stream",
     "text": [
      "Ford\n",
      "dict_keys(['brand', 'model', 'year'])\n",
      "dict_values(['Ford', 'Mustang', 1964])\n",
      "dict_items([('brand', 'Ford'), ('model', 'Mustang'), ('year', 1964)])\n"
     ]
    }
   ],
   "source": [
    "thisdict = {\n",
    "  \"brand\": \"Ford\",\n",
    "  \"model\": \"Mustang\",\n",
    "  \"year\": 1964\n",
    "}\n",
    "print(thisdict[\"brand\"])\n",
    "\n",
    "print(thisdict.keys())\n",
    "print(thisdict.values())\n",
    "print(thisdict.items())"
   ]
  },
  {
   "cell_type": "code",
   "execution_count": 43,
   "id": "754ab35b",
   "metadata": {},
   "outputs": [
    {
     "name": "stdout",
     "output_type": "stream",
     "text": [
      "['x', 'x', 'y', 'x', 'y']\n"
     ]
    }
   ],
   "source": [
    "my_list=[\"x\",\"x\",\"y\"]\n",
    "my_list.extend([\"x\",\"y\"])\n",
    "print(my_list)"
   ]
  },
  {
   "cell_type": "code",
   "execution_count": 29,
   "id": "66f8c4ae",
   "metadata": {},
   "outputs": [
    {
     "name": "stdout",
     "output_type": "stream",
     "text": [
      "[]\n"
     ]
    }
   ],
   "source": [
    "#x=my_list.pop()\n",
    "#print(my_list)\n",
    "print(my_list)\n",
    "#my_list.clear()"
   ]
  },
  {
   "cell_type": "code",
   "execution_count": 41,
   "id": "55c767b0",
   "metadata": {},
   "outputs": [
    {
     "name": "stdout",
     "output_type": "stream",
     "text": [
      "['x', 'x', 'y', 'x', 'y', 'a']\n",
      "['x', 'x', 'y', 'x', 'y']\n"
     ]
    }
   ],
   "source": [
    "list_copy=my_list.copy()\n",
    "\n",
    "my_list.append(\"a\")\n",
    "print(my_list)\n",
    "print(list_copy)"
   ]
  },
  {
   "cell_type": "code",
   "execution_count": 38,
   "id": "aeaf60e6",
   "metadata": {},
   "outputs": [
    {
     "name": "stdout",
     "output_type": "stream",
     "text": [
      "['x', 'x', 'y', 'x', 'y', 'a', 'a']\n",
      "['x', 'x', 'y', 'x', 'y', 'a', 'a']\n"
     ]
    }
   ],
   "source": [
    "list_equal=my_list\n",
    "\n",
    "my_list.append(\"a\")\n",
    "print(my_list)\n",
    "print(list_equal)"
   ]
  },
  {
   "cell_type": "code",
   "execution_count": 44,
   "id": "b4998295",
   "metadata": {},
   "outputs": [
    {
     "name": "stdout",
     "output_type": "stream",
     "text": [
      "['x', 'x', 'y', 'x', 'y', 'a']\n",
      "['x', 'x', 'y', 'x', 'y']\n"
     ]
    }
   ],
   "source": [
    "list_list=list(my_list)\n",
    "\n",
    "my_list.append(\"a\")\n",
    "print(my_list)\n",
    "print(list_list)"
   ]
  },
  {
   "cell_type": "code",
   "execution_count": 45,
   "id": "4330f530",
   "metadata": {},
   "outputs": [
    {
     "name": "stdout",
     "output_type": "stream",
     "text": [
      "['a', 'b']\n"
     ]
    }
   ],
   "source": [
    "ls_1=[\"a\"]\n",
    "ls_2=[\"b\"]\n",
    "ls_3=ls_1+ls_2\n",
    "print(ls_3)\n"
   ]
  },
  {
   "cell_type": "code",
   "execution_count": 46,
   "id": "f4682d2b",
   "metadata": {},
   "outputs": [
    {
     "name": "stdout",
     "output_type": "stream",
     "text": [
      "ab\n"
     ]
    }
   ],
   "source": [
    "\n",
    "val_1=\"a\"\n",
    "val_2=\"b\"\n",
    "val_3=val_1+val_2\n",
    "print(val_3)"
   ]
  },
  {
   "cell_type": "code",
   "execution_count": 50,
   "id": "6573008d",
   "metadata": {},
   "outputs": [
    {
     "name": "stdout",
     "output_type": "stream",
     "text": [
      "<class 'tuple'>\n",
      "<class 'list'>\n"
     ]
    },
    {
     "ename": "AttributeError",
     "evalue": "'tuple' object has no attribute 'insert'",
     "output_type": "error",
     "traceback": [
      "\u001b[1;31m---------------------------------------------------------------------------\u001b[0m",
      "\u001b[1;31mAttributeError\u001b[0m                            Traceback (most recent call last)",
      "\u001b[1;32m<ipython-input-50-5ee909fa9326>\u001b[0m in \u001b[0;36m<module>\u001b[1;34m\u001b[0m\n\u001b[0;32m      5\u001b[0m \u001b[1;33m\u001b[0m\u001b[0m\n\u001b[0;32m      6\u001b[0m \u001b[0mlis_1\u001b[0m\u001b[1;33m.\u001b[0m\u001b[0minsert\u001b[0m\u001b[1;33m(\u001b[0m\u001b[1;36m1\u001b[0m\u001b[1;33m,\u001b[0m\u001b[1;34m\"new\"\u001b[0m\u001b[1;33m)\u001b[0m\u001b[1;33m\u001b[0m\u001b[1;33m\u001b[0m\u001b[0m\n\u001b[1;32m----> 7\u001b[1;33m \u001b[0mtup_1\u001b[0m\u001b[1;33m.\u001b[0m\u001b[0minsert\u001b[0m\u001b[1;33m(\u001b[0m\u001b[1;36m1\u001b[0m\u001b[1;33m,\u001b[0m\u001b[1;34m\"new\"\u001b[0m\u001b[1;33m)\u001b[0m\u001b[1;33m\u001b[0m\u001b[1;33m\u001b[0m\u001b[0m\n\u001b[0m",
      "\u001b[1;31mAttributeError\u001b[0m: 'tuple' object has no attribute 'insert'"
     ]
    }
   ],
   "source": [
    "tup_1=(\"hi\",\"hello\")\n",
    "lis_1=[\"hi\",\"hello\"]\n",
    "print(type(tup_1))\n",
    "print(type(lis_1))\n",
    "\n",
    "lis_1.insert(1,\"new\")\n",
    "tup_1.insert(1,\"new\")\n"
   ]
  },
  {
   "cell_type": "code",
   "execution_count": 52,
   "id": "143168fc",
   "metadata": {},
   "outputs": [
    {
     "name": "stdout",
     "output_type": "stream",
     "text": [
      "['hi', 'new', 'hello']\n",
      "['hi', 'xyz', 'hello']\n"
     ]
    }
   ],
   "source": [
    "print(lis_1)\n",
    "lis_1[1]=\"xyz\"\n",
    "print(lis_1)"
   ]
  },
  {
   "cell_type": "code",
   "execution_count": 55,
   "id": "f5f30c2c",
   "metadata": {},
   "outputs": [
    {
     "name": "stdout",
     "output_type": "stream",
     "text": [
      "('hi', 'hello')\n",
      "('hi', 'hello')\n"
     ]
    }
   ],
   "source": [
    "print(tup_1)\n",
    "#tup_1[1]=\"new\"\n",
    "print(tup_1)"
   ]
  },
  {
   "cell_type": "code",
   "execution_count": 25,
   "id": "4f963a28",
   "metadata": {},
   "outputs": [
    {
     "name": "stdout",
     "output_type": "stream",
     "text": [
      "<class 'tuple'>\n",
      "<class 'tuple'>\n"
     ]
    }
   ],
   "source": [
    "tup_3=(\"hi\")\n",
    "tup_4=tuple(\"hi\")\n",
    "print(type(tup_3))\n",
    "print(type(tup_4))"
   ]
  },
  {
   "cell_type": "code",
   "execution_count": 64,
   "id": "bbf574a7",
   "metadata": {},
   "outputs": [
    {
     "name": "stdout",
     "output_type": "stream",
     "text": [
      "<class 'tuple'>\n",
      "2\n",
      "0\n"
     ]
    }
   ],
   "source": [
    "tup_5=tuple((\"x\",\"x\",\"y\"))\n",
    "print(type(tup_5))\n",
    "\n",
    "print(tup_5.count(\"x\"))\n",
    "print(tup_5.index(\"x\"))"
   ]
  },
  {
   "cell_type": "code",
   "execution_count": 66,
   "id": "92a1f697",
   "metadata": {},
   "outputs": [
    {
     "name": "stdout",
     "output_type": "stream",
     "text": [
      "{'y', 'x'}\n",
      "{'z', 'y', 'x'}\n"
     ]
    }
   ],
   "source": [
    "set_1={\"x\",\"x\",\"y\"}\n",
    "print(set_1)\n",
    "set_1.add(\"z\")\n",
    "print(set_1)"
   ]
  },
  {
   "cell_type": "code",
   "execution_count": 73,
   "id": "9fd27ac4",
   "metadata": {},
   "outputs": [
    {
     "name": "stdout",
     "output_type": "stream",
     "text": [
      "{'z', ('p', 'q'), 's', 'y', 'x', 'r'}\n"
     ]
    }
   ],
   "source": [
    "#set_1.add((\"p\",\"q\"))\n",
    "print(set_1)"
   ]
  },
  {
   "cell_type": "code",
   "execution_count": 71,
   "id": "c9d15561",
   "metadata": {},
   "outputs": [
    {
     "name": "stdout",
     "output_type": "stream",
     "text": [
      "{'z', ('p', 'q'), 's', 'y', 'x', 'r'}\n"
     ]
    }
   ],
   "source": [
    "set_1.update({\"r\",\"s\"})\n",
    "print(set_1)"
   ]
  }
 ],
 "metadata": {
  "kernelspec": {
   "display_name": "Python 3",
   "language": "python",
   "name": "python3"
  },
  "language_info": {
   "codemirror_mode": {
    "name": "ipython",
    "version": 3
   },
   "file_extension": ".py",
   "mimetype": "text/x-python",
   "name": "python",
   "nbconvert_exporter": "python",
   "pygments_lexer": "ipython3",
   "version": "3.8.8"
  }
 },
 "nbformat": 4,
 "nbformat_minor": 5
}
