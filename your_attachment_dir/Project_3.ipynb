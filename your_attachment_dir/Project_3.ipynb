{
 "cells": [
  {
   "cell_type": "markdown",
   "id": "e3ee94f5",
   "metadata": {},
   "source": [
    "## Python ML Project 3 Linear Regression Insurance Prediction"
   ]
  },
  {
   "cell_type": "markdown",
   "id": "475a717d",
   "metadata": {},
   "source": [
    "Project Description:\n",
    "In this particular project, we are using the insurance.csv dataset that contains\n",
    "information like age, sex, bmi, children, smoker, region, charges etc. and using\n",
    "that to predict insurance charges.\n",
    "\n",
    "In addition, try various tricks and techniques in order to gain the best accuracy\n",
    "in your predictions.\n",
    "Column Details:\n",
    "1. age: self-explanatory\n",
    "2. sex: male or female\n",
    "3. bmi: body mass index\n",
    "4. children: number of children the person has\n",
    "5. smoker: Yes/No\n",
    "6. region: self-explanatory\n",
    "7. charges: self-explanatory"
   ]
  },
  {
   "cell_type": "code",
   "execution_count": 1,
   "id": "dbe5e390",
   "metadata": {},
   "outputs": [],
   "source": [
    "import pandas as pd\n",
    "import numpy as np\n",
    "import matplotlib.pyplot as plt\n",
    "from sklearn.linear_model import LinearRegression\n",
    "from sklearn.metrics import r2_score,mean_squared_error,mean_absolute_error"
   ]
  },
  {
   "cell_type": "code",
   "execution_count": 2,
   "id": "54415a3b",
   "metadata": {},
   "outputs": [
    {
     "name": "stdout",
     "output_type": "stream",
     "text": [
      "D:\\Data Science\\Project\\P3\n"
     ]
    }
   ],
   "source": [
    "cd D:\\Data Science\\Project\\P3"
   ]
  },
  {
   "cell_type": "code",
   "execution_count": 3,
   "id": "082b70d6",
   "metadata": {},
   "outputs": [
    {
     "data": {
      "text/html": [
       "<div>\n",
       "<style scoped>\n",
       "    .dataframe tbody tr th:only-of-type {\n",
       "        vertical-align: middle;\n",
       "    }\n",
       "\n",
       "    .dataframe tbody tr th {\n",
       "        vertical-align: top;\n",
       "    }\n",
       "\n",
       "    .dataframe thead th {\n",
       "        text-align: right;\n",
       "    }\n",
       "</style>\n",
       "<table border=\"1\" class=\"dataframe\">\n",
       "  <thead>\n",
       "    <tr style=\"text-align: right;\">\n",
       "      <th></th>\n",
       "      <th>age</th>\n",
       "      <th>sex</th>\n",
       "      <th>bmi</th>\n",
       "      <th>children</th>\n",
       "      <th>smoker</th>\n",
       "      <th>region</th>\n",
       "      <th>charges</th>\n",
       "    </tr>\n",
       "  </thead>\n",
       "  <tbody>\n",
       "    <tr>\n",
       "      <th>0</th>\n",
       "      <td>19</td>\n",
       "      <td>female</td>\n",
       "      <td>27.900</td>\n",
       "      <td>0</td>\n",
       "      <td>yes</td>\n",
       "      <td>southwest</td>\n",
       "      <td>16884.92400</td>\n",
       "    </tr>\n",
       "    <tr>\n",
       "      <th>1</th>\n",
       "      <td>18</td>\n",
       "      <td>male</td>\n",
       "      <td>33.770</td>\n",
       "      <td>1</td>\n",
       "      <td>no</td>\n",
       "      <td>southeast</td>\n",
       "      <td>1725.55230</td>\n",
       "    </tr>\n",
       "    <tr>\n",
       "      <th>2</th>\n",
       "      <td>28</td>\n",
       "      <td>male</td>\n",
       "      <td>33.000</td>\n",
       "      <td>3</td>\n",
       "      <td>no</td>\n",
       "      <td>southeast</td>\n",
       "      <td>4449.46200</td>\n",
       "    </tr>\n",
       "    <tr>\n",
       "      <th>3</th>\n",
       "      <td>33</td>\n",
       "      <td>male</td>\n",
       "      <td>22.705</td>\n",
       "      <td>0</td>\n",
       "      <td>no</td>\n",
       "      <td>northwest</td>\n",
       "      <td>21984.47061</td>\n",
       "    </tr>\n",
       "    <tr>\n",
       "      <th>4</th>\n",
       "      <td>32</td>\n",
       "      <td>male</td>\n",
       "      <td>28.880</td>\n",
       "      <td>0</td>\n",
       "      <td>no</td>\n",
       "      <td>northwest</td>\n",
       "      <td>3866.85520</td>\n",
       "    </tr>\n",
       "  </tbody>\n",
       "</table>\n",
       "</div>"
      ],
      "text/plain": [
       "   age     sex     bmi  children smoker     region      charges\n",
       "0   19  female  27.900         0    yes  southwest  16884.92400\n",
       "1   18    male  33.770         1     no  southeast   1725.55230\n",
       "2   28    male  33.000         3     no  southeast   4449.46200\n",
       "3   33    male  22.705         0     no  northwest  21984.47061\n",
       "4   32    male  28.880         0     no  northwest   3866.85520"
      ]
     },
     "execution_count": 3,
     "metadata": {},
     "output_type": "execute_result"
    }
   ],
   "source": [
    "df=pd.read_csv(\"Python_Linear_Regres.csv\")\n",
    "df.head()"
   ]
  },
  {
   "cell_type": "code",
   "execution_count": 4,
   "id": "779803ae",
   "metadata": {},
   "outputs": [
    {
     "name": "stdout",
     "output_type": "stream",
     "text": [
      "<class 'pandas.core.frame.DataFrame'>\n",
      "RangeIndex: 1338 entries, 0 to 1337\n",
      "Data columns (total 7 columns):\n",
      " #   Column    Non-Null Count  Dtype  \n",
      "---  ------    --------------  -----  \n",
      " 0   age       1338 non-null   int64  \n",
      " 1   sex       1338 non-null   object \n",
      " 2   bmi       1338 non-null   float64\n",
      " 3   children  1338 non-null   int64  \n",
      " 4   smoker    1338 non-null   object \n",
      " 5   region    1338 non-null   object \n",
      " 6   charges   1338 non-null   float64\n",
      "dtypes: float64(2), int64(2), object(3)\n",
      "memory usage: 73.3+ KB\n"
     ]
    }
   ],
   "source": [
    "df.info()"
   ]
  },
  {
   "cell_type": "code",
   "execution_count": 5,
   "id": "60babe1d",
   "metadata": {},
   "outputs": [
    {
     "data": {
      "text/plain": [
       "age         0\n",
       "sex         0\n",
       "bmi         0\n",
       "children    0\n",
       "smoker      0\n",
       "region      0\n",
       "charges     0\n",
       "dtype: int64"
      ]
     },
     "execution_count": 5,
     "metadata": {},
     "output_type": "execute_result"
    }
   ],
   "source": [
    "df.isnull().sum()"
   ]
  },
  {
   "cell_type": "code",
   "execution_count": 6,
   "id": "e056e46e",
   "metadata": {},
   "outputs": [
    {
     "data": {
      "text/plain": [
       "array(['female', 'male'], dtype=object)"
      ]
     },
     "execution_count": 6,
     "metadata": {},
     "output_type": "execute_result"
    }
   ],
   "source": [
    "df['sex'].unique()"
   ]
  },
  {
   "cell_type": "code",
   "execution_count": 7,
   "id": "61379a31",
   "metadata": {},
   "outputs": [
    {
     "data": {
      "text/plain": [
       "array(['yes', 'no'], dtype=object)"
      ]
     },
     "execution_count": 7,
     "metadata": {},
     "output_type": "execute_result"
    }
   ],
   "source": [
    "df['smoker'].unique()"
   ]
  },
  {
   "cell_type": "code",
   "execution_count": 8,
   "id": "90df6634",
   "metadata": {},
   "outputs": [
    {
     "data": {
      "text/plain": [
       "array(['southwest', 'southeast', 'northwest', 'northeast'], dtype=object)"
      ]
     },
     "execution_count": 8,
     "metadata": {},
     "output_type": "execute_result"
    }
   ],
   "source": [
    "df['region'].unique()"
   ]
  },
  {
   "cell_type": "code",
   "execution_count": 9,
   "id": "1c47b3e9",
   "metadata": {},
   "outputs": [],
   "source": [
    "#df=df.drop(df['region'],axis=1,inplace=Ture)"
   ]
  },
  {
   "cell_type": "markdown",
   "id": "816230e3",
   "metadata": {},
   "source": [
    "## Part-1: Data Exploration and Pre-processing"
   ]
  },
  {
   "cell_type": "raw",
   "id": "ca545e99",
   "metadata": {},
   "source": [
    "# 1) Load the given dataset"
   ]
  },
  {
   "cell_type": "code",
   "execution_count": 23,
   "id": "919d21d5",
   "metadata": {},
   "outputs": [
    {
     "data": {
      "text/html": [
       "<div>\n",
       "<style scoped>\n",
       "    .dataframe tbody tr th:only-of-type {\n",
       "        vertical-align: middle;\n",
       "    }\n",
       "\n",
       "    .dataframe tbody tr th {\n",
       "        vertical-align: top;\n",
       "    }\n",
       "\n",
       "    .dataframe thead th {\n",
       "        text-align: right;\n",
       "    }\n",
       "</style>\n",
       "<table border=\"1\" class=\"dataframe\">\n",
       "  <thead>\n",
       "    <tr style=\"text-align: right;\">\n",
       "      <th></th>\n",
       "      <th>age</th>\n",
       "      <th>sex</th>\n",
       "      <th>bmi</th>\n",
       "      <th>children</th>\n",
       "      <th>smoker</th>\n",
       "      <th>region</th>\n",
       "      <th>charges</th>\n",
       "    </tr>\n",
       "  </thead>\n",
       "  <tbody>\n",
       "    <tr>\n",
       "      <th>0</th>\n",
       "      <td>19</td>\n",
       "      <td>female</td>\n",
       "      <td>27.900</td>\n",
       "      <td>0</td>\n",
       "      <td>yes</td>\n",
       "      <td>southwest</td>\n",
       "      <td>16884.92400</td>\n",
       "    </tr>\n",
       "    <tr>\n",
       "      <th>1</th>\n",
       "      <td>18</td>\n",
       "      <td>male</td>\n",
       "      <td>33.770</td>\n",
       "      <td>1</td>\n",
       "      <td>no</td>\n",
       "      <td>southeast</td>\n",
       "      <td>1725.55230</td>\n",
       "    </tr>\n",
       "    <tr>\n",
       "      <th>2</th>\n",
       "      <td>28</td>\n",
       "      <td>male</td>\n",
       "      <td>33.000</td>\n",
       "      <td>3</td>\n",
       "      <td>no</td>\n",
       "      <td>southeast</td>\n",
       "      <td>4449.46200</td>\n",
       "    </tr>\n",
       "    <tr>\n",
       "      <th>3</th>\n",
       "      <td>33</td>\n",
       "      <td>male</td>\n",
       "      <td>22.705</td>\n",
       "      <td>0</td>\n",
       "      <td>no</td>\n",
       "      <td>northwest</td>\n",
       "      <td>21984.47061</td>\n",
       "    </tr>\n",
       "    <tr>\n",
       "      <th>4</th>\n",
       "      <td>32</td>\n",
       "      <td>male</td>\n",
       "      <td>28.880</td>\n",
       "      <td>0</td>\n",
       "      <td>no</td>\n",
       "      <td>northwest</td>\n",
       "      <td>3866.85520</td>\n",
       "    </tr>\n",
       "  </tbody>\n",
       "</table>\n",
       "</div>"
      ],
      "text/plain": [
       "   age     sex     bmi  children smoker     region      charges\n",
       "0   19  female  27.900         0    yes  southwest  16884.92400\n",
       "1   18    male  33.770         1     no  southeast   1725.55230\n",
       "2   28    male  33.000         3     no  southeast   4449.46200\n",
       "3   33    male  22.705         0     no  northwest  21984.47061\n",
       "4   32    male  28.880         0     no  northwest   3866.85520"
      ]
     },
     "execution_count": 23,
     "metadata": {},
     "output_type": "execute_result"
    }
   ],
   "source": [
    "df.head()"
   ]
  },
  {
   "cell_type": "raw",
   "id": "76dd0954",
   "metadata": {},
   "source": [
    "2) Fill Null value of children column with the value 0"
   ]
  },
  {
   "cell_type": "code",
   "execution_count": 24,
   "id": "47e0c70c",
   "metadata": {},
   "outputs": [
    {
     "data": {
      "text/plain": [
       "array([0, 1, 3, 2, 5, 4], dtype=int64)"
      ]
     },
     "execution_count": 24,
     "metadata": {},
     "output_type": "execute_result"
    }
   ],
   "source": [
    "df['children'].unique()\n",
    "# in this columns no null value"
   ]
  },
  {
   "cell_type": "raw",
   "id": "a38e2dc9",
   "metadata": {},
   "source": [
    "3) Replace the Null values of the column bmi with mean value"
   ]
  },
  {
   "cell_type": "code",
   "execution_count": 25,
   "id": "4068e56c",
   "metadata": {},
   "outputs": [],
   "source": [
    "# in this columns no null value"
   ]
  },
  {
   "cell_type": "raw",
   "id": "3b9959df",
   "metadata": {},
   "source": [
    "4) Display a scatter plot between age and children"
   ]
  },
  {
   "cell_type": "code",
   "execution_count": 26,
   "id": "68caf97c",
   "metadata": {},
   "outputs": [
    {
     "data": {
      "text/plain": [
       "Text(0.5, 1.0, 'Age vs Number Of Children')"
      ]
     },
     "execution_count": 26,
     "metadata": {},
     "output_type": "execute_result"
    },
    {
     "data": {
      "image/png": "[encoded data removed]",
      "text/plain": [
       "<Figure size 432x288 with 1 Axes>"
      ]
     },
     "metadata": {
      "needs_background": "light"
     },
     "output_type": "display_data"
    }
   ],
   "source": [
    "plt.scatter(df['age'],df['children'],marker='*',color='red')\n",
    "plt.xlabel(\"Age\")\n",
    "plt.ylabel(\"Number Of Children\")\n",
    "plt.title(\"Age vs Number Of Children\")"
   ]
  },
  {
   "cell_type": "raw",
   "id": "081b14e1",
   "metadata": {},
   "source": [
    "5) Display bar plot between bmi and children"
   ]
  },
  {
   "cell_type": "code",
   "execution_count": 27,
   "id": "7af16a2c",
   "metadata": {},
   "outputs": [],
   "source": [
    "bmi=df['bmi'].astype(int)"
   ]
  },
  {
   "cell_type": "code",
   "execution_count": 28,
   "id": "de0620ac",
   "metadata": {},
   "outputs": [
    {
     "data": {
      "text/plain": [
       "<BarContainer object of 1338 artists>"
      ]
     },
     "execution_count": 28,
     "metadata": {},
     "output_type": "execute_result"
    },
    {
     "data": {
      "image/png": "[encoded data removed]",
      "text/plain": [
       "<Figure size 1224x504 with 1 Axes>"
      ]
     },
     "metadata": {
      "needs_background": "light"
     },
     "output_type": "display_data"
    }
   ],
   "source": [
    "plt.figure(figsize=(17,7))\n",
    "plt.bar(bmi,df['children'],edgecolor=\"black\",color=\"y\")"
   ]
  },
  {
   "cell_type": "raw",
   "id": "44fdbf64",
   "metadata": {},
   "source": [
    "6) Perform encoding to convert character data into numerical data"
   ]
  },
  {
   "cell_type": "code",
   "execution_count": 29,
   "id": "864a3ac4",
   "metadata": {},
   "outputs": [],
   "source": [
    "from sklearn.preprocessing import LabelEncoder"
   ]
  },
  {
   "cell_type": "code",
   "execution_count": 30,
   "id": "81ac2133",
   "metadata": {},
   "outputs": [],
   "source": [
    "labelencode=LabelEncoder()"
   ]
  },
  {
   "cell_type": "code",
   "execution_count": 31,
   "id": "cb45cce2",
   "metadata": {},
   "outputs": [
    {
     "data": {
      "text/html": [
       "<div>\n",
       "<style scoped>\n",
       "    .dataframe tbody tr th:only-of-type {\n",
       "        vertical-align: middle;\n",
       "    }\n",
       "\n",
       "    .dataframe tbody tr th {\n",
       "        vertical-align: top;\n",
       "    }\n",
       "\n",
       "    .dataframe thead th {\n",
       "        text-align: right;\n",
       "    }\n",
       "</style>\n",
       "<table border=\"1\" class=\"dataframe\">\n",
       "  <thead>\n",
       "    <tr style=\"text-align: right;\">\n",
       "      <th></th>\n",
       "      <th>age</th>\n",
       "      <th>sex</th>\n",
       "      <th>bmi</th>\n",
       "      <th>children</th>\n",
       "      <th>smoker</th>\n",
       "      <th>region</th>\n",
       "      <th>charges</th>\n",
       "    </tr>\n",
       "  </thead>\n",
       "  <tbody>\n",
       "    <tr>\n",
       "      <th>0</th>\n",
       "      <td>19</td>\n",
       "      <td>0</td>\n",
       "      <td>27.900</td>\n",
       "      <td>0</td>\n",
       "      <td>1</td>\n",
       "      <td>3</td>\n",
       "      <td>16884.92400</td>\n",
       "    </tr>\n",
       "    <tr>\n",
       "      <th>1</th>\n",
       "      <td>18</td>\n",
       "      <td>1</td>\n",
       "      <td>33.770</td>\n",
       "      <td>1</td>\n",
       "      <td>0</td>\n",
       "      <td>2</td>\n",
       "      <td>1725.55230</td>\n",
       "    </tr>\n",
       "    <tr>\n",
       "      <th>2</th>\n",
       "      <td>28</td>\n",
       "      <td>1</td>\n",
       "      <td>33.000</td>\n",
       "      <td>3</td>\n",
       "      <td>0</td>\n",
       "      <td>2</td>\n",
       "      <td>4449.46200</td>\n",
       "    </tr>\n",
       "    <tr>\n",
       "      <th>3</th>\n",
       "      <td>33</td>\n",
       "      <td>1</td>\n",
       "      <td>22.705</td>\n",
       "      <td>0</td>\n",
       "      <td>0</td>\n",
       "      <td>1</td>\n",
       "      <td>21984.47061</td>\n",
       "    </tr>\n",
       "    <tr>\n",
       "      <th>4</th>\n",
       "      <td>32</td>\n",
       "      <td>1</td>\n",
       "      <td>28.880</td>\n",
       "      <td>0</td>\n",
       "      <td>0</td>\n",
       "      <td>1</td>\n",
       "      <td>3866.85520</td>\n",
       "    </tr>\n",
       "  </tbody>\n",
       "</table>\n",
       "</div>"
      ],
      "text/plain": [
       "   age  sex     bmi  children  smoker  region      charges\n",
       "0   19    0  27.900         0       1       3  16884.92400\n",
       "1   18    1  33.770         1       0       2   1725.55230\n",
       "2   28    1  33.000         3       0       2   4449.46200\n",
       "3   33    1  22.705         0       0       1  21984.47061\n",
       "4   32    1  28.880         0       0       1   3866.85520"
      ]
     },
     "execution_count": 31,
     "metadata": {},
     "output_type": "execute_result"
    }
   ],
   "source": [
    "df[['sex','smoker','region']]=df[['sex','smoker','region']].apply(labelencode.fit_transform)\n",
    "df.head()"
   ]
  },
  {
   "cell_type": "raw",
   "id": "14b8f310",
   "metadata": {},
   "source": [
    "7) Perform scaling"
   ]
  },
  {
   "cell_type": "code",
   "execution_count": 32,
   "id": "76a286e6",
   "metadata": {},
   "outputs": [],
   "source": [
    "#df['bmi']=df['bmi'].astype(int)"
   ]
  },
  {
   "cell_type": "code",
   "execution_count": 33,
   "id": "988303e9",
   "metadata": {},
   "outputs": [],
   "source": [
    "#df['charges']=df['charges'].astype(int)"
   ]
  },
  {
   "cell_type": "code",
   "execution_count": 34,
   "id": "b85d183e",
   "metadata": {},
   "outputs": [],
   "source": [
    "#df['age'].unique()"
   ]
  },
  {
   "cell_type": "code",
   "execution_count": 35,
   "id": "1313ab95",
   "metadata": {},
   "outputs": [],
   "source": [
    "#df['bmi'].unique()"
   ]
  },
  {
   "cell_type": "code",
   "execution_count": 36,
   "id": "f00233a3",
   "metadata": {},
   "outputs": [],
   "source": [
    "from sklearn.preprocessing import MinMaxScaler\n",
    "minmax=MinMaxScaler()"
   ]
  },
  {
   "cell_type": "code",
   "execution_count": 37,
   "id": "eb73f32c",
   "metadata": {},
   "outputs": [],
   "source": [
    "df[['age','bmi','charges']]= minmax.fit_transform(df[['age','bmi','charges']])"
   ]
  },
  {
   "cell_type": "code",
   "execution_count": 38,
   "id": "da9cdfba",
   "metadata": {},
   "outputs": [
    {
     "data": {
      "text/html": [
       "<div>\n",
       "<style scoped>\n",
       "    .dataframe tbody tr th:only-of-type {\n",
       "        vertical-align: middle;\n",
       "    }\n",
       "\n",
       "    .dataframe tbody tr th {\n",
       "        vertical-align: top;\n",
       "    }\n",
       "\n",
       "    .dataframe thead th {\n",
       "        text-align: right;\n",
       "    }\n",
       "</style>\n",
       "<table border=\"1\" class=\"dataframe\">\n",
       "  <thead>\n",
       "    <tr style=\"text-align: right;\">\n",
       "      <th></th>\n",
       "      <th>age</th>\n",
       "      <th>sex</th>\n",
       "      <th>bmi</th>\n",
       "      <th>children</th>\n",
       "      <th>smoker</th>\n",
       "      <th>region</th>\n",
       "      <th>charges</th>\n",
       "    </tr>\n",
       "  </thead>\n",
       "  <tbody>\n",
       "    <tr>\n",
       "      <th>0</th>\n",
       "      <td>0.021739</td>\n",
       "      <td>0</td>\n",
       "      <td>0.321227</td>\n",
       "      <td>0</td>\n",
       "      <td>1</td>\n",
       "      <td>3</td>\n",
       "      <td>0.251611</td>\n",
       "    </tr>\n",
       "    <tr>\n",
       "      <th>1</th>\n",
       "      <td>0.000000</td>\n",
       "      <td>1</td>\n",
       "      <td>0.479150</td>\n",
       "      <td>1</td>\n",
       "      <td>0</td>\n",
       "      <td>2</td>\n",
       "      <td>0.009636</td>\n",
       "    </tr>\n",
       "    <tr>\n",
       "      <th>2</th>\n",
       "      <td>0.217391</td>\n",
       "      <td>1</td>\n",
       "      <td>0.458434</td>\n",
       "      <td>3</td>\n",
       "      <td>0</td>\n",
       "      <td>2</td>\n",
       "      <td>0.053115</td>\n",
       "    </tr>\n",
       "    <tr>\n",
       "      <th>3</th>\n",
       "      <td>0.326087</td>\n",
       "      <td>1</td>\n",
       "      <td>0.181464</td>\n",
       "      <td>0</td>\n",
       "      <td>0</td>\n",
       "      <td>1</td>\n",
       "      <td>0.333010</td>\n",
       "    </tr>\n",
       "    <tr>\n",
       "      <th>4</th>\n",
       "      <td>0.304348</td>\n",
       "      <td>1</td>\n",
       "      <td>0.347592</td>\n",
       "      <td>0</td>\n",
       "      <td>0</td>\n",
       "      <td>1</td>\n",
       "      <td>0.043816</td>\n",
       "    </tr>\n",
       "  </tbody>\n",
       "</table>\n",
       "</div>"
      ],
      "text/plain": [
       "        age  sex       bmi  children  smoker  region   charges\n",
       "0  0.021739    0  0.321227         0       1       3  0.251611\n",
       "1  0.000000    1  0.479150         1       0       2  0.009636\n",
       "2  0.217391    1  0.458434         3       0       2  0.053115\n",
       "3  0.326087    1  0.181464         0       0       1  0.333010\n",
       "4  0.304348    1  0.347592         0       0       1  0.043816"
      ]
     },
     "execution_count": 38,
     "metadata": {},
     "output_type": "execute_result"
    }
   ],
   "source": [
    "df.head()"
   ]
  },
  {
   "cell_type": "markdown",
   "id": "e25863b0",
   "metadata": {},
   "source": [
    "## Part-2: Working with Models"
   ]
  },
  {
   "cell_type": "raw",
   "id": "f5e317d0",
   "metadata": {},
   "source": [
    "1) Separate feature data from target data"
   ]
  },
  {
   "cell_type": "code",
   "execution_count": 39,
   "id": "59995112",
   "metadata": {},
   "outputs": [
    {
     "data": {
      "text/html": [
       "<div>\n",
       "<style scoped>\n",
       "    .dataframe tbody tr th:only-of-type {\n",
       "        vertical-align: middle;\n",
       "    }\n",
       "\n",
       "    .dataframe tbody tr th {\n",
       "        vertical-align: top;\n",
       "    }\n",
       "\n",
       "    .dataframe thead th {\n",
       "        text-align: right;\n",
       "    }\n",
       "</style>\n",
       "<table border=\"1\" class=\"dataframe\">\n",
       "  <thead>\n",
       "    <tr style=\"text-align: right;\">\n",
       "      <th></th>\n",
       "      <th>age</th>\n",
       "      <th>sex</th>\n",
       "      <th>bmi</th>\n",
       "      <th>children</th>\n",
       "      <th>smoker</th>\n",
       "      <th>region</th>\n",
       "    </tr>\n",
       "  </thead>\n",
       "  <tbody>\n",
       "    <tr>\n",
       "      <th>0</th>\n",
       "      <td>0.021739</td>\n",
       "      <td>0</td>\n",
       "      <td>0.321227</td>\n",
       "      <td>0</td>\n",
       "      <td>1</td>\n",
       "      <td>3</td>\n",
       "    </tr>\n",
       "    <tr>\n",
       "      <th>1</th>\n",
       "      <td>0.000000</td>\n",
       "      <td>1</td>\n",
       "      <td>0.479150</td>\n",
       "      <td>1</td>\n",
       "      <td>0</td>\n",
       "      <td>2</td>\n",
       "    </tr>\n",
       "    <tr>\n",
       "      <th>2</th>\n",
       "      <td>0.217391</td>\n",
       "      <td>1</td>\n",
       "      <td>0.458434</td>\n",
       "      <td>3</td>\n",
       "      <td>0</td>\n",
       "      <td>2</td>\n",
       "    </tr>\n",
       "    <tr>\n",
       "      <th>3</th>\n",
       "      <td>0.326087</td>\n",
       "      <td>1</td>\n",
       "      <td>0.181464</td>\n",
       "      <td>0</td>\n",
       "      <td>0</td>\n",
       "      <td>1</td>\n",
       "    </tr>\n",
       "    <tr>\n",
       "      <th>4</th>\n",
       "      <td>0.304348</td>\n",
       "      <td>1</td>\n",
       "      <td>0.347592</td>\n",
       "      <td>0</td>\n",
       "      <td>0</td>\n",
       "      <td>1</td>\n",
       "    </tr>\n",
       "  </tbody>\n",
       "</table>\n",
       "</div>"
      ],
      "text/plain": [
       "        age  sex       bmi  children  smoker  region\n",
       "0  0.021739    0  0.321227         0       1       3\n",
       "1  0.000000    1  0.479150         1       0       2\n",
       "2  0.217391    1  0.458434         3       0       2\n",
       "3  0.326087    1  0.181464         0       0       1\n",
       "4  0.304348    1  0.347592         0       0       1"
      ]
     },
     "execution_count": 39,
     "metadata": {},
     "output_type": "execute_result"
    }
   ],
   "source": [
    "feature_data=df.drop('charges' ,axis='columns')\n",
    "feature_data.head()"
   ]
  },
  {
   "cell_type": "code",
   "execution_count": 40,
   "id": "a4ee1901",
   "metadata": {},
   "outputs": [
    {
     "data": {
      "text/plain": [
       "0    0.251611\n",
       "1    0.009636\n",
       "2    0.053115\n",
       "3    0.333010\n",
       "4    0.043816\n",
       "Name: charges, dtype: float64"
      ]
     },
     "execution_count": 40,
     "metadata": {},
     "output_type": "execute_result"
    }
   ],
   "source": [
    "target_data=df['charges']\n",
    "target_data.head()"
   ]
  },
  {
   "cell_type": "raw",
   "id": "90f156c4",
   "metadata": {},
   "source": [
    "2) Create a Linear regression model between Features and target data"
   ]
  },
  {
   "cell_type": "code",
   "execution_count": 63,
   "id": "6e4b1b7b",
   "metadata": {},
   "outputs": [],
   "source": [
    "from sklearn.model_selection import train_test_split\n",
    "x_train,x_test,y_train,y_test=train_test_split(feature_data,target_data,test_size=0.2,random_state=42)"
   ]
  },
  {
   "cell_type": "code",
   "execution_count": 64,
   "id": "664b3fe5",
   "metadata": {},
   "outputs": [
    {
     "data": {
      "text/html": [
       "<div>\n",
       "<style scoped>\n",
       "    .dataframe tbody tr th:only-of-type {\n",
       "        vertical-align: middle;\n",
       "    }\n",
       "\n",
       "    .dataframe tbody tr th {\n",
       "        vertical-align: top;\n",
       "    }\n",
       "\n",
       "    .dataframe thead th {\n",
       "        text-align: right;\n",
       "    }\n",
       "</style>\n",
       "<table border=\"1\" class=\"dataframe\">\n",
       "  <thead>\n",
       "    <tr style=\"text-align: right;\">\n",
       "      <th></th>\n",
       "      <th>age</th>\n",
       "      <th>sex</th>\n",
       "      <th>bmi</th>\n",
       "      <th>children</th>\n",
       "      <th>smoker</th>\n",
       "      <th>region</th>\n",
       "    </tr>\n",
       "  </thead>\n",
       "  <tbody>\n",
       "    <tr>\n",
       "      <th>560</th>\n",
       "      <td>0.608696</td>\n",
       "      <td>0</td>\n",
       "      <td>0.107345</td>\n",
       "      <td>2</td>\n",
       "      <td>0</td>\n",
       "      <td>1</td>\n",
       "    </tr>\n",
       "    <tr>\n",
       "      <th>1285</th>\n",
       "      <td>0.630435</td>\n",
       "      <td>0</td>\n",
       "      <td>0.224913</td>\n",
       "      <td>0</td>\n",
       "      <td>0</td>\n",
       "      <td>0</td>\n",
       "    </tr>\n",
       "    <tr>\n",
       "      <th>1142</th>\n",
       "      <td>0.739130</td>\n",
       "      <td>0</td>\n",
       "      <td>0.239440</td>\n",
       "      <td>0</td>\n",
       "      <td>0</td>\n",
       "      <td>2</td>\n",
       "    </tr>\n",
       "    <tr>\n",
       "      <th>969</th>\n",
       "      <td>0.456522</td>\n",
       "      <td>0</td>\n",
       "      <td>0.493947</td>\n",
       "      <td>5</td>\n",
       "      <td>0</td>\n",
       "      <td>2</td>\n",
       "    </tr>\n",
       "    <tr>\n",
       "      <th>486</th>\n",
       "      <td>0.782609</td>\n",
       "      <td>0</td>\n",
       "      <td>0.148238</td>\n",
       "      <td>3</td>\n",
       "      <td>0</td>\n",
       "      <td>1</td>\n",
       "    </tr>\n",
       "  </tbody>\n",
       "</table>\n",
       "</div>"
      ],
      "text/plain": [
       "           age  sex       bmi  children  smoker  region\n",
       "560   0.608696    0  0.107345         2       0       1\n",
       "1285  0.630435    0  0.224913         0       0       0\n",
       "1142  0.739130    0  0.239440         0       0       2\n",
       "969   0.456522    0  0.493947         5       0       2\n",
       "486   0.782609    0  0.148238         3       0       1"
      ]
     },
     "execution_count": 64,
     "metadata": {},
     "output_type": "execute_result"
    }
   ],
   "source": [
    "x_train.head()"
   ]
  },
  {
   "cell_type": "code",
   "execution_count": 65,
   "id": "f3d31a54",
   "metadata": {},
   "outputs": [
    {
     "data": {
      "text/plain": [
       "560     0.128845\n",
       "1285    0.118324\n",
       "1142    0.414952\n",
       "969     0.119316\n",
       "486     0.181225\n",
       "Name: charges, dtype: float64"
      ]
     },
     "execution_count": 65,
     "metadata": {},
     "output_type": "execute_result"
    }
   ],
   "source": [
    "y_train.head()"
   ]
  },
  {
   "cell_type": "code",
   "execution_count": 66,
   "id": "1d166ffe",
   "metadata": {},
   "outputs": [
    {
     "data": {
      "text/html": [
       "<div>\n",
       "<style scoped>\n",
       "    .dataframe tbody tr th:only-of-type {\n",
       "        vertical-align: middle;\n",
       "    }\n",
       "\n",
       "    .dataframe tbody tr th {\n",
       "        vertical-align: top;\n",
       "    }\n",
       "\n",
       "    .dataframe thead th {\n",
       "        text-align: right;\n",
       "    }\n",
       "</style>\n",
       "<table border=\"1\" class=\"dataframe\">\n",
       "  <thead>\n",
       "    <tr style=\"text-align: right;\">\n",
       "      <th></th>\n",
       "      <th>age</th>\n",
       "      <th>sex</th>\n",
       "      <th>bmi</th>\n",
       "      <th>children</th>\n",
       "      <th>smoker</th>\n",
       "      <th>region</th>\n",
       "    </tr>\n",
       "  </thead>\n",
       "  <tbody>\n",
       "    <tr>\n",
       "      <th>764</th>\n",
       "      <td>0.586957</td>\n",
       "      <td>0</td>\n",
       "      <td>0.247915</td>\n",
       "      <td>2</td>\n",
       "      <td>0</td>\n",
       "      <td>0</td>\n",
       "    </tr>\n",
       "    <tr>\n",
       "      <th>887</th>\n",
       "      <td>0.391304</td>\n",
       "      <td>0</td>\n",
       "      <td>0.378262</td>\n",
       "      <td>0</td>\n",
       "      <td>0</td>\n",
       "      <td>1</td>\n",
       "    </tr>\n",
       "    <tr>\n",
       "      <th>890</th>\n",
       "      <td>1.000000</td>\n",
       "      <td>0</td>\n",
       "      <td>0.293920</td>\n",
       "      <td>0</td>\n",
       "      <td>1</td>\n",
       "      <td>1</td>\n",
       "    </tr>\n",
       "    <tr>\n",
       "      <th>1293</th>\n",
       "      <td>0.608696</td>\n",
       "      <td>1</td>\n",
       "      <td>0.263250</td>\n",
       "      <td>3</td>\n",
       "      <td>0</td>\n",
       "      <td>1</td>\n",
       "    </tr>\n",
       "    <tr>\n",
       "      <th>259</th>\n",
       "      <td>0.021739</td>\n",
       "      <td>1</td>\n",
       "      <td>0.429379</td>\n",
       "      <td>0</td>\n",
       "      <td>1</td>\n",
       "      <td>1</td>\n",
       "    </tr>\n",
       "  </tbody>\n",
       "</table>\n",
       "</div>"
      ],
      "text/plain": [
       "           age  sex       bmi  children  smoker  region\n",
       "764   0.586957    0  0.247915         2       0       0\n",
       "887   0.391304    0  0.378262         0       0       1\n",
       "890   1.000000    0  0.293920         0       1       1\n",
       "1293  0.608696    1  0.263250         3       0       1\n",
       "259   0.021739    1  0.429379         0       1       1"
      ]
     },
     "execution_count": 66,
     "metadata": {},
     "output_type": "execute_result"
    }
   ],
   "source": [
    "x_test.head()"
   ]
  },
  {
   "cell_type": "code",
   "execution_count": 67,
   "id": "59c86bb3",
   "metadata": {},
   "outputs": [
    {
     "data": {
      "text/plain": [
       "764     0.127269\n",
       "887     0.066247\n",
       "890     0.450276\n",
       "1293    0.130570\n",
       "259     0.520817\n",
       "Name: charges, dtype: float64"
      ]
     },
     "execution_count": 67,
     "metadata": {},
     "output_type": "execute_result"
    }
   ],
   "source": [
    "y_test.head()"
   ]
  },
  {
   "cell_type": "code",
   "execution_count": 68,
   "id": "a203991f",
   "metadata": {},
   "outputs": [
    {
     "data": {
      "text/plain": [
       "((1070, 6), (268, 6))"
      ]
     },
     "execution_count": 68,
     "metadata": {},
     "output_type": "execute_result"
    }
   ],
   "source": [
    "x_train.shape, x_test.shape "
   ]
  },
  {
   "cell_type": "code",
   "execution_count": 69,
   "id": "39d9e4e9",
   "metadata": {},
   "outputs": [
    {
     "data": {
      "text/plain": [
       "((1070,), (268,))"
      ]
     },
     "execution_count": 69,
     "metadata": {},
     "output_type": "execute_result"
    }
   ],
   "source": [
    "y_train.shape, y_test.shape "
   ]
  },
  {
   "cell_type": "code",
   "execution_count": 70,
   "id": "75950878",
   "metadata": {},
   "outputs": [],
   "source": [
    "lin_model=LinearRegression()"
   ]
  },
  {
   "cell_type": "code",
   "execution_count": 71,
   "id": "131228d1",
   "metadata": {},
   "outputs": [
    {
     "data": {
      "text/plain": [
       "LinearRegression()"
      ]
     },
     "execution_count": 71,
     "metadata": {},
     "output_type": "execute_result"
    }
   ],
   "source": [
    "lin_model.fit(x_train,y_train)"
   ]
  },
  {
   "cell_type": "raw",
   "id": "f61b98e6",
   "metadata": {},
   "source": [
    "3) Display the test score and training score"
   ]
  },
  {
   "cell_type": "code",
   "execution_count": 72,
   "id": "725678a9",
   "metadata": {},
   "outputs": [
    {
     "data": {
      "text/plain": [
       "0.7417049283233981"
      ]
     },
     "execution_count": 72,
     "metadata": {},
     "output_type": "execute_result"
    }
   ],
   "source": [
    "# Training Data Score\n",
    "lin_model.score(x_train,y_train)"
   ]
  },
  {
   "cell_type": "code",
   "execution_count": 73,
   "id": "416be2de",
   "metadata": {},
   "outputs": [
    {
     "data": {
      "text/plain": [
       "0.7833463107364538"
      ]
     },
     "execution_count": 73,
     "metadata": {},
     "output_type": "execute_result"
    }
   ],
   "source": [
    "# Testing Data Score\n",
    "lin_model.score(x_test,y_test)"
   ]
  },
  {
   "cell_type": "raw",
   "id": "224d3d6c",
   "metadata": {},
   "source": [
    "4) Extract slope and intercept value from the model"
   ]
  },
  {
   "cell_type": "code",
   "execution_count": 74,
   "id": "8b565ca0",
   "metadata": {},
   "outputs": [],
   "source": [
    "prct_charges=lin_model.predict(x_test)"
   ]
  },
  {
   "cell_type": "code",
   "execution_count": 75,
   "id": "8b03f0ec",
   "metadata": {},
   "outputs": [
    {
     "name": "stdout",
     "output_type": "stream",
     "text": [
      "Slope: [ 1.88744789e-01 -2.99950365e-04  1.99222443e-01  6.78533546e-03\n",
      "  3.77467899e-01 -4.33025582e-03]\n"
     ]
    }
   ],
   "source": [
    "print(\"Slope:\",lin_model.coef_)"
   ]
  },
  {
   "cell_type": "code",
   "execution_count": 76,
   "id": "01857f2b",
   "metadata": {},
   "outputs": [
    {
     "name": "stdout",
     "output_type": "stream",
     "text": [
      "Intercept: -0.049201376938108915\n"
     ]
    }
   ],
   "source": [
    "print(\"Intercept:\",lin_model.intercept_)"
   ]
  },
  {
   "cell_type": "raw",
   "id": "9b24694f",
   "metadata": {},
   "source": [
    "5) Display Mean Squared Error"
   ]
  },
  {
   "cell_type": "code",
   "execution_count": 77,
   "id": "15c2ee38",
   "metadata": {},
   "outputs": [
    {
     "name": "stdout",
     "output_type": "stream",
     "text": [
      "MSE: 0.008569826799446189\n"
     ]
    }
   ],
   "source": [
    "print(\"MSE:\",mean_squared_error(y_test,prct_charges))"
   ]
  },
  {
   "cell_type": "raw",
   "id": "10ba1573",
   "metadata": {},
   "source": [
    "6) Display Mean Absolute Error"
   ]
  },
  {
   "cell_type": "code",
   "execution_count": 78,
   "id": "31f7ed04",
   "metadata": {},
   "outputs": [
    {
     "name": "stdout",
     "output_type": "stream",
     "text": [
      "MAE: 0.06682530758835466\n"
     ]
    }
   ],
   "source": [
    "print(\"MAE:\",mean_absolute_error(y_test,prct_charges))"
   ]
  },
  {
   "cell_type": "raw",
   "id": "13c310c8",
   "metadata": {},
   "source": [
    "7) Display Root mean Squared error"
   ]
  },
  {
   "cell_type": "code",
   "execution_count": 79,
   "id": "35a738c4",
   "metadata": {},
   "outputs": [
    {
     "name": "stdout",
     "output_type": "stream",
     "text": [
      "Mean Root squared error:  0.09257335901568112\n"
     ]
    }
   ],
   "source": [
    "import numpy as np\n",
    "rmse=np.math.sqrt(mean_squared_error(y_test,prct_charges))\n",
    "print('Mean Root squared error: ',rmse)"
   ]
  },
  {
   "cell_type": "code",
   "execution_count": 80,
   "id": "99668d72",
   "metadata": {},
   "outputs": [
    {
     "data": {
      "text/plain": [
       "560     0.128845\n",
       "1285    0.118324\n",
       "1142    0.414952\n",
       "969     0.119316\n",
       "486     0.181225\n",
       "          ...   \n",
       "1095    0.054899\n",
       "1130    0.119084\n",
       "1294    0.172538\n",
       "860     0.718159\n",
       "1126    0.145139\n",
       "Name: charges, Length: 1070, dtype: float64"
      ]
     },
     "execution_count": 80,
     "metadata": {},
     "output_type": "execute_result"
    }
   ],
   "source": [
    "y_train"
   ]
  },
  {
   "cell_type": "code",
   "execution_count": 81,
   "id": "f88e36fa",
   "metadata": {},
   "outputs": [
    {
     "data": {
      "text/plain": [
       "array([0.09631263, 0.11459753, 0.12934703, ..., 0.16401481, 0.57638918,\n",
       "       0.16403948])"
      ]
     },
     "execution_count": 81,
     "metadata": {},
     "output_type": "execute_result"
    }
   ],
   "source": [
    "prct_charges=lin_model.predict(x_train)\n",
    "prct_charges"
   ]
  },
  {
   "cell_type": "code",
   "execution_count": 82,
   "id": "4736e426",
   "metadata": {},
   "outputs": [
    {
     "data": {
      "text/plain": [
       "764     0.127269\n",
       "887     0.066247\n",
       "890     0.450276\n",
       "1293    0.130570\n",
       "259     0.520817\n",
       "          ...   \n",
       "109     0.733196\n",
       "575     0.177195\n",
       "535     0.078936\n",
       "543     1.000000\n",
       "846     0.139681\n",
       "Name: charges, Length: 268, dtype: float64"
      ]
     },
     "execution_count": 82,
     "metadata": {},
     "output_type": "execute_result"
    }
   ],
   "source": [
    "y_test"
   ]
  },
  {
   "cell_type": "code",
   "execution_count": 83,
   "id": "f2d106df",
   "metadata": {},
   "outputs": [
    {
     "data": {
      "text/plain": [
       "array([ 1.24544508e-01,  9.56833115e-02,  5.71236482e-01,  1.33857851e-01,\n",
       "        4.13281304e-01,  1.54335655e-01, -1.42952294e-02,  2.52533236e-01,\n",
       "       -1.04141439e-03,  1.61951799e-01,  4.29805993e-01,  1.32524836e-01,\n",
       "        6.71116593e-02,  5.95994382e-01,  6.25417979e-01,  5.75035397e-01,\n",
       "        2.26119263e-01,  5.56168956e-01,  1.28611131e-01,  4.85070382e-01,\n",
       "        4.27131451e-02,  1.42843746e-01,  1.90060510e-02,  9.50147959e-02,\n",
       "        1.63299832e-01,  1.88127197e-01,  2.12725945e-01,  8.11477001e-02,\n",
       "        1.40388467e-01,  1.78396205e-02,  1.26717702e-01,  1.91523786e-01,\n",
       "        5.58006993e-02,  3.74476047e-02,  5.23695138e-02,  1.89087240e-01,\n",
       "        1.28585743e-02,  1.21886997e-01,  5.14017895e-01,  5.03069919e-01,\n",
       "        4.35851027e-02,  5.18531170e-02,  2.06850525e-01,  1.65315230e-01,\n",
       "        1.23025784e-01,  1.74373973e-01,  6.70555182e-02,  3.15863303e-02,\n",
       "        5.49489642e-01,  1.28969266e-01,  2.35797361e-01,  2.04979373e-02,\n",
       "        1.79982552e-01,  4.98067798e-03,  1.96752618e-01,  1.81930262e-01,\n",
       "        5.06542057e-02,  4.96113699e-01,  1.93800121e-01,  1.87079115e-01,\n",
       "        2.07348165e-01,  1.50517755e-01,  2.42244913e-01,  1.06886454e-01,\n",
       "        1.70246527e-01,  4.77488286e-02,  4.06630694e-01,  1.57657126e-01,\n",
       "        1.71089916e-02,  8.00893499e-02,  1.52384391e-01,  1.66835977e-01,\n",
       "        1.58331647e-01,  1.29367872e-01,  1.73756127e-01,  9.08170792e-02,\n",
       "        9.68890908e-02,  1.54324093e-01,  8.80706439e-02,  1.21152952e-01,\n",
       "        4.31435641e-02,  5.66042137e-01,  8.30017323e-02,  4.73353652e-01,\n",
       "        5.38778559e-01,  5.44299957e-01,  9.50978610e-02,  1.88109316e-01,\n",
       "        1.41540259e-01,  2.12099615e-01,  2.63546173e-01,  5.46029943e-01,\n",
       "        5.08525143e-01,  8.00391095e-02,  4.93708347e-01,  1.32493545e-01,\n",
       "        4.53051606e-01,  4.16747922e-02,  4.34773431e-01,  7.43478349e-02,\n",
       "        6.91937419e-02,  1.12663547e-02,  1.66452831e-01,  2.21729175e-01,\n",
       "        1.68177406e-01,  5.17453639e-02,  1.41039999e-01,  4.89393462e-01,\n",
       "       -1.99690254e-02,  5.07091081e-01,  3.34774149e-02,  1.45296675e-01,\n",
       "        2.09797590e-01,  4.86244059e-01,  1.64213242e-01,  4.38299215e-02,\n",
       "        1.90551495e-01,  4.88988985e-01,  1.13207490e-01,  3.45708046e-02,\n",
       "        1.15904647e-01,  1.51873585e-01,  2.24042230e-01,  7.31163584e-02,\n",
       "        4.33322565e-02,  1.46063404e-01,  1.56982300e-01,  1.58821516e-01,\n",
       "        2.13489030e-01,  1.01439786e-01,  6.90983221e-02,  1.30352951e-01,\n",
       "        1.32121603e-01,  1.81240348e-01,  1.14232388e-01,  2.25827712e-01,\n",
       "        1.15408943e-01,  4.88702439e-01,  5.53839087e-01,  4.85658035e-01,\n",
       "        7.88804501e-02,  1.82437064e-01,  7.89643573e-02,  2.15129376e-01,\n",
       "        2.29786902e-02,  5.07412179e-01,  8.28967936e-02,  6.15760787e-02,\n",
       "        2.11701432e-01,  9.19777243e-02,  5.99921514e-01,  3.21588405e-02,\n",
       "        7.67970290e-02,  4.86903011e-01,  1.67193658e-01,  1.16457025e-01,\n",
       "        2.17597362e-01,  1.39789168e-01,  4.15629118e-01,  5.15145593e-01,\n",
       "        2.13527860e-01,  9.80214510e-03,  1.91491494e-01,  1.68403964e-02,\n",
       "        6.81021059e-02,  1.67618575e-01,  6.16438674e-01,  5.65427441e-01,\n",
       "        5.23920519e-01,  4.33889104e-02,  1.00411908e-01,  1.19409794e-01,\n",
       "        1.79743683e-01,  5.97583210e-02,  1.39282215e-02,  4.95732449e-01,\n",
       "        3.82002586e-01,  2.62004374e-01,  4.04625378e-01,  1.45188622e-01,\n",
       "        5.76046188e-01, -2.55240001e-02,  9.12937819e-02,  1.05325773e-01,\n",
       "        5.11225583e-02,  6.42667571e-02,  7.57402088e-02,  4.99692609e-02,\n",
       "        2.25277410e-01,  1.60613725e-01,  9.16850693e-02,  2.15743122e-02,\n",
       "        5.90871249e-03,  4.90905002e-01,  2.44954467e-01,  1.74768108e-01,\n",
       "        3.18283605e-03,  1.81330763e-01,  6.29898358e-03,  1.20776707e-01,\n",
       "        1.28992708e-02,  5.24244648e-01,  1.56113545e-01,  2.44343721e-02,\n",
       "        3.92911878e-01,  4.03646668e-01,  1.33478678e-01,  1.17509107e-02,\n",
       "        1.94585290e-01, -7.43516051e-04,  1.47203517e-01,  1.51931513e-01,\n",
       "        2.51359462e-01,  4.11624626e-01,  9.39695563e-02,  6.41927742e-02,\n",
       "        7.64493606e-02,  1.94343573e-01,  1.60403491e-01,  1.16492656e-01,\n",
       "        6.46867549e-02,  1.79126304e-01,  2.04001970e-01,  5.53906214e-01,\n",
       "        4.91412025e-02,  4.44593033e-01, -3.32196899e-02,  2.86849179e-02,\n",
       "        1.59439252e-01,  2.33204619e-01,  6.61130825e-02,  9.30741453e-02,\n",
       "        4.28215145e-02,  4.81014105e-01,  9.87048257e-02,  1.81001215e-01,\n",
       "        7.25051548e-02,  1.33209574e-01,  5.62484073e-01,  5.37081556e-02,\n",
       "        1.35860262e-01,  4.78410895e-01,  7.44800361e-02,  5.65709388e-02,\n",
       "       -3.38206448e-04,  5.99528391e-02,  5.42616838e-02,  8.50280459e-02,\n",
       "        2.80598953e-01, -4.15815936e-02,  1.91213374e-02,  1.51791002e-01,\n",
       "        3.15794133e-02,  1.44427102e-01,  4.23895127e-02,  6.48488470e-02,\n",
       "        1.79195455e-01,  8.20135031e-02,  1.12829504e-01,  1.02399724e-01,\n",
       "        1.25323422e-01,  1.50399305e-01,  4.26929681e-01,  6.06479995e-01,\n",
       "        1.70677230e-01,  1.04012518e-01,  6.35883914e-01,  1.77759164e-01])"
      ]
     },
     "execution_count": 83,
     "metadata": {},
     "output_type": "execute_result"
    }
   ],
   "source": [
    "prct_charges=lin_model.predict(x_test)\n",
    "prct_charges"
   ]
  }
 ],
 "metadata": {
  "kernelspec": {
   "display_name": "Python 3",
   "language": "python",
   "name": "python3"
  },
  "language_info": {
   "codemirror_mode": {
    "name": "ipython",
    "version": 3
   },
   "file_extension": ".py",
   "mimetype": "text/x-python",
   "name": "python",
   "nbconvert_exporter": "python",
   "pygments_lexer": "ipython3",
   "version": "3.8.8"
  }
 },
 "nbformat": 4,
 "nbformat_minor": 5
}
